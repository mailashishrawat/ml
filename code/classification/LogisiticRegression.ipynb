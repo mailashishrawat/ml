{
 "cells": [
  {
   "cell_type": "code",
   "execution_count": 2,
   "metadata": {},
   "outputs": [
    {
     "name": "stdout",
     "output_type": "stream",
     "text": [
      "Gini impurity: 0.6666666666666667\n"
     ]
    }
   ],
   "source": [
    "# gini index calcuation \n",
    "#G=summation of P(j/k)*(1-P(j/k))\n",
    "\n",
    "from sklearn.tree import DecisionTreeClassifier\n",
    "from sklearn.datasets import load_iris\n",
    "\n",
    "# Load example dataset (Iris dataset)\n",
    "iris = load_iris()\n",
    "X = iris.data\n",
    "y = iris.target\n",
    "\n",
    "# Initialize DecisionTreeClassifier\n",
    "clf = DecisionTreeClassifier()\n",
    "\n",
    "# Fit the classifier to the data\n",
    "clf.fit(X, y)\n",
    "\n",
    "# Calculate Gini impurity\n",
    "gini_impurity = clf.tree_.impurity[0]\n",
    "print(\"Gini impurity:\", gini_impurity)\n",
    "\n"
   ]
  },
  {
   "cell_type": "code",
   "execution_count": 3,
   "metadata": {},
   "outputs": [
    {
     "name": "stdout",
     "output_type": "stream",
     "text": [
      "0.4212669438\n",
      "0.0\n",
      "0.4954646712\n",
      "0.09095551145109604\n"
     ]
    }
   ],
   "source": [
    "#gini index for 2 item \n",
    "\n",
    "#0.4212648022171831\n",
    "# 0.0\n",
    "# 0.4954648526077098\n",
    "# 0.07420005039052668\n",
    "# 0.06802138658249718\n",
    "k=.30159\n",
    "j=.69841\n",
    "\n",
    "gini0=2*j*k \n",
    "print(gini0)\n",
    "\n",
    "k2=21/21\n",
    "j2=1-k2\n",
    "p2=.3333\n",
    "\n",
    "gini2=2*j2*k2 \n",
    "print(gini2)\n",
    "\n",
    "k3=.45238\n",
    "j3=1-k3\n",
    "p3=.66667\n",
    "\n",
    "\n",
    "gini3=2*j3*k3\n",
    "print(gini3)\n",
    "\n",
    "\n",
    "\n",
    "# differnece in gini coefficient \n",
    "ginidiff= gini0-gini2*p2-gini3*p3\n",
    "print(ginidiff)"
   ]
  },
  {
   "cell_type": "code",
   "execution_count": 4,
   "metadata": {},
   "outputs": [
    {
     "name": "stdout",
     "output_type": "stream",
     "text": [
      "Entropy: 0.8832258279230543\n"
     ]
    }
   ],
   "source": [
    "# entropy calculation \n",
    "from scipy.stats import entropy\n",
    "\n",
    "# Define probabilities of events (as a list or array)\n",
    "probabilities = [0.30159,0.69841]\n",
    "\n",
    "# Calculate entropy\n",
    "entropy_value = entropy(probabilities, base=2)  # base=2 for binary entropy\n",
    "print(\"Entropy:\", entropy_value)"
   ]
  },
  {
   "cell_type": "code",
   "execution_count": 5,
   "metadata": {},
   "outputs": [
    {
     "name": "stdout",
     "output_type": "stream",
     "text": [
      "creditsdf:\n",
      "     duration  amount  inst_rate  residing_since  age  num_credits  \\\n",
      "0           6    1169          4               4   67            2   \n",
      "1          48    5951          2               2   22            1   \n",
      "2          12    2096          2               3   49            1   \n",
      "3          42    7882          2               4   45            1   \n",
      "4          24    4870          3               4   53            2   \n",
      "..        ...     ...        ...             ...  ...          ...   \n",
      "995        12    1736          3               4   31            1   \n",
      "996        30    3857          4               4   40            1   \n",
      "997        12     804          4               4   38            1   \n",
      "998        45    1845          4               4   23            1   \n",
      "999        45    4576          3               4   27            1   \n",
      "\n",
      "     checkin_acc_A12  checkin_acc_A13  checkin_acc_A14  credit_history_A31  \\\n",
      "0              False            False            False               False   \n",
      "1               True            False            False               False   \n",
      "2              False            False             True               False   \n",
      "3              False            False            False               False   \n",
      "4              False            False            False               False   \n",
      "..               ...              ...              ...                 ...   \n",
      "995            False            False             True               False   \n",
      "996            False            False            False               False   \n",
      "997            False            False             True               False   \n",
      "998            False            False            False               False   \n",
      "999             True            False            False               False   \n",
      "\n",
      "     ...  present_emp_since_A74  present_emp_since_A75  personal_status_A92  \\\n",
      "0    ...                  False                   True                False   \n",
      "1    ...                  False                  False                 True   \n",
      "2    ...                   True                  False                False   \n",
      "3    ...                   True                  False                False   \n",
      "4    ...                  False                  False                False   \n",
      "..   ...                    ...                    ...                  ...   \n",
      "995  ...                   True                  False                 True   \n",
      "996  ...                  False                  False                False   \n",
      "997  ...                  False                   True                False   \n",
      "998  ...                  False                  False                False   \n",
      "999  ...                  False                  False                False   \n",
      "\n",
      "     personal_status_A93  personal_status_A94  inst_plans_A142  \\\n",
      "0                   True                False            False   \n",
      "1                  False                False            False   \n",
      "2                   True                False            False   \n",
      "3                   True                False            False   \n",
      "4                   True                False            False   \n",
      "..                   ...                  ...              ...   \n",
      "995                False                False            False   \n",
      "996                False                False            False   \n",
      "997                 True                False            False   \n",
      "998                 True                False            False   \n",
      "999                 True                False            False   \n",
      "\n",
      "     inst_plans_A143  job_A172  job_A173  job_A174  \n",
      "0               True     False      True     False  \n",
      "1               True     False      True     False  \n",
      "2               True      True     False     False  \n",
      "3               True     False      True     False  \n",
      "4               True     False      True     False  \n",
      "..               ...       ...       ...       ...  \n",
      "995             True      True     False     False  \n",
      "996             True     False     False      True  \n",
      "997             True     False      True     False  \n",
      "998             True     False      True     False  \n",
      "999             True     False      True     False  \n",
      "\n",
      "[1000 rows x 29 columns]\n"
     ]
    }
   ],
   "source": [
    "# Classification problems are an important category of problems in analytics in which the outcome variable or response variable (Y) takes discrete values. The primary objective of a classification model is to predict the probability of an observation belonging to a class, known as class probability. \n",
    "\n",
    "# Classification problems may have binary or multiple outcomes or classes. Binary outcomes are called binary classification and multiple outcomes are called multinomial classification. There are several techniques used for solving classification problems such as logistic regression, classification trees, discriminant analysis, neural networks, and support vector machines.\n",
    "\n",
    "# Binary Logistic Regression: \n",
    "\n",
    "# Logistic regression is a statistical model in which the response variable takes a discrete value and the explanatory variables can either be continuous or discrete. If the outcome variable takes only two values, then the model is called the binary logistic regression model.\n",
    "\n",
    "# The logistic function has an S-shaped curve (thus also known as the Sigmoid function\n",
    "\n",
    "import pandas as pd \n",
    "df=pd.read_csv(\"../../inputdata/German_Credit_Data.csv\")\n",
    "#df.info()\n",
    "\n",
    "xfeature=list(df.columns)\n",
    "xfeature.remove(\"status\")\n",
    "# print(\"printing xfeatures\")\n",
    "# print(xfeature)\n",
    "creditsdf= pd.get_dummies(df[xfeature],drop_first=True)\n",
    "print(\"creditsdf:\")\n",
    "print(creditsdf)\n",
    "# dfbank=pd.read_csv(\"../inputdata/bank.csv\")\n",
    "# dfbank.head(5)\n",
    "\n",
    "\n"
   ]
  },
  {
   "cell_type": "code",
   "execution_count": 6,
   "metadata": {},
   "outputs": [],
   "source": [
    "import statsmodels.api as sm\n",
    "import numpy as np\n",
    "Y =df.status\n",
    "X=sm.add_constant(creditsdf)\n",
    "from sklearn.model_selection import train_test_split\n",
    "X_train, X_test, Y_train, Y_test = train_test_split(X,Y,test_size=.3,random_state=42)\n",
    "\n",
    "\n"
   ]
  },
  {
   "cell_type": "code",
   "execution_count": 7,
   "metadata": {},
   "outputs": [
    {
     "name": "stdout",
     "output_type": "stream",
     "text": [
      "Optimization terminated successfully.\n",
      "         Current function value: 0.488938\n",
      "         Iterations 6\n",
      "const                    8.941041e-01\n",
      "duration                 4.629398e-02\n",
      "amount                   1.747666e-02\n",
      "inst_rate                1.881840e-03\n",
      "residing_since           2.932187e-01\n",
      "age                      2.689338e-02\n",
      "num_credits              1.821379e-01\n",
      "checkin_acc_A12          8.434601e-02\n",
      "checkin_acc_A13          3.690689e-02\n",
      "checkin_acc_A14          5.388728e-10\n",
      "credit_history_A31       7.915563e-01\n",
      "credit_history_A32       2.608192e-01\n",
      "credit_history_A33       7.700423e-02\n",
      "credit_history_A34       1.814378e-03\n",
      "savings_acc_A62          8.771991e-01\n",
      "savings_acc_A63          1.682236e-01\n",
      "savings_acc_A64          6.520330e-02\n",
      "savings_acc_A65          2.724103e-02\n",
      "present_emp_since_A72    8.563770e-01\n",
      "present_emp_since_A73    9.398950e-01\n",
      "present_emp_since_A74    4.289448e-01\n",
      "present_emp_since_A75    5.672866e-01\n",
      "personal_status_A92      9.886719e-01\n",
      "personal_status_A93      3.528326e-01\n",
      "personal_status_A94      5.791745e-01\n",
      "inst_plans_A142          5.638367e-01\n",
      "inst_plans_A143          1.077009e-01\n",
      "job_A172                 9.010952e-01\n",
      "job_A173                 9.785618e-01\n",
      "job_A174                 9.536888e-01\n",
      "dtype: float64\n"
     ]
    }
   ],
   "source": [
    "#pd.Series[X_train]\n",
    "logit_model=sm.Logit(Y_train,X_train.astype(float),check_rank=False).fit()\n",
    "#logit_model.summary2()\n",
    "print(logit_model.pvalues)"
   ]
  },
  {
   "cell_type": "code",
   "execution_count": 8,
   "metadata": {},
   "outputs": [],
   "source": [
    "# The model object logit_model has summary2() method, which provides details of the model, its parameters, and results of all necessary statistical tests. The model summary contains important information to validate the model.\n",
    "\n",
    "# Model Diagnostics:\n",
    "\n",
    "# It is important to validate the logistic regression model to ensure its validity and goodness of fit before it can be used for practical applications.\n",
    "\n",
    "# The  measures are used to validate a logistic regression model:\n",
    "\n",
    "# 1. Wald’s test (a Chi-square test) for checking the statistical significance of individual predictor (feature) variables. This is equivalent to a t-test in the MLR (Multiple Linear Regression) model.\n",
    "\n",
    "# 2. Likelihood ratio test for checking the statistical significance of the overall model (LLR p-value is reported in the output). The likelihood ratio test is also used for variable (feature) selection.\n",
    "\n",
    "# 3. Pseudo R2: It is a measure of the goodness of the model. It is called pseudo R2 because it does not have the same interpretation of R2 as in the MLR model.\n",
    "import pandas as pd\n",
    "\n",
    "def  getsignificantvar(lm,significancevalue=.05):\n",
    "     dfofvalues=pd.DataFrame(lm.pvalues)\n",
    "     dfofvalues['vars']=dfofvalues.index\n",
    "     dfofvalues.columns=['pvalue','vars']\n",
    "     df=dfofvalues[dfofvalues.pvalue <=.05]['vars']\n",
    "     return df\n",
    "    \n",
    "significatnvalues=list(getsignificantvar(logit_model))"
   ]
  },
  {
   "cell_type": "code",
   "execution_count": 9,
   "metadata": {},
   "outputs": [
    {
     "name": "stdout",
     "output_type": "stream",
     "text": [
      "Optimization terminated successfully.\n",
      "         Current function value: 0.511350\n",
      "         Iterations 6\n",
      "     actual  pred_prob  predicted\n",
      "521       1   0.452449          0\n",
      "737       0   0.491820          0\n",
      "740       0   0.418416          0\n",
      "660       0   0.270285          0\n",
      "411       0   0.132119          0\n",
      "..      ...        ...        ...\n",
      "468       0   0.178787          0\n",
      "935       1   0.587925          1\n",
      "428       0   0.091998          0\n",
      "7         0   0.571859          1\n",
      "155       1   0.399631          0\n",
      "\n",
      "[300 rows x 3 columns]\n"
     ]
    }
   ],
   "source": [
    "final_logit =sm.Logit(Y_train,sm.add_constant(X_train[significatnvalues]).astype(float)).fit()\n",
    "final_logit.summary2()\n",
    "y_pred=pd.DataFrame({'actual':Y_test,'pred_prob':final_logit.predict(sm.add_constant(X_test[significatnvalues].astype(float)))})\n",
    "y_pred['predicted']=y_pred['pred_prob'].map(lambda x:1 if x>.5 else 0)\n",
    "print(y_pred)"
   ]
  },
  {
   "cell_type": "code",
   "execution_count": 10,
   "metadata": {},
   "outputs": [
    {
     "data": {
      "image/png": "[encoded data removed]",
      "text/plain": [
       "<Figure size 640x480 with 2 Axes>"
      ]
     },
     "metadata": {},
     "output_type": "display_data"
    }
   ],
   "source": [
    "# A confusion matrix (also known as error matrix or classification table) is a matrix formed by checking the actual values and predicted values of observations in the dataset. To create a confusion matrix, first import matplotlib.pyplot and seaborn libraries to render all plots and charts.\n",
    "\n",
    "# sklearn.metric module provides a method to build a confusion matrix if actual and predicted values are passed as inputs parameters. For better understanding, this matrix can be plotted as a heatmap. seaborn’s heatmap function can render the confusion matrix for easier interpretation. Define a method draw_cm() that takes actual and predicted values, creates the confusion matrix and draws the heatmap.\n",
    "\n",
    "# In the confusion matrix, the columns represent the predicted label (class), while the rows represent the actual label (class). \n",
    "\n",
    "# The left-top quadrant represents actual bad credit and is correctly classified as bad credit. This is called True Positives (TP).\n",
    "# The left-down quadrant represents actual good credit and is incorrectly classified as bad credit. This is called False Positives (FP).\n",
    "# The right-top quadrant represents actual bad credit and is incorrectly classified as good credit. This is called False Negatives (FN).\n",
    "# The right-down quadrant represents actual good credit and is correctly classified as good credit. This is called True Negatives (TN).\n",
    "import matplotlib.pyplot as plt\n",
    "import seaborn as sn\n",
    "%matplotlib inline\n",
    "from sklearn import metrics\n",
    "\n",
    "def drawcm(acutal,predicted):\n",
    "    cm =metrics.confusion_matrix(y_true=acutal,y_pred= predicted)\n",
    "    sn.heatmap(cm,annot=True, fmt='.2f')\n",
    "    plt.ylabel(\"True label\")\n",
    "    plt.xlabel(\"predicted\")\n",
    "    plt.show()\n",
    "\n",
    "drawcm(y_pred['actual'], y_pred['predicted'])\n"
   ]
  },
  {
   "cell_type": "code",
   "execution_count": 11,
   "metadata": {},
   "outputs": [
    {
     "name": "stdout",
     "output_type": "stream",
     "text": [
      "classisfication report\n",
      "              precision    recall  f1-score   support\n",
      "\n",
      "           0       0.76      0.90      0.82       209\n",
      "           1       0.59      0.33      0.42        91\n",
      "\n",
      "    accuracy                           0.73       300\n",
      "   macro avg       0.67      0.61      0.62       300\n",
      "weighted avg       0.70      0.73      0.70       300\n",
      "\n"
     ]
    },
    {
     "name": "stderr",
     "output_type": "stream",
     "text": [
      "/var/folders/fl/jjn6m41x5390r7wk1j906b2c0000gr/T/ipykernel_54103/1745795234.py:23: UserWarning: \n",
      "\n",
      "`distplot` is a deprecated function and will be removed in seaborn v0.14.0.\n",
      "\n",
      "Please adapt your code to use either `displot` (a figure-level function with\n",
      "similar flexibility) or `histplot` (an axes-level function for histograms).\n",
      "\n",
      "For a guide to updating your code to use the new functions, please see\n",
      "https://gist.github.com/mwaskom/de44147ed2974457ad6372750bbe5751\n",
      "\n",
      "  sn.distplot(y_pred[y_pred['actual']==1]['pred_prob'],color='red',kde=False, label=\"Bad credit\")\n",
      "/var/folders/fl/jjn6m41x5390r7wk1j906b2c0000gr/T/ipykernel_54103/1745795234.py:24: UserWarning: \n",
      "\n",
      "`distplot` is a deprecated function and will be removed in seaborn v0.14.0.\n",
      "\n",
      "Please adapt your code to use either `displot` (a figure-level function with\n",
      "similar flexibility) or `histplot` (an axes-level function for histograms).\n",
      "\n",
      "For a guide to updating your code to use the new functions, please see\n",
      "https://gist.github.com/mwaskom/de44147ed2974457ad6372750bbe5751\n",
      "\n",
      "  sn.distplot(y_pred[y_pred['actual']==0]['pred_prob'],color='green',kde=False, label=\"Good credit\")\n"
     ]
    },
    {
     "data": {
      "image/png": "[encoded data removed]",
      "text/plain": [
       "<Figure size 800x600 with 1 Axes>"
      ]
     },
     "metadata": {},
     "output_type": "display_data"
    },
    {
     "name": "stderr",
     "output_type": "stream",
     "text": [
      "/var/folders/fl/jjn6m41x5390r7wk1j906b2c0000gr/T/ipykernel_54103/1745795234.py:30: UserWarning: \n",
      "\n",
      "`distplot` is a deprecated function and will be removed in seaborn v0.14.0.\n",
      "\n",
      "Please adapt your code to use either `displot` (a figure-level function with\n",
      "similar flexibility) or `kdeplot` (an axes-level function for kernel density plots).\n",
      "\n",
      "For a guide to updating your code to use the new functions, please see\n",
      "https://gist.github.com/mwaskom/de44147ed2974457ad6372750bbe5751\n",
      "\n",
      "  sn.distplot(y_pred[y_pred['actual']==1]['pred_prob'],color='red',kde=True,hist=False ,label=\"Bad credit\")\n",
      "/opt/anaconda3/lib/python3.11/site-packages/seaborn/_oldcore.py:1119: FutureWarning: use_inf_as_na option is deprecated and will be removed in a future version. Convert inf values to NaN before operating instead.\n",
      "  with pd.option_context('mode.use_inf_as_na', True):\n",
      "/var/folders/fl/jjn6m41x5390r7wk1j906b2c0000gr/T/ipykernel_54103/1745795234.py:31: UserWarning: \n",
      "\n",
      "`distplot` is a deprecated function and will be removed in seaborn v0.14.0.\n",
      "\n",
      "Please adapt your code to use either `displot` (a figure-level function with\n",
      "similar flexibility) or `kdeplot` (an axes-level function for kernel density plots).\n",
      "\n",
      "For a guide to updating your code to use the new functions, please see\n",
      "https://gist.github.com/mwaskom/de44147ed2974457ad6372750bbe5751\n",
      "\n",
      "  sn.distplot(y_pred[y_pred['actual']==0]['pred_prob'],color='green',kde=True,hist=False , label=\"Good credit\")\n",
      "/opt/anaconda3/lib/python3.11/site-packages/seaborn/_oldcore.py:1119: FutureWarning: use_inf_as_na option is deprecated and will be removed in a future version. Convert inf values to NaN before operating instead.\n",
      "  with pd.option_context('mode.use_inf_as_na', True):\n"
     ]
    },
    {
     "data": {
      "image/png": "[encoded data removed]",
      "text/plain": [
       "<Figure size 800x600 with 1 Axes>"
      ]
     },
     "metadata": {},
     "output_type": "display_data"
    }
   ],
   "source": [
    "# In classification, the model performance is often measured using concepts such as sensitivity, specificity, precision, and F-score. The ability of the model to correctly classify positives and negatives is called sensitivity (also known as recall or true positive rate) and specificity (also known as true negative rate), respectively. The terminologies sensitivity and specificity originated in medical diagnostics.\n",
    "\n",
    "# Sensitivity or Recall (True Positive Rate)\n",
    "\n",
    "# Sensitivity is the conditional probability that the predicted class is positive given that the actual class is positive.\n",
    "\n",
    "# Specificity (True Negative Rate)\n",
    "\n",
    "# Specificity is the conditional probability that the predicted class is negative given that the actual class is negative. \n",
    "\n",
    "# Precision\n",
    "\n",
    "# Precision is the conditional probability that the actual value is positive given that the prediction by the model is positive.\n",
    "\n",
    "# F-Score\n",
    "\n",
    "# F-Score is a measure that combines precision and recall (harmonic mean between precision and recall). \n",
    "\n",
    "print('classisfication report')\n",
    "print(metrics.classification_report(y_pred['actual'], y_pred['predicted']))\n",
    "\n",
    "plt.figure(figsize=(8,6))\n",
    "sn.distplot(y_pred[y_pred['actual']==1]['pred_prob'],color='red',kde=False, label=\"Bad credit\")\n",
    "sn.distplot(y_pred[y_pred['actual']==0]['pred_prob'],color='green',kde=False, label=\"Good credit\")\n",
    "plt.legend()\n",
    "plt.show()\n",
    "\n",
    "metrics.classification_report(y_pred['actual'], y_pred['predicted'])\n",
    "plt.figure(figsize=(8,6))\n",
    "sn.distplot(y_pred[y_pred['actual']==1]['pred_prob'],color='red',kde=True,hist=False ,label=\"Bad credit\")\n",
    "sn.distplot(y_pred[y_pred['actual']==0]['pred_prob'],color='green',kde=True,hist=False , label=\"Good credit\")\n",
    "plt.legend()\n",
    "plt.show()\n",
    "\n",
    "# a large overlap reagion between red and green means model is indecisive\n"
   ]
  },
  {
   "cell_type": "code",
   "execution_count": 12,
   "metadata": {},
   "outputs": [
    {
     "data": {
      "text/plain": [
       "0.614595930385404"
      ]
     },
     "execution_count": 12,
     "metadata": {},
     "output_type": "execute_result"
    }
   ],
   "source": [
    "# Receiver Operating Characteristic (ROC) and Area Under the Curve (AUC)\n",
    "\n",
    "# Receiver operating characteristic (ROC) curve can be used to understand the overall performance (worth) of a logistic regression model (and, in general, of classification models) and used for model selection. The term has its origin in electrical engineering when electrical signals were used for predicting enemy objects (such as submarines and aircraft) during World War II. Given a random pair of positive and negative class records, ROC gives the proportions of such pairs that will be correctly classified. ROC curve is a plot between sensitivity (true positive rate) on the vertical axis and 1 – specificity (false positive rate) on the horizontal axis. We will write a method draw_roc() which takes the actual classes and predicted probability values and then draws the ROC curve. \n",
    "\n",
    "# metrics.roc_curve() returns different threshold (cut-off) values and their corresponding false positive and true positive rates. Then these values can be taken and plotted to create the ROC curve. metrics. roc_auc_score() returns the area under the curve (AUC).\n",
    "\n",
    "metrics.roc_curve(y_pred['actual'], y_pred['predicted'])\n",
    "\n",
    "metrics.roc_auc_score(y_pred['actual'], y_pred['predicted'])"
   ]
  },
  {
   "cell_type": "code",
   "execution_count": 13,
   "metadata": {},
   "outputs": [],
   "source": [
    "# While using the logistic regression model, one of the decisions that a data scientist has to make is to choose the right classification cut-off probability (Pc ). The overall accuracy, sensitivity, and specificity will depend on the chosen cut-off probability. The following two methods are used for selecting the cut-off probability:\n",
    "\n",
    "# 1. Youden’s index\n",
    "\n",
    "# 2. Cost-based approach\n",
    "\n",
    "# Youden’s Index\n",
    "\n",
    "# Sensitivity and specificity change when we change the cut-off probability. Youden’s index (Youden, 1950) is a classification cut-off probability for which the following function is maximized:\n",
    "\n",
    "# Youden’s Index = J-Statistic = p Max [Sensitivity (p) + Specificity (p) – 1]\n",
    "\n",
    "# We already know that sensitivity is also known as True Positive Rate (TPR) and specificity is known as True Negative Rate (TNR). That is, select the cut-off probability for which (TPR + TNR – 1) is maximum.  \n",
    "# Cost-Based Approach\n",
    "\n",
    "# As the cost of false negatives and false positives is not the same, the optimal cut-off classification can also be determined using the cost-based approach, which finds the cut-off where the total cost is minimum. In the cost-based approach, we assign penalty cost for misclassification of positives and negatives and find the total cost for a cut-off probability. Assuming the cost of a false positive is C1 and that of a false negative is C2, the total cost will be\n",
    "\n",
    "# Total cost = FN * C1 + FP * C2\n",
    "\n",
    "# The optimal cut-off probability is the one that minimizes the total penalty cost. We will write a method get_total_cost() to return the penalty cost for a specific cut-off probability. The method also takes the relative cost of false negatives and false positives. The function will take actual and predicted values, find the number of false positives (FPs) and false negatives (FNs), and return the total cost."
   ]
  },
  {
   "cell_type": "code",
   "execution_count": 14,
   "metadata": {},
   "outputs": [
    {
     "ename": "SyntaxError",
     "evalue": "invalid syntax (983769990.py, line 1)",
     "output_type": "error",
     "traceback": [
      "\u001b[0;36m  Cell \u001b[0;32mIn[14], line 1\u001b[0;36m\u001b[0m\n\u001b[0;31m    Classificaiton via\u001b[0m\n\u001b[0m                   ^\u001b[0m\n\u001b[0;31mSyntaxError\u001b[0m\u001b[0;31m:\u001b[0m invalid syntax\n"
     ]
    }
   ],
   "source": []
  }
 ],
 "metadata": {
  "kernelspec": {
   "display_name": "Python 3",
   "language": "python",
   "name": "python3"
  },
  "language_info": {
   "codemirror_mode": {
    "name": "ipython",
    "version": 3
   },
   "file_extension": ".py",
   "mimetype": "text/x-python",
   "name": "python",
   "nbconvert_exporter": "python",
   "pygments_lexer": "ipython3",
   "version": "3.11.7"
  }
 },
 "nbformat": 4,
 "nbformat_minor": 2
}
