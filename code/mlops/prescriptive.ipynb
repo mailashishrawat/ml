{
 "cells": [
  {
   "cell_type": "code",
   "execution_count": 2,
   "metadata": {},
   "outputs": [
    {
     "ename": "ModuleNotFoundError",
     "evalue": "No module named 'pulp'",
     "output_type": "error",
     "traceback": [
      "\u001b[0;31m---------------------------------------------------------------------------\u001b[0m",
      "\u001b[0;31mModuleNotFoundError\u001b[0m                       Traceback (most recent call last)",
      "Cell \u001b[0;32mIn[2], line 34\u001b[0m\n\u001b[1;32m      1\u001b[0m \u001b[38;5;66;03m#Linear Programming is a powerful mathematical technique to optimize complex systems by minimizing or maximizing a linear objective function subject to linear \u001b[39;00m\n\u001b[1;32m      2\u001b[0m \u001b[38;5;66;03m# constraints. \u001b[39;00m\n\u001b[1;32m      3\u001b[0m \u001b[38;5;66;03m# Linear Programming Problems are mathematical optimisation problems that seek to maximise or minimise a linear objective function subject to a set of \u001b[39;00m\n\u001b[0;32m   (...)\u001b[0m\n\u001b[1;32m     32\u001b[0m \u001b[38;5;66;03m#slack variable: The slack variable is the amount of unused resources in the optimal solution. It is the difference between the right-hand side value \u001b[39;00m\n\u001b[1;32m     33\u001b[0m \u001b[38;5;66;03m# of the constraint and the left-hand side value of the constraint in the optimal solution.\u001b[39;00m\n\u001b[0;32m---> 34\u001b[0m \u001b[38;5;28;01mimport\u001b[39;00m \u001b[38;5;21;01mpulp\u001b[39;00m\n\u001b[1;32m     35\u001b[0m \u001b[38;5;28;01mfrom\u001b[39;00m \u001b[38;5;21;01mpulp\u001b[39;00m \u001b[38;5;28;01mimport\u001b[39;00m LpMaximize, LpProblem, LpVariable, value\n\u001b[1;32m     37\u001b[0m \u001b[38;5;66;03m# Create the problem\u001b[39;00m\n",
      "\u001b[0;31mModuleNotFoundError\u001b[0m: No module named 'pulp'"
     ]
    }
   ],
   "source": [
    "\n",
    "\n",
    "#Linear Programming is a powerful mathematical technique to optimize complex systems by minimizing or maximizing a linear objective function subject to linear \n",
    "# constraints. \n",
    "# Linear Programming Problems are mathematical optimisation problems that seek to maximise or minimise a linear objective function subject to a set of \n",
    "# linear constraints.\n",
    "# Before solving any Linear Programming Problem, it is essential to structure the given problem using suitable variables and constraints,\n",
    "# along with deciding the objective function. \n",
    "#1 Define the decision variables ( A or C) /( constraint coefficient )\n",
    "#2 Define the constraints (A>=1) . \n",
    "#3 define the objective function (maximize profit)\n",
    "\n",
    "#Contraints are of 2 types, binding and non=binding( slack), when getting the optimal solution, binding contraints would be exhausive and hold th eequality, while slack\n",
    "#will still have some room to move.The binding constraints are those that define the optimal solution and hold at equality at that optimal solution.\n",
    "\n",
    "#assumption\n",
    "#proportinality : product is produced with same amout of time, there is no gane from experience.\n",
    "#additivity: the total profit is the sum of the profit from each product\n",
    "#divisibility: we can produce any fraction of a product\n",
    "\n",
    "#infeasibility, unboundedness,  and multiple optimal solutions\n",
    "#Three common outcomes that can arise when solving linear programming problems in Prescriptive Analytics are the concepts of infeasibility, unboundedness, \n",
    "# and multiple optimal solutions .Multiple Optimal Solutions means that the given LPP has an infinite number of solutions.\n",
    "\n",
    "#Sensitivity\n",
    "#Sensitivity analysis is a powerful tool that helps us understand how the changes in certain variables impact the overall solution of a problem\n",
    "#the variable coefficients in your objective function and the ranges tell you if the objective function coefficient of this variable\n",
    "#is increased or decreased within the given range the optimal solution which is the optimal values of the decision variableswill remain unchanged.\n",
    "\n",
    "#shadow price :  \n",
    "# It is the change in the objective function value per unit increase/decrease in the right hand side value of the particular constraint\n",
    "#the shadow price of a non binding constraint will always be 0;\n",
    "\n",
    "#slack variable: The slack variable is the amount of unused resources in the optimal solution. It is the difference between the right-hand side value \n",
    "# of the constraint and the left-hand side value of the constraint in the optimal solution.\n",
    "import pulp\n",
    "from pulp import LpMaximize, LpProblem, LpVariable, value\n",
    "\n",
    "# Create the problem\n",
    "problem = LpProblem(\"Maximize Z\", LpMaximize)\n",
    "\n",
    "# Define decision variables\n",
    "x1 = LpVariable('x1', lowBound=0)\n",
    "x2 = LpVariable('x2', lowBound=0)\n",
    "\n",
    "# Define objective function\n",
    "problem += 50 * x1 + 40 * x2\n",
    "\n",
    "# Define constraints\n",
    "problem += 12 * x1 + 6*x2 <= 20400\n",
    "problem += 9*x1 + 15 * x2 <= 25200\n",
    "problem += 6*x1 + 6*x2 <= 12000\n",
    "\n",
    "# Solve the problem\n",
    "problem.solve()\n",
    "\n",
    "# Print shadow prices\n",
    "for name, constraint in problem.constraints.items():\n",
    "    print(f\"{name}: Shadow Price = {constraint.pi}\")\n",
    "\n",
    "\n"
   ]
  },
  {
   "cell_type": "code",
   "execution_count": null,
   "metadata": {},
   "outputs": [],
   "source": [
    "#Primal and Dual Problems \n",
    "\n",
    "#the primal LP is a maximization problem, then the dual LP will be a minimization problem.\n",
    "#The number of variables in the dual was exactly equal to the number of constraints in the primal.\n",
    "#that the objective function coefficients that we have in the dual LP were the original right hand side values.\n",
    "#And similarly the right hand side values that we have in the dual LP were the objective function coefficients of the primal LP.\n",
    "#If the Primal LP has n variables and m constraints, then the dual LP has m variables and n constraints.\n",
    "#Dual variable/Dual prices/Marginal worth are the shadow price of the constraints in the primal LP, which we determined during sensitivity analysis.\n",
    "#the optimal objective function values of the primal and dual problems are always equal.\n",
    "\n",
    "#weak duality \n",
    "#The weak duality property states that the objective function value of the primal LP is always less than or equal to the objective function value of the dual LP.\n",
    "\n",
    "#strong duality property.\n",
    "#Then how would the objective function value look? At this point, the objective function value of the primal would be c x. \n",
    "# We have maximized and come as far as we could on for the primal LP and similarly for the minimum value of the dual LP we have come as low as we could. \n",
    "# And at that point the two objective function values c x and b y will be equal to each other and this is called the strong duality property.\n",
    "\n",
    "#Complimantry slackness\n",
    "#It is important to note here that the dual solution values are exactly the same as the shadow prices that we had on solver for the primal problem.\n",
    "#If the value of a decision variable in the primal is not zero, then the corresponding constraint in the dual must be binding, and vice versa.\n",
    "\n",
    "#Properties \n",
    "#If one of the problems has a feasible and optimal solution, then definitely the dual problem also will have a feasible and optimal solution.\n",
    "#However, if one of the problems has a feasible solution, but turns out to be unbounded then the other problem will be infeasible.\n",
    "#And the only other option could be that if one of the problem is infeasible then the other problem would be either unbounded or infeasible.\n",
    "\n",
    "\n",
    "#how to create dual \n",
    "#1.Objective is filpped. IF object in primal is max, then in dual it will be min, the variable in primal will be the constraint in dual and vice versa. \n",
    "# if constraint in primal is <=, then in dual it will be >=\n",
    "#2. create the dual problem\n",
    " \n",
    "\n"
   ]
  },
  {
   "cell_type": "code",
   "execution_count": null,
   "metadata": {},
   "outputs": [],
   "source": [
    "#Manufacturing companies face the problem of production-inventory planning for a number of future time periods under given constraints.\n",
    "# This problem is known as the Multi-Period Production Scheduling problem. In manufacturing companies, production-inventory demand varies across\n",
    "# multiple period horizons. The main goal is to level up the production needs for individual products in this fluctuating demand."
   ]
  },
  {
   "cell_type": "code",
   "execution_count": null,
   "metadata": {},
   "outputs": [],
   "source": [
    "#simplex algo \n",
    "#The Simplex Algorithm is an iterative method that moves from one feasible solution to another, improving the objective function value at each step \n",
    "# until an optimal solution is found. Software tools like Solver use the Simplex algorithm in the background to solve the given LPPs. \n",
    "#The number of basic variables will always be equal to the number of constraints. And how many non-basic variables will we have? The number of \n",
    "# non-basic variables will always be equal to the total number of variables minus the number of constraints in general.\n",
    "\n",
    "\n",
    "#Min ratio rule\n",
    "#The Min-Ratio rule helps in determining The largest value the entering non-basic variable can take such that the new corner point solution remains feasible. \n",
    "#its also called pivot in the simplex algo.\n"
   ]
  },
  {
   "cell_type": "code",
   "execution_count": 1,
   "metadata": {},
   "outputs": [],
   "source": [
    "#Multi-Criteria Optimisation problems involves more than one objective function/goals that has to be minimised or maximised. \n",
    "# Multi-objective Optimisations has been applied in many fields including Engineering, Analytics, Management etc., \n",
    "# where optimal decision has to be made with more than one objective function. We can decide the priority for each of the objective functions of the\n",
    "# problem based on our need and concern. Then the problem can be formulated based on the priority of the objective functions.\n",
    "\n",
    "#Watch the following video to learn how to use Solver to solve the Multi-Criteria Optimisation proble"
   ]
  },
  {
   "cell_type": "code",
   "execution_count": null,
   "metadata": {},
   "outputs": [],
   "source": []
  }
 ],
 "metadata": {
  "kernelspec": {
   "display_name": "base",
   "language": "python",
   "name": "python3"
  },
  "language_info": {
   "codemirror_mode": {
    "name": "ipython",
    "version": 3
   },
   "file_extension": ".py",
   "mimetype": "text/x-python",
   "name": "python",
   "nbconvert_exporter": "python",
   "pygments_lexer": "ipython3",
   "version": "3.11.7"
  }
 },
 "nbformat": 4,
 "nbformat_minor": 2
}
