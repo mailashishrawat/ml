{
 "cells": [
  {
   "cell_type": "code",
   "execution_count": null,
   "metadata": {},
   "outputs": [],
   "source": [
    "#curate your labelled data\n",
    "#crowd source to label data eg Amazon MTurk, issue is privacy and quality \n",
    "#Company data labelling eg like Figure Eight, Scale dot ai,Labelbox and supervisely.\n",
    "#active learning, create a model usimg a small subset of data and use it for labelling. Measuer uncertanity(entory) of the data#\n",
    "#NER stands for Named Entity Recognition.Which extract and put relevant bits of information\n",
    "    \n",
    "# 'Experiment tracking' is the process of keeping record of all experiment related information concerning to each experiment. \n",
    "# In experiment tracking, record of hyper-parameters, metrics, artifacts is kept so that data scientists can easily compare and analyse the results.eg MLFlow\n"
   ]
  },
  {
   "cell_type": "code",
   "execution_count": null,
   "metadata": {},
   "outputs": [],
   "source": [
    "import pandas as pd \n",
    "import numpy as np\n",
    "from math import log \n",
    "\n",
    "# #odel exchange is tranferring model from trainigng to inference system. Model is required for making prediction.Besides the model the information about data imputation or encoding or scaling are also need to be\n",
    "# transferred to the inference system. For that reason we need to develop the ML pipeline which contains both the data pre processing steps and the model so that the ML pipeline\n",
    "#can be transferred to the inference system.\n",
    "\n",
    "#'Model serving' typically involves deploying the model to a server or cloud platform, where it can be integrated with other software systems and accessed via an API. Model serving patterns in machine learning refer to different architectures or approaches to serving machine learning models.\n",
    "#Model serving patterns\n",
    "#Batch mode\n",
    "# Batch mode One of the model serving pattern is to predict the outcome offline in batch mode and utilize thispredictions later for decision making.\n",
    "#For example, building recommender systems,\n",
    "#The other most widely used approach is real time prediction using model as service pattern. eg used in fraud detection\n",
    "#for example, when you say\n",
    "#sometime The model deployed on the device due to data privacy, bandwidth , no connectivity, hence a two phase predictions or model deployment is recommended.\n",
    "#Where a smaller model with a limited scope is deployed on the edge device, large model with wide scope in server, eg Hi Alexa, ok google\n"
   ]
  },
  {
   "cell_type": "code",
   "execution_count": null,
   "metadata": {},
   "outputs": [],
   "source": [
    "# 'model deployment strategies' \n",
    "# A/B testing Deployment:\n",
    "\n",
    "# This strategy involves deploying two versions of the same model and testing them simultaneously on a subset of users. \n",
    "# It's useful for evaluating the performance of new models before rolling them out to all users.\n",
    "\n",
    "# Shadow Deployment:\n",
    "\n",
    "# Shadow deployment is the strategy of model deployment in which the new ML system is deployed as a shadow system to the existing traditional system \n",
    "# and the predictions are done by both the old and new system simultaneously."
   ]
  },
  {
   "cell_type": "code",
   "execution_count": null,
   "metadata": {},
   "outputs": [],
   "source": [
    "#  'model monitoring'.\n",
    "# The KS test compares the distribution of predicted probabilities, while the chi-squared test compares the frequency of categorical data.\n",
    "#Data drift is also known as feature drift or covariate drift.eg New fuel type for cars like hybrid is added\n",
    "# Target drift is change in distribution of target variable that is Y variable. eg Predictor system New products etc are added\n",
    "# Concept drift: the change in pattern or the relationship between the predictors and the outcome. eg. Peoples behaviour\n",
    "\n",
    "# Kolmogorov-Smirnov Goodness of Fit test. Primarily used to detects the drift in the numerical variables.\n",
    "# The other one is Chi-Square test which is used to detect the drift in categorical variables."
   ]
  }
 ],
 "metadata": {
  "language_info": {
   "name": "python"
  }
 },
 "nbformat": 4,
 "nbformat_minor": 2
}
