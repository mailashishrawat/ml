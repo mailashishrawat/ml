{
 "cells": [
  {
   "cell_type": "code",
   "execution_count": 3,
   "metadata": {},
   "outputs": [],
   "source": [
    "# also load: _hourly, _monthly, _weekly, _yearly, or _live_daily\n",
    "# load data. \n",
    "import pandas as pd \n",
    "mydata =pd.read_excel('../inputdata/EQ_last1yr_output.xlsx')\n",
    "\n"
   ]
  },
  {
   "cell_type": "code",
   "execution_count": 4,
   "metadata": {},
   "outputs": [
    {
     "name": "stdout",
     "output_type": "stream",
     "text": [
      "        Unnamed: 0 SYMBOL SERIES     OPEN     HIGH      LOW    CLOSE     LAST  \\\n",
      "434497       27002  TITAN     EQ  2607.00  2616.00  2556.80  2565.75  2565.35   \n",
      "434498       49049  TITAN     EQ  2568.00  2619.00  2555.05  2613.60  2618.80   \n",
      "434499       71655  TITAN     EQ  2618.80  2626.25  2585.60  2597.55  2592.00   \n",
      "434500       91621  TITAN     EQ  2591.00  2620.00  2543.65  2562.10  2565.20   \n",
      "434501      116353  TITAN     EQ  2560.00  2584.40  2517.00  2538.10  2537.00   \n",
      "434502      178362  TITAN     EQ  2529.95  2529.95  2467.80  2484.65  2489.95   \n",
      "434503      202927  TITAN     EQ  2495.00  2498.70  2456.00  2468.20  2464.50   \n",
      "434504      227762  TITAN     EQ  2473.00  2488.60  2431.00  2437.40  2434.95   \n",
      "434505      247692  TITAN     EQ  2450.00  2475.00  2432.00  2446.60  2445.00   \n",
      "434506      272323  TITAN     EQ  2456.90  2456.90  2400.00  2417.20  2420.00   \n",
      "\n",
      "        PREVCLOSE  TOTTRDQTY     TOTTRDVAL    TIMESTAMP  TOTALTRADES  \\\n",
      "434497    2597.50     697408  1.799962e+09  02-JAN-2023        48764   \n",
      "434498    2565.75     852511  2.207855e+09  03-JAN-2023        56038   \n",
      "434499    2613.60     832054  2.163576e+09  04-JAN-2023        52788   \n",
      "434500    2597.55    1544601  3.975497e+09  05-JAN-2023       103786   \n",
      "434501    2562.10     879019  2.232793e+09  06-JAN-2023        63800   \n",
      "434502    2538.10    2324487  5.785573e+09  09-JAN-2023       165642   \n",
      "434503    2484.65     948787  2.348082e+09  10-JAN-2023        74548   \n",
      "434504    2468.20    1000412  2.453831e+09  11-JAN-2023        95386   \n",
      "434505    2437.40     874520  2.141772e+09  12-JAN-2023        66156   \n",
      "434506    2446.60    1416869  3.425182e+09  13-JAN-2023        83190   \n",
      "\n",
      "       snapshot_dt  \n",
      "434497  2023-01-02  \n",
      "434498  2023-01-03  \n",
      "434499  2023-01-04  \n",
      "434500  2023-01-05  \n",
      "434501  2023-01-06  \n",
      "434502  2023-01-09  \n",
      "434503  2023-01-10  \n",
      "434504  2023-01-11  \n",
      "434505  2023-01-12  \n",
      "434506  2023-01-13  \n"
     ]
    }
   ],
   "source": [
    "#data correction and filtering \n",
    "import pandas as pd \n",
    "colmnname=\"SYMBOL\"\n",
    "columnvalue=\"TITAN\"\n",
    "\n",
    "df=mydata[mydata[colmnname]==columnvalue]\n",
    "df.to_csv(\"../out/Titan.csv\")\n",
    "\n",
    "print(df.head(10))\n",
    "# sample datasets can be used in either of the long or wide import shapes\n",
    "long = False\n",
    "#df = load_daily(long=long)"
   ]
  },
  {
   "cell_type": "code",
   "execution_count": 1,
   "metadata": {},
   "outputs": [
    {
     "name": "stdout",
     "output_type": "stream",
     "text": [
      "<bound method NDFrame.head of      Unnamed: 0.1  Unnamed: 0 SYMBOL SERIES     OPEN     HIGH      LOW  \\\n",
      "0          434497       27002  TITAN     EQ  2607.00  2616.00  2556.80   \n",
      "1          434498       49049  TITAN     EQ  2568.00  2619.00  2555.05   \n",
      "2          434499       71655  TITAN     EQ  2618.80  2626.25  2585.60   \n",
      "3          434500       91621  TITAN     EQ  2591.00  2620.00  2543.65   \n",
      "4          434501      116353  TITAN     EQ  2560.00  2584.40  2517.00   \n",
      "..            ...         ...    ...    ...      ...      ...      ...   \n",
      "257        434754      358811  TITAN     EQ  3818.95  3855.00  3800.00   \n",
      "258        434755      383754  TITAN     EQ  3791.35  3824.65  3718.85   \n",
      "259        434756      403607  TITAN     EQ  3742.20  3861.50  3740.70   \n",
      "260        434757      425675  TITAN     EQ  3833.95  3834.40  3780.00   \n",
      "261        434758      492399  TITAN     EQ  3786.00  3858.00  3705.75   \n",
      "\n",
      "       CLOSE     LAST  PREVCLOSE  TOTTRDQTY     TOTTRDVAL    TIMESTAMP  \\\n",
      "0    2565.75  2565.35    2597.50     697408  1.799962e+09  02-JAN-2023   \n",
      "1    2613.60  2618.80    2565.75     852511  2.207855e+09  03-JAN-2023   \n",
      "2    2597.55  2592.00    2613.60     832054  2.163576e+09  04-JAN-2023   \n",
      "3    2562.10  2565.20    2597.55    1544601  3.975497e+09  05-JAN-2023   \n",
      "4    2538.10  2537.00    2562.10     879019  2.232793e+09  06-JAN-2023   \n",
      "..       ...      ...        ...        ...           ...          ...   \n",
      "257  3830.05  3825.10    3820.30     723356  2.772354e+09  17-JAN-2024   \n",
      "258  3734.70  3737.90    3830.05    1293580  4.873965e+09  18-JAN-2024   \n",
      "259  3810.60  3816.00    3734.70    2566367  9.730785e+09  19-JAN-2024   \n",
      "260  3784.70  3786.00    3810.60     238575  9.076863e+08  20-JAN-2024   \n",
      "261  3739.65  3737.90    3784.70    1053510  3.978665e+09  23-JAN-2024   \n",
      "\n",
      "     TOTALTRADES snapshot_dt  \n",
      "0          48764  2023-01-02  \n",
      "1          56038  2023-01-03  \n",
      "2          52788  2023-01-04  \n",
      "3         103786  2023-01-05  \n",
      "4          63800  2023-01-06  \n",
      "..           ...         ...  \n",
      "257        81164  2024-01-17  \n",
      "258       158684  2024-01-18  \n",
      "259       129775  2024-01-19  \n",
      "260        29433  2024-01-20  \n",
      "261        92852  2024-01-23  \n",
      "\n",
      "[262 rows x 15 columns]>\n"
     ]
    }
   ],
   "source": [
    "\n",
    "#reload the fidletere data for aster access\n",
    "import pandas as pd \n",
    "df=pd.read_csv(\"../out/Titan.csv\")\n",
    "print(df.head)\n"
   ]
  },
  {
   "cell_type": "code",
   "execution_count": 8,
   "metadata": {},
   "outputs": [
    {
     "ename": "KeyError",
     "evalue": "'TIMESTAMP'",
     "output_type": "error",
     "traceback": [
      "\u001b[0;31m---------------------------------------------------------------------------\u001b[0m",
      "\u001b[0;31mKeyError\u001b[0m                                  Traceback (most recent call last)",
      "File \u001b[0;32m~/Library/Python/3.9/lib/python/site-packages/pandas/core/indexes/base.py:3790\u001b[0m, in \u001b[0;36mIndex.get_loc\u001b[0;34m(self, key)\u001b[0m\n\u001b[1;32m   3789\u001b[0m \u001b[38;5;28;01mtry\u001b[39;00m:\n\u001b[0;32m-> 3790\u001b[0m     \u001b[38;5;28;01mreturn\u001b[39;00m \u001b[38;5;28;43mself\u001b[39;49m\u001b[38;5;241;43m.\u001b[39;49m\u001b[43m_engine\u001b[49m\u001b[38;5;241;43m.\u001b[39;49m\u001b[43mget_loc\u001b[49m\u001b[43m(\u001b[49m\u001b[43mcasted_key\u001b[49m\u001b[43m)\u001b[49m\n\u001b[1;32m   3791\u001b[0m \u001b[38;5;28;01mexcept\u001b[39;00m \u001b[38;5;167;01mKeyError\u001b[39;00m \u001b[38;5;28;01mas\u001b[39;00m err:\n",
      "File \u001b[0;32mindex.pyx:152\u001b[0m, in \u001b[0;36mpandas._libs.index.IndexEngine.get_loc\u001b[0;34m()\u001b[0m\n",
      "File \u001b[0;32mindex.pyx:181\u001b[0m, in \u001b[0;36mpandas._libs.index.IndexEngine.get_loc\u001b[0;34m()\u001b[0m\n",
      "File \u001b[0;32mpandas/_libs/hashtable_class_helper.pxi:7080\u001b[0m, in \u001b[0;36mpandas._libs.hashtable.PyObjectHashTable.get_item\u001b[0;34m()\u001b[0m\n",
      "File \u001b[0;32mpandas/_libs/hashtable_class_helper.pxi:7088\u001b[0m, in \u001b[0;36mpandas._libs.hashtable.PyObjectHashTable.get_item\u001b[0;34m()\u001b[0m\n",
      "\u001b[0;31mKeyError\u001b[0m: 'TIMESTAMP'",
      "\nThe above exception was the direct cause of the following exception:\n",
      "\u001b[0;31mKeyError\u001b[0m                                  Traceback (most recent call last)",
      "Cell \u001b[0;32mIn[8], line 3\u001b[0m\n\u001b[1;32m      1\u001b[0m \u001b[38;5;66;03m#again convert he data to time serives \u001b[39;00m\n\u001b[0;32m----> 3\u001b[0m df[\u001b[38;5;124m'\u001b[39m\u001b[38;5;124mTIMESTAMP\u001b[39m\u001b[38;5;124m'\u001b[39m]\u001b[38;5;241m=\u001b[39mpd\u001b[38;5;241m.\u001b[39mto_datetime(\u001b[43mdf\u001b[49m\u001b[43m[\u001b[49m\u001b[38;5;124;43m'\u001b[39;49m\u001b[38;5;124;43mTIMESTAMP\u001b[39;49m\u001b[38;5;124;43m'\u001b[39;49m\u001b[43m]\u001b[49m,infer_datetime_format\u001b[38;5;241m=\u001b[39m\u001b[38;5;28;01mTrue\u001b[39;00m)\n\u001b[1;32m      4\u001b[0m df\u001b[38;5;241m.\u001b[39mset_index(\u001b[38;5;124m'\u001b[39m\u001b[38;5;124mTIMESTAMP\u001b[39m\u001b[38;5;124m'\u001b[39m,inplace\u001b[38;5;241m=\u001b[39m\u001b[38;5;28;01mTrue\u001b[39;00m)\n",
      "File \u001b[0;32m~/Library/Python/3.9/lib/python/site-packages/pandas/core/frame.py:3896\u001b[0m, in \u001b[0;36mDataFrame.__getitem__\u001b[0;34m(self, key)\u001b[0m\n\u001b[1;32m   3894\u001b[0m \u001b[38;5;28;01mif\u001b[39;00m \u001b[38;5;28mself\u001b[39m\u001b[38;5;241m.\u001b[39mcolumns\u001b[38;5;241m.\u001b[39mnlevels \u001b[38;5;241m>\u001b[39m \u001b[38;5;241m1\u001b[39m:\n\u001b[1;32m   3895\u001b[0m     \u001b[38;5;28;01mreturn\u001b[39;00m \u001b[38;5;28mself\u001b[39m\u001b[38;5;241m.\u001b[39m_getitem_multilevel(key)\n\u001b[0;32m-> 3896\u001b[0m indexer \u001b[38;5;241m=\u001b[39m \u001b[38;5;28;43mself\u001b[39;49m\u001b[38;5;241;43m.\u001b[39;49m\u001b[43mcolumns\u001b[49m\u001b[38;5;241;43m.\u001b[39;49m\u001b[43mget_loc\u001b[49m\u001b[43m(\u001b[49m\u001b[43mkey\u001b[49m\u001b[43m)\u001b[49m\n\u001b[1;32m   3897\u001b[0m \u001b[38;5;28;01mif\u001b[39;00m is_integer(indexer):\n\u001b[1;32m   3898\u001b[0m     indexer \u001b[38;5;241m=\u001b[39m [indexer]\n",
      "File \u001b[0;32m~/Library/Python/3.9/lib/python/site-packages/pandas/core/indexes/base.py:3797\u001b[0m, in \u001b[0;36mIndex.get_loc\u001b[0;34m(self, key)\u001b[0m\n\u001b[1;32m   3792\u001b[0m     \u001b[38;5;28;01mif\u001b[39;00m \u001b[38;5;28misinstance\u001b[39m(casted_key, \u001b[38;5;28mslice\u001b[39m) \u001b[38;5;129;01mor\u001b[39;00m (\n\u001b[1;32m   3793\u001b[0m         \u001b[38;5;28misinstance\u001b[39m(casted_key, abc\u001b[38;5;241m.\u001b[39mIterable)\n\u001b[1;32m   3794\u001b[0m         \u001b[38;5;129;01mand\u001b[39;00m \u001b[38;5;28many\u001b[39m(\u001b[38;5;28misinstance\u001b[39m(x, \u001b[38;5;28mslice\u001b[39m) \u001b[38;5;28;01mfor\u001b[39;00m x \u001b[38;5;129;01min\u001b[39;00m casted_key)\n\u001b[1;32m   3795\u001b[0m     ):\n\u001b[1;32m   3796\u001b[0m         \u001b[38;5;28;01mraise\u001b[39;00m InvalidIndexError(key)\n\u001b[0;32m-> 3797\u001b[0m     \u001b[38;5;28;01mraise\u001b[39;00m \u001b[38;5;167;01mKeyError\u001b[39;00m(key) \u001b[38;5;28;01mfrom\u001b[39;00m \u001b[38;5;21;01merr\u001b[39;00m\n\u001b[1;32m   3798\u001b[0m \u001b[38;5;28;01mexcept\u001b[39;00m \u001b[38;5;167;01mTypeError\u001b[39;00m:\n\u001b[1;32m   3799\u001b[0m     \u001b[38;5;66;03m# If we have a listlike key, _check_indexing_error will raise\u001b[39;00m\n\u001b[1;32m   3800\u001b[0m     \u001b[38;5;66;03m#  InvalidIndexError. Otherwise we fall through and re-raise\u001b[39;00m\n\u001b[1;32m   3801\u001b[0m     \u001b[38;5;66;03m#  the TypeError.\u001b[39;00m\n\u001b[1;32m   3802\u001b[0m     \u001b[38;5;28mself\u001b[39m\u001b[38;5;241m.\u001b[39m_check_indexing_error(key)\n",
      "\u001b[0;31mKeyError\u001b[0m: 'TIMESTAMP'"
     ]
    }
   ],
   "source": [
    "#again convert he data to time serives \n",
    "\n",
    "df['TIMESTAMP']=pd.to_datetime(df['TIMESTAMP'],infer_datetime_format=True)\n",
    "df.set_index('TIMESTAMP',inplace=True)"
   ]
  },
  {
   "cell_type": "code",
   "execution_count": 11,
   "metadata": {},
   "outputs": [
    {
     "name": "stdout",
     "output_type": "stream",
     "text": [
      "Using 4 cpus for n_jobs.\n",
      "Data frequency is: B, used frequency is: B\n",
      "Categorical features converted to numeric\n",
      "Model Number: 1 with model AverageValueNaive in generation 0 of 4\n",
      "Model Number: 2 with model AverageValueNaive in generation 0 of 4\n",
      "Model Number: 3 with model AverageValueNaive in generation 0 of 4\n",
      "Model Number: 4 with model DatepartRegression in generation 0 of 4\n",
      "Model Number: 5 with model DatepartRegression in generation 0 of 4\n"
     ]
    },
    {
     "name": "stderr",
     "output_type": "stream",
     "text": [
      "/Users/i038849/Library/Python/3.9/lib/python/site-packages/sklearn/svm/_classes.py:31: FutureWarning: The default value of `dual` will change from `True` to `'auto'` in 1.5. Set the value of `dual` explicitly to suppress the warning.\n",
      "  warnings.warn(\n",
      "/Users/i038849/Library/Python/3.9/lib/python/site-packages/sklearn/svm/_classes.py:31: FutureWarning: The default value of `dual` will change from `True` to `'auto'` in 1.5. Set the value of `dual` explicitly to suppress the warning.\n",
      "  warnings.warn(\n",
      "/Users/i038849/Library/Python/3.9/lib/python/site-packages/sklearn/svm/_classes.py:31: FutureWarning: The default value of `dual` will change from `True` to `'auto'` in 1.5. Set the value of `dual` explicitly to suppress the warning.\n",
      "  warnings.warn(\n",
      "/Users/i038849/Library/Python/3.9/lib/python/site-packages/sklearn/svm/_classes.py:31: FutureWarning: The default value of `dual` will change from `True` to `'auto'` in 1.5. Set the value of `dual` explicitly to suppress the warning.\n",
      "  warnings.warn(\n",
      "/Users/i038849/Library/Python/3.9/lib/python/site-packages/sklearn/svm/_base.py:1237: ConvergenceWarning: Liblinear failed to converge, increase the number of iterations.\n",
      "  warnings.warn(\n",
      "/Users/i038849/Library/Python/3.9/lib/python/site-packages/sklearn/svm/_base.py:1237: ConvergenceWarning: Liblinear failed to converge, increase the number of iterations.\n",
      "  warnings.warn(\n",
      "/Users/i038849/Library/Python/3.9/lib/python/site-packages/sklearn/svm/_classes.py:31: FutureWarning: The default value of `dual` will change from `True` to `'auto'` in 1.5. Set the value of `dual` explicitly to suppress the warning.\n",
      "  warnings.warn(\n",
      "/Users/i038849/Library/Python/3.9/lib/python/site-packages/sklearn/svm/_classes.py:31: FutureWarning: The default value of `dual` will change from `True` to `'auto'` in 1.5. Set the value of `dual` explicitly to suppress the warning.\n",
      "  warnings.warn(\n",
      "/Users/i038849/Library/Python/3.9/lib/python/site-packages/sklearn/svm/_base.py:1237: ConvergenceWarning: Liblinear failed to converge, increase the number of iterations.\n",
      "  warnings.warn(\n",
      "/Users/i038849/Library/Python/3.9/lib/python/site-packages/sklearn/svm/_base.py:1237: ConvergenceWarning: Liblinear failed to converge, increase the number of iterations.\n",
      "  warnings.warn(\n",
      "/Users/i038849/Library/Python/3.9/lib/python/site-packages/sklearn/svm/_classes.py:31: FutureWarning: The default value of `dual` will change from `True` to `'auto'` in 1.5. Set the value of `dual` explicitly to suppress the warning.\n",
      "  warnings.warn(\n",
      "/Users/i038849/Library/Python/3.9/lib/python/site-packages/sklearn/svm/_classes.py:31: FutureWarning: The default value of `dual` will change from `True` to `'auto'` in 1.5. Set the value of `dual` explicitly to suppress the warning.\n",
      "  warnings.warn(\n",
      "/Users/i038849/Library/Python/3.9/lib/python/site-packages/sklearn/svm/_classes.py:31: FutureWarning: The default value of `dual` will change from `True` to `'auto'` in 1.5. Set the value of `dual` explicitly to suppress the warning.\n",
      "  warnings.warn(\n",
      "/Users/i038849/Library/Python/3.9/lib/python/site-packages/sklearn/svm/_classes.py:31: FutureWarning: The default value of `dual` will change from `True` to `'auto'` in 1.5. Set the value of `dual` explicitly to suppress the warning.\n",
      "  warnings.warn(\n",
      "/Users/i038849/Library/Python/3.9/lib/python/site-packages/sklearn/svm/_base.py:1237: ConvergenceWarning: Liblinear failed to converge, increase the number of iterations.\n",
      "  warnings.warn(\n",
      "/Users/i038849/Library/Python/3.9/lib/python/site-packages/sklearn/svm/_base.py:1237: ConvergenceWarning: Liblinear failed to converge, increase the number of iterations.\n",
      "  warnings.warn(\n",
      "/Users/i038849/Library/Python/3.9/lib/python/site-packages/sklearn/svm/_classes.py:31: FutureWarning: The default value of `dual` will change from `True` to `'auto'` in 1.5. Set the value of `dual` explicitly to suppress the warning.\n",
      "  warnings.warn(\n",
      "/Users/i038849/Library/Python/3.9/lib/python/site-packages/sklearn/svm/_classes.py:31: FutureWarning: The default value of `dual` will change from `True` to `'auto'` in 1.5. Set the value of `dual` explicitly to suppress the warning.\n",
      "  warnings.warn(\n",
      "/Users/i038849/Library/Python/3.9/lib/python/site-packages/sklearn/svm/_base.py:1237: ConvergenceWarning: Liblinear failed to converge, increase the number of iterations.\n",
      "  warnings.warn(\n",
      "/Users/i038849/Library/Python/3.9/lib/python/site-packages/sklearn/svm/_base.py:1237: ConvergenceWarning: Liblinear failed to converge, increase the number of iterations.\n",
      "  warnings.warn(\n",
      "/Users/i038849/Library/Python/3.9/lib/python/site-packages/sklearn/svm/_classes.py:31: FutureWarning: The default value of `dual` will change from `True` to `'auto'` in 1.5. Set the value of `dual` explicitly to suppress the warning.\n",
      "  warnings.warn(\n",
      "/Users/i038849/Library/Python/3.9/lib/python/site-packages/sklearn/svm/_classes.py:31: FutureWarning: The default value of `dual` will change from `True` to `'auto'` in 1.5. Set the value of `dual` explicitly to suppress the warning.\n",
      "  warnings.warn(\n",
      "/Users/i038849/Library/Python/3.9/lib/python/site-packages/sklearn/svm/_base.py:1237: ConvergenceWarning: Liblinear failed to converge, increase the number of iterations.\n",
      "  warnings.warn(\n",
      "/Users/i038849/Library/Python/3.9/lib/python/site-packages/sklearn/svm/_base.py:1237: ConvergenceWarning: Liblinear failed to converge, increase the number of iterations.\n",
      "  warnings.warn(\n",
      "/Users/i038849/Library/Python/3.9/lib/python/site-packages/sklearn/svm/_base.py:1237: ConvergenceWarning: Liblinear failed to converge, increase the number of iterations.\n",
      "  warnings.warn(\n",
      "/Users/i038849/Library/Python/3.9/lib/python/site-packages/sklearn/svm/_base.py:1237: ConvergenceWarning: Liblinear failed to converge, increase the number of iterations.\n",
      "  warnings.warn(\n"
     ]
    },
    {
     "name": "stdout",
     "output_type": "stream",
     "text": [
      "Model Number: 6 with model DatepartRegression in generation 0 of 4\n"
     ]
    },
    {
     "name": "stderr",
     "output_type": "stream",
     "text": [
      "/Users/i038849/Library/Python/3.9/lib/python/site-packages/sklearn/neural_network/_multilayer_perceptron.py:546: ConvergenceWarning: lbfgs failed to converge (status=1):\n",
      "STOP: TOTAL NO. of ITERATIONS REACHED LIMIT.\n",
      "\n",
      "Increase the number of iterations (max_iter) or scale the data as shown in:\n",
      "    https://scikit-learn.org/stable/modules/preprocessing.html\n",
      "  self.n_iter_ = _check_optimize_result(\"lbfgs\", opt_res, self.max_iter)\n"
     ]
    },
    {
     "name": "stdout",
     "output_type": "stream",
     "text": [
      "Model Number: 7 with model DatepartRegression in generation 0 of 4\n",
      "Template Eval Error: ImportError('Tensorflow not available, install with pip install tensorflow.') in model 7 in generation 0: DatepartRegression\n",
      "Model Number: 8 with model ETS in generation 0 of 4\n",
      "Model Number: 9 with model ETS in generation 0 of 4\n",
      "Model Number: 10 with model GLM in generation 0 of 4\n"
     ]
    },
    {
     "name": "stderr",
     "output_type": "stream",
     "text": [
      "/Users/i038849/Library/Python/3.9/lib/python/site-packages/statsmodels/genmod/generalized_linear_model.py:1342: PerfectSeparationWarning: Perfect separation or prediction detected, parameter may not be identified\n",
      "  warnings.warn(msg, category=PerfectSeparationWarning)\n",
      "/Users/i038849/Library/Python/3.9/lib/python/site-packages/statsmodels/genmod/generalized_linear_model.py:1342: PerfectSeparationWarning: Perfect separation or prediction detected, parameter may not be identified\n",
      "  warnings.warn(msg, category=PerfectSeparationWarning)\n"
     ]
    },
    {
     "name": "stdout",
     "output_type": "stream",
     "text": [
      "Model Number: 11 with model GLM in generation 0 of 4\n",
      "Model Number: 12 with model GLS in generation 0 of 4\n",
      "Model Number: 13 with model GLS in generation 0 of 4\n",
      "Model Number: 14 with model LastValueNaive in generation 0 of 4\n",
      "Model Number: 15 with model LastValueNaive in generation 0 of 4\n",
      "Model Number: 16 with model LastValueNaive in generation 0 of 4\n",
      "Model Number: 17 with model LastValueNaive in generation 0 of 4\n",
      "Model Number: 18 with model SeasonalNaive in generation 0 of 4\n",
      "Model Number: 19 with model SeasonalNaive in generation 0 of 4\n",
      "Model Number: 20 with model SeasonalNaive in generation 0 of 4\n",
      "Model Number: 21 with model VAR in generation 0 of 4\n",
      "Template Eval Error: LinAlgError('3-th leading minor of the array is not positive definite') in model 21 in generation 0: VAR\n",
      "Model Number: 22 with model VAR in generation 0 of 4\n",
      "Template Eval Error: LinAlgError('3-th leading minor of the array is not positive definite') in model 22 in generation 0: VAR\n",
      "Model Number: 23 with model VECM in generation 0 of 4\n",
      "Template Eval Error: UFuncTypeError(<ufunc 'add'>, 'same_kind', dtype('complex128'), dtype('float64'), 2) in model 23 in generation 0: VECM\n",
      "Model Number: 24 with model VECM in generation 0 of 4\n",
      "Template Eval Error: LinAlgError('Singular matrix') in model 24 in generation 0: VECM\n",
      "Model Number: 25 with model WindowRegression in generation 0 of 4\n"
     ]
    },
    {
     "name": "stderr",
     "output_type": "stream",
     "text": [
      "/Users/i038849/Library/Python/3.9/lib/python/site-packages/statsmodels/tsa/vector_ar/vecm.py:1711: ComplexWarning: Casting complex values to real discards the imaginary part\n",
      "  A[0] = pi + np.identity(K)\n"
     ]
    },
    {
     "name": "stdout",
     "output_type": "stream",
     "text": [
      "Model Number: 26 with model ConstantNaive in generation 0 of 4\n",
      "Model Number: 27 with model DatepartRegression in generation 0 of 4\n",
      "Template Eval Error: ValueError(\"regression_type='User' but no future_regressor passed\") in model 27 in generation 0: DatepartRegression\n",
      "Model Number: 28 with model SeasonalNaive in generation 0 of 4\n"
     ]
    },
    {
     "name": "stderr",
     "output_type": "stream",
     "text": [
      "/Users/i038849/Library/Python/3.9/lib/python/site-packages/sklearn/neural_network/_multilayer_perceptron.py:546: ConvergenceWarning: lbfgs failed to converge (status=1):\n",
      "STOP: TOTAL NO. of ITERATIONS REACHED LIMIT.\n",
      "\n",
      "Increase the number of iterations (max_iter) or scale the data as shown in:\n",
      "    https://scikit-learn.org/stable/modules/preprocessing.html\n",
      "  self.n_iter_ = _check_optimize_result(\"lbfgs\", opt_res, self.max_iter)\n"
     ]
    },
    {
     "name": "stdout",
     "output_type": "stream",
     "text": [
      "Model Number: 29 with model DatepartRegression in generation 0 of 4\n",
      "Model Number: 30 with model ETS in generation 0 of 4\n",
      "Model Number: 31 with model VECM in generation 0 of 4\n",
      "Model Number: 32 with model UnivariateMotif in generation 0 of 4\n",
      "Model Number: 33 with model UnivariateMotif in generation 0 of 4\n",
      "Model Number: 34 with model SectionalMotif in generation 0 of 4\n",
      "Model Number: 35 with model SectionalMotif in generation 0 of 4\n",
      "Model Number: 36 with model SeasonalNaive in generation 0 of 4\n",
      "Model Number: 37 with model DatepartRegression in generation 0 of 4\n",
      "Model Number: 38 with model NVAR in generation 0 of 4\n",
      "Model Number: 39 with model Cassandra in generation 0 of 4\n",
      "Template Eval Error: ValueError('more than 1 year of data is required for holiday detection.') in model 39 in generation 0: Cassandra\n",
      "Model Number: 40 with model SeasonalityMotif in generation 0 of 4\n",
      "Model Number: 41 with model Cassandra in generation 0 of 4\n",
      "Template Eval Error: ValueError('more than 1 year of data is required for holiday detection.') in model 41 in generation 0: Cassandra\n",
      "Model Number: 42 with model Cassandra in generation 0 of 4\n",
      "FillNA method `pad` not known, returning original\n",
      "Template Eval Error: ValueError('more than 1 year of data is required for holiday detection.') in model 42 in generation 0: Cassandra\n",
      "Model Number: 43 with model Cassandra in generation 0 of 4\n",
      "Template Eval Error: ValueError('more than 1 year of data is required for holiday detection.') in model 43 in generation 0: Cassandra\n",
      "Model Number: 44 with model ConstantNaive in generation 0 of 4\n",
      "Model Number: 45 with model LastValueNaive in generation 0 of 4\n",
      "Model Number: 46 with model AverageValueNaive in generation 0 of 4\n",
      "Model Number: 47 with model GLS in generation 0 of 4\n",
      "Model Number: 48 with model SeasonalNaive in generation 0 of 4\n",
      "Model Number: 49 with model GLM in generation 0 of 4\n"
     ]
    },
    {
     "name": "stderr",
     "output_type": "stream",
     "text": [
      "/Users/i038849/Library/Python/3.9/lib/python/site-packages/statsmodels/genmod/families/links.py:198: RuntimeWarning: overflow encountered in exp\n",
      "  t = np.exp(-z)\n",
      "/Users/i038849/Library/Python/3.9/lib/python/site-packages/statsmodels/genmod/families/links.py:198: RuntimeWarning: overflow encountered in exp\n",
      "  t = np.exp(-z)\n",
      "/Users/i038849/Library/Python/3.9/lib/python/site-packages/statsmodels/genmod/families/links.py:198: RuntimeWarning: overflow encountered in exp\n",
      "  t = np.exp(-z)\n",
      "/Users/i038849/Library/Python/3.9/lib/python/site-packages/statsmodels/genmod/families/links.py:198: RuntimeWarning: overflow encountered in exp\n",
      "  t = np.exp(-z)\n"
     ]
    },
    {
     "name": "stdout",
     "output_type": "stream",
     "text": [
      "Model Number: 50 with model ETS in generation 0 of 4\n",
      "Model Number: 51 with model VAR in generation 0 of 4\n",
      "Template Eval Error: LinAlgError('4-th leading minor of the array is not positive definite') in model 51 in generation 0: VAR\n",
      "Model Number: 52 with model VECM in generation 0 of 4\n",
      "Template Eval Error: LinAlgError('Singular matrix') in model 52 in generation 0: VECM\n",
      "Model Number: 53 with model WindowRegression in generation 0 of 4\n",
      "Model Number: 54 with model DatepartRegression in generation 0 of 4\n"
     ]
    },
    {
     "name": "stderr",
     "output_type": "stream",
     "text": [
      "/Users/i038849/Library/Python/3.9/lib/python/site-packages/sklearn/linear_model/_coordinate_descent.py:2525: ConvergenceWarning: Objective did not converge. You might want to increase the number of iterations. Duality gap: 2.1171442958891955e+20, tolerance: 4.432203956512358e+16\n",
      "  ) = cd_fast.enet_coordinate_descent_multi_task(\n"
     ]
    },
    {
     "name": "stdout",
     "output_type": "stream",
     "text": [
      "Model Number: 55 with model UnivariateMotif in generation 0 of 4\n"
     ]
    },
    {
     "name": "stderr",
     "output_type": "stream",
     "text": [
      "/Users/i038849/Library/Python/3.9/lib/python/site-packages/numpy/core/fromnumeric.py:3504: RuntimeWarning: Mean of empty slice.\n",
      "  return _methods._mean(a, axis=axis, dtype=dtype,\n",
      "/Users/i038849/Library/Python/3.9/lib/python/site-packages/numpy/core/_methods.py:129: RuntimeWarning: invalid value encountered in scalar divide\n",
      "  ret = ret.dtype.type(ret / rcount)\n",
      "/Users/i038849/Library/Python/3.9/lib/python/site-packages/numpy/core/_methods.py:206: RuntimeWarning: Degrees of freedom <= 0 for slice\n",
      "  ret = _var(a, axis=axis, dtype=dtype, out=out, ddof=ddof,\n",
      "/Users/i038849/Library/Python/3.9/lib/python/site-packages/numpy/core/_methods.py:163: RuntimeWarning: invalid value encountered in divide\n",
      "  arrmean = um.true_divide(arrmean, div, out=arrmean,\n",
      "/Users/i038849/Library/Python/3.9/lib/python/site-packages/numpy/core/_methods.py:198: RuntimeWarning: invalid value encountered in scalar divide\n",
      "  ret = ret.dtype.type(ret / rcount)\n"
     ]
    },
    {
     "name": "stdout",
     "output_type": "stream",
     "text": [
      "Model Number: 56 with model SectionalMotif in generation 0 of 4\n",
      "Model Number: 57 with model NVAR in generation 0 of 4\n",
      "Template Eval Error: ValueError('Model NVAR returned NaN for one or more series. fail_on_forecast_nan=True') in model 57 in generation 0: NVAR\n",
      "Model Number: 58 with model MAR in generation 0 of 4\n",
      "Template Eval Error: ValueError('Shape of passed values is (7, 14), indices imply (21, 14)') in model 58 in generation 0: MAR\n",
      "Model Number: 59 with model RRVAR in generation 0 of 4\n",
      "Model Number: 60 with model KalmanStateSpace in generation 0 of 4\n",
      "Model Number: 61 with model MetricMotif in generation 0 of 4\n",
      "Template Eval Error: ValueError(\"Model returned NaN due to a preprocessing transformer {'fillna': 'zero', 'transformations': {'0': 'IntermittentOccurrence', '1': 'AlignLastValue', '2': 'AlignLastValue', '3': 'MinMaxScaler', '4': 'AlignLastValue'}, 'transformation_params': {'0': {'center': 'mean'}, '1': {'rows': 1, 'lag': 1, 'method': 'additive', 'strength': 0.9, 'first_value_only': False}, '2': {'rows': 1, 'lag': 1, 'method': 'multiplicative', 'strength': 1.0, 'first_value_only': False}, '3': {}, '4': {'rows': 1, 'lag': 28, 'method': 'additive', 'strength': 0.7, 'first_value_only': False}}}. fail_on_forecast_nan=True\") in model 61 in generation 0: MetricMotif\n",
      "Model Number: 62 with model Cassandra in generation 0 of 4\n"
     ]
    },
    {
     "name": "stderr",
     "output_type": "stream",
     "text": [
      "/Users/i038849/Library/Python/3.9/lib/python/site-packages/sklearn/linear_model/_ridge.py:204: LinAlgWarning: Ill-conditioned matrix (rcond=4.53758e-25): result may not be accurate.\n",
      "  return linalg.solve(A, Xy, assume_a=\"pos\", overwrite_a=True).T\n"
     ]
    },
    {
     "name": "stdout",
     "output_type": "stream",
     "text": [
      "Model Number: 63 with model SeasonalityMotif in generation 0 of 4\n",
      "Model Number: 64 with model FFT in generation 0 of 4\n",
      "Template Eval Error: Exception(\"Transformer DifferencedTransformer failed on inverse from params fake_date {'0': {'method': 'clip', 'std_threshold': 4, 'fillna': None}, '1': {'model': 'Linear', 'phi': 1, 'window': 30, 'transform_dict': None}, '2': {}, '3': {'rows': 1, 'lag': 1, 'method': 'multiplicative', 'strength': 1.0, 'first_value_only': False}}\") in model 64 in generation 0: FFT\n",
      "Model Number: 65 with model BallTreeMultivariateMotif in generation 0 of 4\n",
      "Template Eval Error: ValueError(\"Unrecognized metric '['euclidean']'\") in model 65 in generation 0: BallTreeMultivariateMotif\n",
      "Model Number: 66 with model DatepartRegression in generation 0 of 4\n",
      "Template Eval Error: ValueError(\"regression_type='User' but no future_regressor passed\") in model 66 in generation 0: DatepartRegression\n",
      "Model Number: 67 with model FFT in generation 0 of 4\n",
      "Template Eval Error: Exception(\"Transformer DifferencedTransformer failed on inverse from params ffill {'0': {}, '1': {}, '2': {}, '3': {'part': 'trend', 'lamb': 129600}, '4': {}, '5': {'rows': 1, 'lag': 1, 'method': 'multiplicative', 'strength': 1.0, 'first_value_only': True}}\") in model 67 in generation 0: FFT\n",
      "Model Number: 68 with model AverageValueNaive in generation 0 of 4\n",
      "Template Eval Error: Exception(\"Transformer AlignLastValue failed on inverse from params ffill {'0': {'method': 'clip', 'std_threshold': 1, 'fillna': None}, '1': {'model': 'GLS', 'phi': 1, 'window': None, 'transform_dict': None}, '2': {}, '3': {'rows': 1, 'lag': 1, 'method': 'additive', 'strength': 1.0, 'first_value_only': True}}\") in model 68 in generation 0: AverageValueNaive\n",
      "Model Number: 69 with model ETS in generation 0 of 4\n",
      "Model Number: 70 with model UnivariateMotif in generation 0 of 4\n"
     ]
    },
    {
     "name": "stderr",
     "output_type": "stream",
     "text": [
      "/Users/i038849/Library/Python/3.9/lib/python/site-packages/numpy/core/_methods.py:49: RuntimeWarning: invalid value encountered in reduce\n",
      "  return umr_sum(a, axis, dtype, out, keepdims, initial, where)\n",
      "/Users/i038849/Library/Python/3.9/lib/python/site-packages/numpy/core/_methods.py:49: RuntimeWarning: invalid value encountered in reduce\n",
      "  return umr_sum(a, axis, dtype, out, keepdims, initial, where)\n",
      "/Users/i038849/Library/Python/3.9/lib/python/site-packages/numpy/lib/function_base.py:553: RuntimeWarning: invalid value encountered in divide\n",
      "  avg = avg_as_array = np.multiply(a, wgt,\n",
      "/Users/i038849/Library/Python/3.9/lib/python/site-packages/numpy/lib/function_base.py:553: RuntimeWarning: invalid value encountered in divide\n",
      "  avg = avg_as_array = np.multiply(a, wgt,\n",
      "/Users/i038849/Library/Python/3.9/lib/python/site-packages/numpy/lib/function_base.py:553: RuntimeWarning: invalid value encountered in multiply\n",
      "  avg = avg_as_array = np.multiply(a, wgt,\n",
      "/Users/i038849/Library/Python/3.9/lib/python/site-packages/numpy/lib/function_base.py:553: RuntimeWarning: invalid value encountered in multiply\n",
      "  avg = avg_as_array = np.multiply(a, wgt,\n",
      "/Users/i038849/Library/Python/3.9/lib/python/site-packages/numpy/core/_methods.py:49: RuntimeWarning: invalid value encountered in reduce\n",
      "  return umr_sum(a, axis, dtype, out, keepdims, initial, where)\n",
      "/Users/i038849/Library/Python/3.9/lib/python/site-packages/numpy/lib/function_base.py:553: RuntimeWarning: invalid value encountered in divide\n",
      "  avg = avg_as_array = np.multiply(a, wgt,\n"
     ]
    },
    {
     "name": "stdout",
     "output_type": "stream",
     "text": [
      "Template Eval Error: ValueError('Model UnivariateMotif returned NaN for one or more series. fail_on_forecast_nan=True') in model 70 in generation 0: UnivariateMotif\n",
      "Model Number: 71 with model WindowRegression in generation 0 of 4\n",
      "Template Eval Error: ModuleNotFoundError(\"No module named 'xgboost'\") in model 71 in generation 0: WindowRegression\n",
      "Model Number: 72 with model FFT in generation 0 of 4\n",
      "Model Number: 73 with model AverageValueNaive in generation 0 of 4\n",
      "Model Number: 74 with model VAR in generation 0 of 4\n",
      "Template Eval Error: LinAlgError('4-th leading minor of the array is not positive definite') in model 74 in generation 0: VAR\n",
      "Model Number: 75 with model BallTreeMultivariateMotif in generation 0 of 4\n",
      "Template Eval Error: ValueError(\"Unrecognized metric '['euclidean']'\") in model 75 in generation 0: BallTreeMultivariateMotif\n",
      "Model Number: 76 with model SeasonalNaive in generation 0 of 4\n",
      "Model Number: 77 with model DatepartRegression in generation 0 of 4\n",
      "Model Number: 78 with model SeasonalityMotif in generation 0 of 4\n",
      "Model Number: 79 with model ConstantNaive in generation 0 of 4\n",
      "Model Number: 80 with model ETS in generation 0 of 4\n"
     ]
    },
    {
     "name": "stderr",
     "output_type": "stream",
     "text": [
      "/Users/i038849/Library/Python/3.9/lib/python/site-packages/numpy/core/_methods.py:176: RuntimeWarning: overflow encountered in multiply\n",
      "  x = um.multiply(x, x, out=x)\n"
     ]
    },
    {
     "name": "stdout",
     "output_type": "stream",
     "text": [
      "Model Number: 81 with model GLS in generation 0 of 4\n",
      "Model Number: 82 with model UnivariateMotif in generation 0 of 4\n",
      "Template Eval Error: ValueError('Model UnivariateMotif returned NaN for one or more series. fail_on_forecast_nan=True') in model 82 in generation 0: UnivariateMotif\n",
      "Model Number: 83 with model RRVAR in generation 0 of 4\n",
      "Model Number: 84 with model ConstantNaive in generation 0 of 4\n",
      "Template Eval Error: Exception(\"Transformer AlignLastValue failed on inverse from params ffill {'0': {'method': 'clip', 'std_threshold': 4, 'fillna': None}, '1': {'model': 'Linear', 'phi': 1, 'window': None, 'transform_dict': None}, '2': {'rows': 2}, '3': {'rows': 1, 'lag': 1, 'method': 'additive', 'strength': 1.0, 'first_value_only': True}}\") in model 84 in generation 0: ConstantNaive\n",
      "Model Number: 85 with model LastValueNaive in generation 0 of 4\n",
      "Template Eval Error: Exception(\"Transformer AlignLastValue failed on inverse from params mean {'0': {}, '1': {'lag_1': 7, 'method': 'LastValue'}, '2': {'rows': 1, 'lag': 1, 'method': 'additive', 'strength': 1.0, 'first_value_only': True}, '3': {}}\") in model 85 in generation 0: LastValueNaive\n",
      "Model Number: 86 with model SectionalMotif in generation 0 of 4\n"
     ]
    },
    {
     "name": "stderr",
     "output_type": "stream",
     "text": [
      "/Users/i038849/Library/Python/3.9/lib/python/site-packages/numpy/core/_methods.py:49: RuntimeWarning: invalid value encountered in reduce\n",
      "  return umr_sum(a, axis, dtype, out, keepdims, initial, where)\n",
      "/Users/i038849/Library/Python/3.9/lib/python/site-packages/numpy/core/_methods.py:49: RuntimeWarning: invalid value encountered in reduce\n",
      "  return umr_sum(a, axis, dtype, out, keepdims, initial, where)\n",
      "/Users/i038849/Library/Python/3.9/lib/python/site-packages/numpy/lib/function_base.py:553: RuntimeWarning: invalid value encountered in multiply\n",
      "  avg = avg_as_array = np.multiply(a, wgt,\n",
      "/Users/i038849/Library/Python/3.9/lib/python/site-packages/numpy/lib/function_base.py:553: RuntimeWarning: invalid value encountered in divide\n",
      "  avg = avg_as_array = np.multiply(a, wgt,\n",
      "/Users/i038849/Library/Python/3.9/lib/python/site-packages/numpy/core/_methods.py:49: RuntimeWarning: invalid value encountered in reduce\n",
      "  return umr_sum(a, axis, dtype, out, keepdims, initial, where)\n",
      "/Users/i038849/Library/Python/3.9/lib/python/site-packages/numpy/lib/function_base.py:553: RuntimeWarning: invalid value encountered in divide\n",
      "  avg = avg_as_array = np.multiply(a, wgt,\n",
      "/Users/i038849/Library/Python/3.9/lib/python/site-packages/numpy/lib/function_base.py:553: RuntimeWarning: invalid value encountered in multiply\n",
      "  avg = avg_as_array = np.multiply(a, wgt,\n",
      "/Users/i038849/Library/Python/3.9/lib/python/site-packages/numpy/lib/function_base.py:553: RuntimeWarning: invalid value encountered in divide\n",
      "  avg = avg_as_array = np.multiply(a, wgt,\n"
     ]
    },
    {
     "name": "stdout",
     "output_type": "stream",
     "text": [
      "Model Number: 87 with model ETS in generation 0 of 4\n",
      "Model Number: 88 with model GLS in generation 0 of 4\n",
      "Model Number: 89 with model LastValueNaive in generation 0 of 4\n",
      "Model Number: 90 with model SeasonalNaive in generation 0 of 4\n",
      "Model Number: 91 with model ConstantNaive in generation 0 of 4\n",
      "Template Eval Error: Exception(\"Transformer HolidayTransformer failed on fit from params fake_date {'0': {}, '1': {'rows': 2, 'lag': 1, 'method': 'additive', 'strength': 0.9, 'first_value_only': False}, '2': {}, '3': {}, '4': {'threshold': 0.8, 'splash_threshold': None, 'use_dayofmonth_holidays': True, 'use_wkdom_holidays': False, 'use_wkdeom_holidays': False, 'use_lunar_holidays': False, 'use_lunar_weekday': False, 'use_islamic_holidays': True, 'use_hebrew_holidays': False, 'anomaly_detector_params': {'method': 'rolling_zscore', 'method_params': {'distribution': 'norm', 'alpha': 0.05, 'rolling_periods': 300, 'center': False}, 'fillna': 'linear', 'transform_dict': {'transformations': {'0': 'DatepartRegression'}, 'transformation_params': {'0': {'datepart_method': 'simple_3', 'regression_model': {'model': 'ElasticNet', 'model_params': {}}}}}, 'isolated_only': False}, 'remove_excess_anomalies': True, 'impact': 'regression', 'regression_params': {}}, '5': {'span': 10}}\") in model 91 in generation 0: ConstantNaive\n",
      "Model Number: 92 with model VECM in generation 0 of 4\n",
      "Template Eval Error: LinAlgError('Singular matrix') in model 92 in generation 0: VECM\n",
      "Model Number: 93 with model UnivariateMotif in generation 0 of 4\n",
      "Model Number: 94 with model GLM in generation 0 of 4\n",
      "Template Eval Error: Exception(\"Transformer HolidayTransformer failed on fit from params cubic {'0': {'lag_1': 7, 'method': 'Median'}, '1': {'rows': 1, 'lag': 1, 'method': 'additive', 'strength': 1.0, 'first_value_only': False}, '2': {'span': 10}, '3': {}, '4': {'threshold': 0.8, 'splash_threshold': None, 'use_dayofmonth_holidays': True, 'use_wkdom_holidays': True, 'use_wkdeom_holidays': False, 'use_lunar_holidays': True, 'use_lunar_weekday': False, 'use_islamic_holidays': False, 'use_hebrew_holidays': False, 'anomaly_detector_params': {'method': 'IQR', 'method_params': {'iqr_threshold': 2.0, 'iqr_quantiles': [0.25, 0.75]}, 'fillna': 'rolling_mean_24', 'transform_dict': None, 'isolated_only': False}, 'remove_excess_anomalies': True, 'impact': 'regression', 'regression_params': {}}, '5': {}}\") in model 94 in generation 0: GLM\n",
      "Model Number: 95 with model MetricMotif in generation 0 of 4\n",
      "Model Number: 96 with model AverageValueNaive in generation 0 of 4\n",
      "Model Number: 97 with model Cassandra in generation 0 of 4\n"
     ]
    },
    {
     "name": "stderr",
     "output_type": "stream",
     "text": [
      "/Users/i038849/Library/Python/3.9/lib/python/site-packages/numpy/lib/function_base.py:2897: RuntimeWarning: invalid value encountered in divide\n",
      "  c /= stddev[:, None]\n",
      "/Users/i038849/Library/Python/3.9/lib/python/site-packages/numpy/lib/function_base.py:2898: RuntimeWarning: invalid value encountered in divide\n",
      "  c /= stddev[None, :]\n"
     ]
    },
    {
     "name": "stdout",
     "output_type": "stream",
     "text": [
      "Model Number: 98 with model ConstantNaive in generation 0 of 4\n",
      "Model Number: 99 with model SeasonalNaive in generation 0 of 4\n",
      "Model Number: 100 with model KalmanStateSpace in generation 0 of 4\n",
      "Model Number: 101 with model LastValueNaive in generation 0 of 4\n",
      "Model Number: 102 with model ETS in generation 0 of 4\n",
      "Model Number: 103 with model SectionalMotif in generation 0 of 4\n",
      "Model Number: 104 with model AverageValueNaive in generation 0 of 4\n",
      "Model Number: 105 with model GLS in generation 0 of 4\n",
      "Model Number: 106 with model SectionalMotif in generation 0 of 4\n",
      "Model Number: 107 with model ETS in generation 0 of 4\n",
      "Model Number: 108 with model ConstantNaive in generation 0 of 4\n",
      "Model Number: 109 with model DatepartRegression in generation 0 of 4\n",
      "Model Number: 110 with model SeasonalNaive in generation 0 of 4\n",
      "Model Number: 111 with model MetricMotif in generation 0 of 4\n",
      "Model Number: 112 with model VECM in generation 0 of 4\n",
      "Template Eval Error: Exception(\"Transformer Detrend failed on fit from params time {'0': {'method': 'clip', 'std_threshold': 2, 'fillna': None}, '1': {'model': 'Linear', 'phi': 1, 'window': None, 'transform_dict': {'fillna': None, 'transformations': {'0': 'AnomalyRemoval'}, 'transformation_params': {'0': {'method': 'zscore', 'transform_dict': {'transformations': {'0': 'DatepartRegression'}, 'transformation_params': {'0': {'datepart_method': 'simple_3', 'regression_model': {'model': 'ElasticNet', 'model_params': {}}}}}, 'method_params': {'distribution': 'uniform', 'alpha': 0.05}}}}}, '2': {}, '3': {'rows': 1, 'lag': 1, 'method': 'additive', 'strength': 1.0, 'first_value_only': False}}\") in model 112 in generation 0: VECM\n",
      "Model Number: 113 with model ETS in generation 0 of 4\n",
      "Model Number: 114 with model AverageValueNaive in generation 0 of 4\n",
      "Model Number: 115 with model AverageValueNaive in generation 0 of 4\n",
      "Model Number: 116 with model DatepartRegression in generation 0 of 4\n",
      "Template Eval Error: ValueError(\"Model returned NaN due to a preprocessing transformer {'fillna': 'ffill', 'transformations': {'0': 'ClipOutliers', '1': 'Detrend', '2': 'EWMAFilter', '3': 'AlignLastValue'}, 'transformation_params': {'0': {'method': 'clip', 'std_threshold': 1, 'fillna': None}, '1': {'model': 'Linear', 'phi': 0.998, 'window': 10, 'transform_dict': None}, '2': {'span': 7}, '3': {'rows': 1, 'lag': 1, 'method': 'multiplicative', 'strength': 0.7, 'first_value_only': False}}}. fail_on_forecast_nan=True\") in model 116 in generation 0: DatepartRegression\n",
      "Model Number: 117 with model LastValueNaive in generation 0 of 4\n",
      "Model Number: 118 with model SeasonalityMotif in generation 0 of 4\n",
      "Model Number: 119 with model DatepartRegression in generation 0 of 4\n"
     ]
    },
    {
     "name": "stderr",
     "output_type": "stream",
     "text": [
      "/Users/i038849/Library/Python/3.9/lib/python/site-packages/sklearn/linear_model/_coordinate_descent.py:2525: ConvergenceWarning: Objective did not converge. You might want to increase the number of iterations. Duality gap: 7.089949603257752e+19, tolerance: 2.6540173162027418e+17\n",
      "  ) = cd_fast.enet_coordinate_descent_multi_task(\n"
     ]
    },
    {
     "name": "stdout",
     "output_type": "stream",
     "text": [
      "Model Number: 120 with model SeasonalNaive in generation 0 of 4\n",
      "Model Number: 121 with model ConstantNaive in generation 0 of 4\n",
      "Model Number: 122 with model BallTreeMultivariateMotif in generation 0 of 4\n",
      "Template Eval Error: ValueError(\"Unrecognized metric '['euclidean']'\") in model 122 in generation 0: BallTreeMultivariateMotif\n",
      "Model Number: 123 with model ETS in generation 0 of 4\n",
      "Model Number: 124 with model Cassandra in generation 0 of 4\n",
      "Template Eval Error: ValueError('more than 1 year of data is required for holiday detection.') in model 124 in generation 0: Cassandra\n",
      "Model Number: 125 with model ETS in generation 0 of 4\n",
      "Model Number: 126 with model FFT in generation 0 of 4\n",
      "Model Number: 127 with model LastValueNaive in generation 0 of 4\n",
      "Model Number: 128 with model SectionalMotif in generation 0 of 4\n",
      "Model Number: 129 with model FFT in generation 0 of 4\n",
      "Template Eval Error: ValueError(\"Model returned NaN due to a preprocessing transformer {'fillna': 'cubic', 'transformations': {'0': 'LevelShiftTransformer', '1': 'AnomalyRemoval', '2': 'AlignLastValue'}, 'transformation_params': {'0': {'window_size': 7, 'alpha': 2.0, 'grouping_forward_limit': 4, 'max_level_shifts': 30, 'alignment': 'average'}, '1': {'method': 'IQR', 'method_params': {'iqr_threshold': 2.0, 'iqr_quantiles': [0.25, 0.75]}, 'fillna': 'ffill', 'transform_dict': {'transformations': {'0': 'DatepartRegression'}, 'transformation_params': {'0': {'datepart_method': 'simple_3', 'regression_model': {'model': 'ElasticNet', 'model_params': {}}}}}, 'isolated_only': False}, '2': {'rows': 1, 'lag': 1, 'method': 'multiplicative', 'strength': 0.2, 'first_value_only': False}}}. fail_on_forecast_nan=True\") in model 129 in generation 0: FFT\n",
      "Model Number: 130 with model MetricMotif in generation 0 of 4\n",
      "Model Number: 131 with model AverageValueNaive in generation 0 of 4\n",
      "Template Eval Error: Exception(\"Transformer AlignLastValue failed on inverse from params ffill {'0': {'rows': 1, 'lag': 7, 'method': 'additive', 'strength': 1.0, 'first_value_only': True}, '1': {}, '2': {}}\") in model 131 in generation 0: AverageValueNaive\n",
      "Model Number: 132 with model VECM in generation 0 of 4\n",
      "Template Eval Error: LinAlgError('Singular matrix') in model 132 in generation 0: VECM\n",
      "Model Number: 133 with model GLM in generation 0 of 4\n",
      "Model Number: 134 with model ETS in generation 0 of 4\n",
      "Template Eval Error: Exception(\"Transformer AlignLastValue failed on inverse from params zero {'0': {'decimals': -2, 'on_transform': True, 'on_inverse': False}, '1': {'method': 'clip', 'std_threshold': 1, 'fillna': None}, '2': {}, '3': {'rows': 1, 'lag': 1, 'method': 'additive', 'strength': 1.0, 'first_value_only': True}, '4': {}}\") in model 134 in generation 0: ETS\n",
      "Model Number: 135 with model UnivariateMotif in generation 0 of 4\n",
      "Model Number: 136 with model NVAR in generation 0 of 4\n",
      "Template Eval Error: Exception(\"Transformer AlignLastValue failed on inverse from params ffill {'0': {'method': 'clip', 'std_threshold': 3.5, 'fillna': None}, '1': {'model': 'GLS', 'phi': 1, 'window': 365, 'transform_dict': {'fillna': None, 'transformations': {'0': 'AnomalyRemoval'}, 'transformation_params': {'0': {'method': 'zscore', 'transform_dict': {'transformations': {'0': 'DatepartRegression'}, 'transformation_params': {'0': {'datepart_method': 'simple_3', 'regression_model': {'model': 'ElasticNet', 'model_params': {}}}}}, 'method_params': {'distribution': 'uniform', 'alpha': 0.05}}}}}, '2': {}, '3': {'rows': 1, 'lag': 2, 'method': 'additive', 'strength': 1.0, 'first_value_only': True}}\") in model 136 in generation 0: NVAR\n",
      "Model Number: 137 with model AverageValueNaive in generation 0 of 4\n",
      "Model Number: 138 with model SeasonalNaive in generation 0 of 4\n",
      "Model Number: 139 with model SeasonalNaive in generation 0 of 4\n",
      "Model Number: 140 with model AverageValueNaive in generation 0 of 4\n",
      "Model Number: 141 with model VECM in generation 0 of 4\n",
      "Template Eval Error: LinAlgError('Singular matrix') in model 141 in generation 0: VECM\n",
      "Model Number: 142 with model VAR in generation 0 of 4\n",
      "Template Eval Error: LinAlgError('4-th leading minor of the array is not positive definite') in model 142 in generation 0: VAR\n",
      "Model Number: 143 with model WindowRegression in generation 0 of 4\n",
      "Model Number: 144 with model UnivariateMotif in generation 0 of 4\n",
      "Model Number: 145 with model RRVAR in generation 0 of 4\n",
      "Model Number: 146 with model VAR in generation 0 of 4\n",
      "Template Eval Error: LinAlgError('4-th leading minor of the array is not positive definite') in model 146 in generation 0: VAR\n",
      "Model Number: 147 with model VECM in generation 0 of 4\n",
      "Template Eval Error: ValueError('Model VECM returned NaN for one or more series. fail_on_forecast_nan=True') in model 147 in generation 0: VECM\n",
      "Model Number: 148 with model UnivariateMotif in generation 0 of 4\n",
      "Model Number: 149 with model ConstantNaive in generation 0 of 4\n",
      "Model Number: 150 with model KalmanStateSpace in generation 0 of 4\n",
      "Model Number: 151 with model SeasonalNaive in generation 0 of 4\n",
      "Model Number: 152 with model ConstantNaive in generation 0 of 4\n",
      "Model Number: 153 with model VAR in generation 0 of 4\n",
      "Template Eval Error: LinAlgError('4-th leading minor of the array is not positive definite') in model 153 in generation 0: VAR\n",
      "New Generation: 1 of 4\n",
      "Model Number: 154 with model KalmanStateSpace in generation 1 of 4\n",
      "Model Number: 155 with model ETS in generation 1 of 4\n",
      "Model Number: 156 with model GLS in generation 1 of 4\n",
      "Model Number: 157 with model SectionalMotif in generation 1 of 4\n",
      "Model Number: 158 with model KalmanStateSpace in generation 1 of 4\n",
      "Model Number: 159 with model DatepartRegression in generation 1 of 4\n",
      "Model Number: 160 with model ETS in generation 1 of 4\n",
      "Model Number: 161 with model FFT in generation 1 of 4\n",
      "Model Number: 162 with model AverageValueNaive in generation 1 of 4\n",
      "Model Number: 163 with model LastValueNaive in generation 1 of 4\n",
      "Model Number: 164 with model UnivariateMotif in generation 1 of 4\n",
      "Model Number: 165 with model GLS in generation 1 of 4\n",
      "Model Number: 166 with model LastValueNaive in generation 1 of 4\n",
      "Model Number: 167 with model ETS in generation 1 of 4\n",
      "Model Number: 168 with model NVAR in generation 1 of 4\n",
      "Model Number: 169 with model ConstantNaive in generation 1 of 4\n",
      "Model Number: 170 with model AverageValueNaive in generation 1 of 4\n",
      "Model Number: 171 with model LastValueNaive in generation 1 of 4\n",
      "Model Number: 172 with model WindowRegression in generation 1 of 4\n",
      "Model Number: 173 with model AverageValueNaive in generation 1 of 4\n",
      "Model Number: 174 with model SeasonalNaive in generation 1 of 4\n",
      "Model Number: 175 with model SeasonalityMotif in generation 1 of 4\n",
      "Model Number: 176 with model UnivariateMotif in generation 1 of 4\n",
      "Model Number: 177 with model UnivariateMotif in generation 1 of 4\n",
      "Model Number: 178 with model ConstantNaive in generation 1 of 4\n",
      "Template Eval Error: Exception(\"Transformer AlignLastValue failed on inverse from params rolling_mean_24 {'0': {'rows': 1, 'lag': 7, 'method': 'additive', 'strength': 1.0, 'first_value_only': False}, '1': {}, '2': {}, '3': {}, '4': {'rows': 1, 'lag': 1, 'method': 'additive', 'strength': 1.0, 'first_value_only': True}}\") in model 178 in generation 1: ConstantNaive\n",
      "Model Number: 179 with model LastValueNaive in generation 1 of 4\n",
      "Model Number: 180 with model GLS in generation 1 of 4\n",
      "Model Number: 181 with model AverageValueNaive in generation 1 of 4\n",
      "Model Number: 182 with model WindowRegression in generation 1 of 4\n",
      "Model Number: 183 with model WindowRegression in generation 1 of 4\n",
      "Template Eval Error: Exception(\"Transformer AlignLastValue failed on inverse from params nearest {'0': {'rows': 1, 'lag': 1, 'method': 'additive', 'strength': 1.0, 'first_value_only': True}, '1': {'span': 7}, '2': {'method': 'clip', 'std_threshold': 5, 'fillna': None}}\") in model 183 in generation 1: WindowRegression\n",
      "Model Number: 184 with model KalmanStateSpace in generation 1 of 4\n"
     ]
    },
    {
     "name": "stderr",
     "output_type": "stream",
     "text": [
      "/Users/i038849/Library/Python/3.9/lib/python/site-packages/autots/models/basics.py:2149: RuntimeWarning: invalid value encountered in sqrt\n",
      "  df_stdev = np.sqrt(result.observations.cov).T\n",
      "/Users/i038849/Library/Python/3.9/lib/python/site-packages/autots/models/basics.py:2175: RuntimeWarning: Mean of empty slice\n",
      "  result_score = np.nansum(np.nanmean(upper_pl + lower_pl, axis=0) / scaler)\n"
     ]
    },
    {
     "name": "stdout",
     "output_type": "stream",
     "text": [
      "Model Number: 185 with model SeasonalityMotif in generation 1 of 4\n",
      "Model Number: 186 with model DatepartRegression in generation 1 of 4\n",
      "Model Number: 187 with model GLS in generation 1 of 4\n",
      "Model Number: 188 with model LastValueNaive in generation 1 of 4\n",
      "Model Number: 189 with model DatepartRegression in generation 1 of 4\n",
      "Template Eval Error: ImportError('Tensorflow not available, install with pip install tensorflow.') in model 189 in generation 1: DatepartRegression\n",
      "Model Number: 190 with model LastValueNaive in generation 1 of 4\n",
      "Model Number: 191 with model NVAR in generation 1 of 4\n",
      "Model Number: 192 with model AverageValueNaive in generation 1 of 4\n",
      "Model Number: 193 with model SeasonalNaive in generation 1 of 4\n",
      "Model Number: 194 with model ETS in generation 1 of 4\n",
      "Model Number: 195 with model RRVAR in generation 1 of 4\n",
      "Model Number: 196 with model SectionalMotif in generation 1 of 4\n",
      "Model Number: 197 with model AverageValueNaive in generation 1 of 4\n",
      "Model Number: 198 with model SeasonalNaive in generation 1 of 4\n",
      "Model Number: 199 with model AverageValueNaive in generation 1 of 4\n",
      "Model Number: 200 with model LastValueNaive in generation 1 of 4\n",
      "Model Number: 201 with model Cassandra in generation 1 of 4\n",
      "Template Eval Error: ValueError('more than 1 year of data is required for holiday detection.') in model 201 in generation 1: Cassandra\n",
      "Model Number: 202 with model ConstantNaive in generation 1 of 4\n",
      "Model Number: 203 with model SeasonalNaive in generation 1 of 4\n",
      "Model Number: 204 with model UnivariateMotif in generation 1 of 4\n",
      "Model Number: 205 with model SeasonalNaive in generation 1 of 4\n",
      "Model Number: 206 with model LastValueNaive in generation 1 of 4\n",
      "Model Number: 207 with model SeasonalNaive in generation 1 of 4\n",
      "Model Number: 208 with model AverageValueNaive in generation 1 of 4\n",
      "Model Number: 209 with model ETS in generation 1 of 4\n",
      "Model Number: 210 with model LastValueNaive in generation 1 of 4\n",
      "Model Number: 211 with model GLS in generation 1 of 4\n",
      "Model Number: 212 with model AverageValueNaive in generation 1 of 4\n",
      "Model Number: 213 with model ETS in generation 1 of 4\n",
      "Model Number: 214 with model LastValueNaive in generation 1 of 4\n",
      "Model Number: 215 with model WindowRegression in generation 1 of 4\n"
     ]
    },
    {
     "name": "stderr",
     "output_type": "stream",
     "text": [
      "/Users/i038849/Library/Python/3.9/lib/python/site-packages/sklearn/neural_network/_multilayer_perceptron.py:546: ConvergenceWarning: lbfgs failed to converge (status=1):\n",
      "STOP: TOTAL NO. of ITERATIONS REACHED LIMIT.\n",
      "\n",
      "Increase the number of iterations (max_iter) or scale the data as shown in:\n",
      "    https://scikit-learn.org/stable/modules/preprocessing.html\n",
      "  self.n_iter_ = _check_optimize_result(\"lbfgs\", opt_res, self.max_iter)\n"
     ]
    },
    {
     "name": "stdout",
     "output_type": "stream",
     "text": [
      "Model Number: 216 with model Cassandra in generation 1 of 4\n",
      "Template Eval Error: ValueError('more than 1 year of data is required for holiday detection.') in model 216 in generation 1: Cassandra\n",
      "Model Number: 217 with model DatepartRegression in generation 1 of 4\n",
      "Model Number: 218 with model DatepartRegression in generation 1 of 4\n",
      "Model Number: 219 with model FFT in generation 1 of 4\n"
     ]
    },
    {
     "name": "stderr",
     "output_type": "stream",
     "text": [
      "/Users/i038849/Library/Python/3.9/lib/python/site-packages/sklearn/linear_model/_coordinate_descent.py:2525: ConvergenceWarning: Objective did not converge. You might want to increase the number of iterations. Duality gap: 355.2557373046875, tolerance: 0.3060000240802765\n",
      "  ) = cd_fast.enet_coordinate_descent_multi_task(\n"
     ]
    },
    {
     "name": "stdout",
     "output_type": "stream",
     "text": [
      "Model Number: 220 with model ETS in generation 1 of 4\n",
      "Model Number: 221 with model AverageValueNaive in generation 1 of 4\n",
      "Model Number: 222 with model ConstantNaive in generation 1 of 4\n",
      "Model Number: 223 with model GLM in generation 1 of 4\n"
     ]
    },
    {
     "name": "stderr",
     "output_type": "stream",
     "text": [
      "/Users/i038849/Library/Python/3.9/lib/python/site-packages/statsmodels/genmod/families/family.py:1367: ValueWarning: Negative binomial dispersion parameter alpha not set. Using default value alpha=1.0.\n",
      "  warnings.warn(\"Negative binomial dispersion parameter alpha not \"\n",
      "/Users/i038849/Library/Python/3.9/lib/python/site-packages/statsmodels/genmod/families/family.py:1367: ValueWarning: Negative binomial dispersion parameter alpha not set. Using default value alpha=1.0.\n",
      "  warnings.warn(\"Negative binomial dispersion parameter alpha not \"\n",
      "/Users/i038849/Library/Python/3.9/lib/python/site-packages/statsmodels/genmod/families/family.py:1367: ValueWarning: Negative binomial dispersion parameter alpha not set. Using default value alpha=1.0.\n",
      "  warnings.warn(\"Negative binomial dispersion parameter alpha not \"\n",
      "/Users/i038849/Library/Python/3.9/lib/python/site-packages/statsmodels/genmod/families/family.py:1367: ValueWarning: Negative binomial dispersion parameter alpha not set. Using default value alpha=1.0.\n",
      "  warnings.warn(\"Negative binomial dispersion parameter alpha not \"\n",
      "/Users/i038849/Library/Python/3.9/lib/python/site-packages/statsmodels/genmod/families/family.py:1406: RuntimeWarning: invalid value encountered in log\n",
      "  resid_dev -= endog_alpha * np.log(endog_alpha / mu_alpha)\n",
      "/Users/i038849/Library/Python/3.9/lib/python/site-packages/statsmodels/genmod/families/family.py:1402: RuntimeWarning: divide by zero encountered in divide\n",
      "  endog_mu = self._clean(endog / mu)\n",
      "/Users/i038849/Library/Python/3.9/lib/python/site-packages/statsmodels/genmod/families/family.py:1406: RuntimeWarning: invalid value encountered in log\n",
      "  resid_dev -= endog_alpha * np.log(endog_alpha / mu_alpha)\n",
      "/Users/i038849/Library/Python/3.9/lib/python/site-packages/statsmodels/genmod/families/family.py:1367: ValueWarning: Negative binomial dispersion parameter alpha not set. Using default value alpha=1.0.\n",
      "  warnings.warn(\"Negative binomial dispersion parameter alpha not \"\n",
      "/Users/i038849/Library/Python/3.9/lib/python/site-packages/statsmodels/genmod/families/family.py:1406: RuntimeWarning: invalid value encountered in log\n",
      "  resid_dev -= endog_alpha * np.log(endog_alpha / mu_alpha)\n",
      "/Users/i038849/Library/Python/3.9/lib/python/site-packages/statsmodels/genmod/families/family.py:1367: ValueWarning: Negative binomial dispersion parameter alpha not set. Using default value alpha=1.0.\n",
      "  warnings.warn(\"Negative binomial dispersion parameter alpha not \"\n",
      "/Users/i038849/Library/Python/3.9/lib/python/site-packages/statsmodels/genmod/families/family.py:1406: RuntimeWarning: invalid value encountered in log\n",
      "  resid_dev -= endog_alpha * np.log(endog_alpha / mu_alpha)\n",
      "/Users/i038849/Library/Python/3.9/lib/python/site-packages/statsmodels/genmod/families/links.py:527: RuntimeWarning: overflow encountered in exp\n",
      "  return np.exp(z)\n",
      "/Users/i038849/Library/Python/3.9/lib/python/site-packages/statsmodels/genmod/families/family.py:1406: RuntimeWarning: divide by zero encountered in log\n",
      "  resid_dev -= endog_alpha * np.log(endog_alpha / mu_alpha)\n",
      "/Users/i038849/Library/Python/3.9/lib/python/site-packages/numpy/core/fromnumeric.py:88: RuntimeWarning: invalid value encountered in reduce\n",
      "  return ufunc.reduce(obj, axis, dtype, out, **passkwargs)\n",
      "/Users/i038849/Library/Python/3.9/lib/python/site-packages/statsmodels/genmod/families/family.py:143: RuntimeWarning: invalid value encountered in multiply\n",
      "  return 1. / (self.link.deriv(mu)**2 * self.variance(mu))\n",
      "/Users/i038849/Library/Python/3.9/lib/python/site-packages/statsmodels/genmod/generalized_linear_model.py:1328: RuntimeWarning: invalid value encountered in multiply\n",
      "  wlsendog = (lin_pred + self.family.link.deriv(mu) * (self.endog-mu)\n",
      "/Users/i038849/Library/Python/3.9/lib/python/site-packages/statsmodels/genmod/families/family.py:1367: ValueWarning: Negative binomial dispersion parameter alpha not set. Using default value alpha=1.0.\n",
      "  warnings.warn(\"Negative binomial dispersion parameter alpha not \"\n",
      "/Users/i038849/Library/Python/3.9/lib/python/site-packages/statsmodels/genmod/families/family.py:1367: ValueWarning: Negative binomial dispersion parameter alpha not set. Using default value alpha=1.0.\n",
      "  warnings.warn(\"Negative binomial dispersion parameter alpha not \"\n",
      "/Users/i038849/Library/Python/3.9/lib/python/site-packages/statsmodels/genmod/families/family.py:1367: ValueWarning: Negative binomial dispersion parameter alpha not set. Using default value alpha=1.0.\n",
      "  warnings.warn(\"Negative binomial dispersion parameter alpha not \"\n",
      "/Users/i038849/Library/Python/3.9/lib/python/site-packages/statsmodels/genmod/families/family.py:1367: ValueWarning: Negative binomial dispersion parameter alpha not set. Using default value alpha=1.0.\n",
      "  warnings.warn(\"Negative binomial dispersion parameter alpha not \"\n"
     ]
    },
    {
     "name": "stdout",
     "output_type": "stream",
     "text": [
      "Template Eval Error: ValueError('The first guess on the deviance function returned a nan.  This could be a boundary  problem and should be reported.') in model 223 in generation 1: GLM\n",
      "Model Number: 224 with model SeasonalNaive in generation 1 of 4\n",
      "Model Number: 225 with model MetricMotif in generation 1 of 4\n",
      "Model Number: 226 with model WindowRegression in generation 1 of 4\n",
      "Model Number: 227 with model UnivariateMotif in generation 1 of 4\n",
      "Model Number: 228 with model LastValueNaive in generation 1 of 4\n",
      "Model Number: 229 with model DatepartRegression in generation 1 of 4\n",
      "Model Number: 230 with model ConstantNaive in generation 1 of 4\n",
      "Model Number: 231 with model ConstantNaive in generation 1 of 4\n"
     ]
    },
    {
     "name": "stderr",
     "output_type": "stream",
     "text": [
      "/Users/i038849/Library/Python/3.9/lib/python/site-packages/sklearn/neural_network/_multilayer_perceptron.py:546: ConvergenceWarning: lbfgs failed to converge (status=1):\n",
      "STOP: TOTAL NO. of ITERATIONS REACHED LIMIT.\n",
      "\n",
      "Increase the number of iterations (max_iter) or scale the data as shown in:\n",
      "    https://scikit-learn.org/stable/modules/preprocessing.html\n",
      "  self.n_iter_ = _check_optimize_result(\"lbfgs\", opt_res, self.max_iter)\n"
     ]
    },
    {
     "name": "stdout",
     "output_type": "stream",
     "text": [
      "Model Number: 232 with model MetricMotif in generation 1 of 4\n",
      "Model Number: 233 with model GLS in generation 1 of 4\n",
      "Model Number: 234 with model ConstantNaive in generation 1 of 4\n",
      "Model Number: 235 with model SectionalMotif in generation 1 of 4\n",
      "Model Number: 236 with model WindowRegression in generation 1 of 4\n",
      "Model Number: 237 with model ETS in generation 1 of 4\n",
      "Model Number: 238 with model GLS in generation 1 of 4\n",
      "Template Eval Error: Exception(\"Transformer AlignLastValue failed on inverse from params ffill {'0': {'part': 'trend', 'lamb': 1600}, '1': {'model_name': 'AR(2)', 'state_transition': [[1, 1], [0.1, 0]], 'process_noise': [[1, 0], [0, 0]], 'observation_model': [[1, 0]], 'observation_noise': 1.0, 'em_iter': 10}, '2': {'rows': 1, 'lag': 1, 'method': 'additive', 'strength': 1.0, 'first_value_only': True}, '3': {'rows': 1, 'lag': 1, 'method': 'additive', 'strength': 1.0, 'first_value_only': False}, '4': {}}\") in model 238 in generation 1: GLS\n",
      "Model Number: 239 with model MetricMotif in generation 1 of 4\n",
      "Model Number: 240 with model ConstantNaive in generation 1 of 4\n",
      "Model Number: 241 with model SeasonalNaive in generation 1 of 4\n",
      "Model Number: 242 with model ConstantNaive in generation 1 of 4\n",
      "Model Number: 243 with model ETS in generation 1 of 4\n",
      "Model Number: 244 with model ConstantNaive in generation 1 of 4\n",
      "Model Number: 245 with model KalmanStateSpace in generation 1 of 4\n",
      "Model Number: 246 with model LastValueNaive in generation 1 of 4\n",
      "Model Number: 247 with model UnivariateMotif in generation 1 of 4\n",
      "Model Number: 248 with model FFT in generation 1 of 4\n",
      "Model Number: 249 with model ConstantNaive in generation 1 of 4\n",
      "Model Number: 250 with model GLS in generation 1 of 4\n",
      "Model Number: 251 with model Cassandra in generation 1 of 4\n",
      "Model Number: 252 with model MetricMotif in generation 1 of 4\n",
      "Model Number: 253 with model AverageValueNaive in generation 1 of 4\n",
      "Model Number: 254 with model AverageValueNaive in generation 1 of 4\n",
      "Model Number: 255 with model AverageValueNaive in generation 1 of 4\n",
      "Model Number: 256 with model ConstantNaive in generation 1 of 4\n",
      "Model Number: 257 with model SeasonalNaive in generation 1 of 4\n",
      "Model Number: 258 with model ETS in generation 1 of 4\n",
      "Model Number: 259 with model SeasonalityMotif in generation 1 of 4\n",
      "Model Number: 260 with model DatepartRegression in generation 1 of 4\n",
      "Model Number: 261 with model RRVAR in generation 1 of 4\n",
      "Model Number: 262 with model AverageValueNaive in generation 1 of 4\n",
      "Model Number: 263 with model ETS in generation 1 of 4\n",
      "Template Eval Error: ValueError(\"Model returned NaN due to a preprocessing transformer {'fillna': 'ffill', 'transformations': {'0': 'Slice', '1': 'StandardScaler', '2': 'AlignLastValue', '3': 'AlignLastValue', '4': 'AlignLastValue', '5': 'DifferencedTransformer'}, 'transformation_params': {'0': {'method': 0.5}, '1': {}, '2': {'rows': 1, 'lag': 1, 'method': 'additive', 'strength': 1.0, 'first_value_only': False}, '3': {'rows': 1, 'lag': 1, 'method': 'multiplicative', 'strength': 1.0, 'first_value_only': False}, '4': {'rows': 4, 'lag': 7, 'method': 'additive', 'strength': 0.5, 'first_value_only': False}, '5': {}}}. fail_on_forecast_nan=True\") in model 263 in generation 1: ETS\n",
      "New Generation: 2 of 4\n",
      "Model Number: 264 with model MetricMotif in generation 2 of 4\n",
      "Model Number: 265 with model ConstantNaive in generation 2 of 4\n",
      "Model Number: 266 with model GLS in generation 2 of 4\n",
      "Model Number: 267 with model GLS in generation 2 of 4\n",
      "Model Number: 268 with model MetricMotif in generation 2 of 4\n",
      "Model Number: 269 with model ConstantNaive in generation 2 of 4\n",
      "Model Number: 270 with model DatepartRegression in generation 2 of 4\n",
      "Template Eval Error: ValueError(\"regression_type='User' but no future_regressor passed\") in model 270 in generation 2: DatepartRegression\n",
      "Model Number: 271 with model KalmanStateSpace in generation 2 of 4\n",
      "Model Number: 272 with model FFT in generation 2 of 4\n",
      "Model Number: 273 with model SectionalMotif in generation 2 of 4\n",
      "Model Number: 274 with model DatepartRegression in generation 2 of 4\n",
      "Model Number: 275 with model LastValueNaive in generation 2 of 4\n",
      "Model Number: 276 with model LastValueNaive in generation 2 of 4\n",
      "Model Number: 277 with model ETS in generation 2 of 4\n",
      "Model Number: 278 with model ETS in generation 2 of 4\n",
      "Model Number: 279 with model SeasonalityMotif in generation 2 of 4\n",
      "Model Number: 280 with model ETS in generation 2 of 4\n",
      "Model Number: 281 with model MetricMotif in generation 2 of 4\n",
      "Model Number: 282 with model SeasonalityMotif in generation 2 of 4\n",
      "Model Number: 283 with model AverageValueNaive in generation 2 of 4\n",
      "Model Number: 284 with model LastValueNaive in generation 2 of 4\n",
      "Model Number: 285 with model ETS in generation 2 of 4\n",
      "Model Number: 286 with model GLS in generation 2 of 4\n",
      "Model Number: 287 with model Cassandra in generation 2 of 4\n",
      "Model Number: 288 with model LastValueNaive in generation 2 of 4\n",
      "Model Number: 289 with model SectionalMotif in generation 2 of 4\n",
      "Model Number: 290 with model WindowRegression in generation 2 of 4\n",
      "Template Eval Error: ValueError(\"regression_type='User' but no future_regressor passed\") in model 290 in generation 2: WindowRegression\n",
      "Model Number: 291 with model SeasonalityMotif in generation 2 of 4\n",
      "Template Eval Error: Exception(\"Transformer AlignLastValue failed on inverse from params ffill {'0': {'decomp_type': 'STL', 'part': 'trend', 'seasonal': 7}, '1': {'rows': 1, 'lag': 1, 'method': 'additive', 'strength': 0.7, 'first_value_only': True}, '2': {'rows': 4, 'lag': 1, 'method': 'additive', 'strength': 1.0, 'first_value_only': False}, '3': {}, '4': {}}\") in model 291 in generation 2: SeasonalityMotif\n",
      "Model Number: 292 with model GLS in generation 2 of 4\n",
      "Model Number: 293 with model SeasonalityMotif in generation 2 of 4\n",
      "Model Number: 294 with model AverageValueNaive in generation 2 of 4\n",
      "Model Number: 295 with model DatepartRegression in generation 2 of 4\n",
      "Template Eval Error: ValueError(\"Input y contains infinity or a value too large for dtype('float32').\") in model 295 in generation 2: DatepartRegression\n",
      "Model Number: 296 with model ETS in generation 2 of 4\n",
      "Model Number: 297 with model ConstantNaive in generation 2 of 4\n",
      "Model Number: 298 with model DatepartRegression in generation 2 of 4\n",
      "Model Number: 299 with model WindowRegression in generation 2 of 4\n",
      "Model Number: 300 with model AverageValueNaive in generation 2 of 4\n",
      "Model Number: 301 with model UnivariateMotif in generation 2 of 4\n",
      "Model Number: 302 with model LastValueNaive in generation 2 of 4\n",
      "Model Number: 303 with model MetricMotif in generation 2 of 4\n",
      "Model Number: 304 with model LastValueNaive in generation 2 of 4\n",
      "Model Number: 305 with model MetricMotif in generation 2 of 4\n",
      "Model Number: 306 with model Cassandra in generation 2 of 4\n",
      "Template Eval Error: ModuleNotFoundError(\"No module named 'lightgbm'\") in model 306 in generation 2: Cassandra\n",
      "Model Number: 307 with model ConstantNaive in generation 2 of 4\n",
      "Model Number: 308 with model UnivariateMotif in generation 2 of 4\n"
     ]
    },
    {
     "name": "stderr",
     "output_type": "stream",
     "text": [
      "/Users/i038849/Library/Python/3.9/lib/python/site-packages/numpy/lib/function_base.py:2897: RuntimeWarning: invalid value encountered in divide\n",
      "  c /= stddev[:, None]\n",
      "/Users/i038849/Library/Python/3.9/lib/python/site-packages/numpy/lib/function_base.py:2898: RuntimeWarning: invalid value encountered in divide\n",
      "  c /= stddev[None, :]\n"
     ]
    },
    {
     "name": "stdout",
     "output_type": "stream",
     "text": [
      "Model Number: 309 with model SeasonalityMotif in generation 2 of 4\n",
      "Model Number: 310 with model FFT in generation 2 of 4\n",
      "Model Number: 311 with model DatepartRegression in generation 2 of 4\n",
      "Model Number: 312 with model LastValueNaive in generation 2 of 4\n",
      "Model Number: 313 with model AverageValueNaive in generation 2 of 4\n",
      "Model Number: 314 with model AverageValueNaive in generation 2 of 4\n",
      "Model Number: 315 with model UnivariateMotif in generation 2 of 4\n",
      "Model Number: 316 with model NVAR in generation 2 of 4\n",
      "Template Eval Error: ValueError(\"Model returned NaN due to a preprocessing transformer {'fillna': 'time', 'transformations': {'0': 'SeasonalDifference', '1': 'AlignLastValue', '2': 'EWMAFilter'}, 'transformation_params': {'0': {'lag_1': 12, 'method': 'LastValue'}, '1': {'rows': 1, 'lag': 7, 'method': 'multiplicative', 'strength': 1.0, 'first_value_only': False}, '2': {'span': 12}}}. fail_on_forecast_nan=True\") in model 316 in generation 2: NVAR\n",
      "Model Number: 317 with model KalmanStateSpace in generation 2 of 4\n",
      "Template Eval Error: LinAlgError('SVD did not converge') in model 317 in generation 2: KalmanStateSpace\n",
      "Model Number: 318 with model UnivariateMotif in generation 2 of 4\n"
     ]
    },
    {
     "name": "stderr",
     "output_type": "stream",
     "text": [
      "/Users/i038849/Library/Python/3.9/lib/python/site-packages/autots/tools/fast_kalman.py:1092: RuntimeWarning: overflow encountered in cast\n",
      "  result.smoothed.states.cov[:, j, :, :] = Ps\n",
      "/Users/i038849/Library/Python/3.9/lib/python/site-packages/autots/tools/fast_kalman.py:1098: RuntimeWarning: overflow encountered in cast\n",
      "  result.smoothed.observations.cov[:, j, :, :] = obs_cov\n",
      "/Users/i038849/Library/Python/3.9/lib/python/site-packages/autots/tools/fast_kalman.py:1309: RuntimeWarning: overflow encountered in matmul\n",
      "  return np.matmul(A, np.swapaxes(B, -1, -2))\n",
      "/Users/i038849/Library/Python/3.9/lib/python/site-packages/autots/tools/fast_kalman.py:1296: RuntimeWarning: invalid value encountered in matmul\n",
      "  return np.matmul(A, B)\n",
      "/Users/i038849/Library/Python/3.9/lib/python/site-packages/autots/tools/fast_kalman.py:1296: RuntimeWarning: overflow encountered in matmul\n",
      "  return np.matmul(A, B)\n",
      "/Users/i038849/Library/Python/3.9/lib/python/site-packages/autots/tools/fast_kalman.py:1314: RuntimeWarning: overflow encountered in multiply\n",
      "  return a * b.transpose((0, 2, 1))\n",
      "/Users/i038849/Library/Python/3.9/lib/python/site-packages/autots/tools/fast_kalman.py:1309: RuntimeWarning: invalid value encountered in matmul\n",
      "  return np.matmul(A, np.swapaxes(B, -1, -2))\n",
      "/Users/i038849/Library/Python/3.9/lib/python/site-packages/sklearn/linear_model/_coordinate_descent.py:2525: ConvergenceWarning: Objective did not converge. You might want to increase the number of iterations. Duality gap: 2.037513699190212e+20, tolerance: 4.406320615558752e+16\n",
      "  ) = cd_fast.enet_coordinate_descent_multi_task(\n"
     ]
    },
    {
     "name": "stdout",
     "output_type": "stream",
     "text": [
      "Model Number: 319 with model SeasonalNaive in generation 2 of 4\n",
      "Model Number: 320 with model SeasonalNaive in generation 2 of 4\n",
      "Model Number: 321 with model UnivariateMotif in generation 2 of 4\n",
      "Model Number: 322 with model ETS in generation 2 of 4\n",
      "Model Number: 323 with model WindowRegression in generation 2 of 4\n",
      "Model Number: 324 with model MetricMotif in generation 2 of 4\n",
      "Model Number: 325 with model LastValueNaive in generation 2 of 4\n",
      "Model Number: 326 with model FFT in generation 2 of 4\n",
      "Model Number: 327 with model ConstantNaive in generation 2 of 4\n",
      "Model Number: 328 with model RRVAR in generation 2 of 4\n",
      "Model Number: 329 with model RRVAR in generation 2 of 4\n",
      "Model Number: 330 with model SeasonalityMotif in generation 2 of 4\n",
      "Model Number: 331 with model UnivariateMotif in generation 2 of 4\n",
      "Model Number: 332 with model KalmanStateSpace in generation 2 of 4\n",
      "Model Number: 333 with model ETS in generation 2 of 4\n",
      "Model Number: 334 with model SectionalMotif in generation 2 of 4\n",
      "Template Eval Error: ValueError(\"regression_type=='User' but no future_regressor supplied\") in model 334 in generation 2: SectionalMotif\n",
      "Model Number: 335 with model ETS in generation 2 of 4\n",
      "Model Number: 336 with model GLM in generation 2 of 4\n"
     ]
    },
    {
     "name": "stderr",
     "output_type": "stream",
     "text": [
      "/Users/i038849/Library/Python/3.9/lib/python/site-packages/statsmodels/genmod/generalized_linear_model.py:1342: PerfectSeparationWarning: Perfect separation or prediction detected, parameter may not be identified\n",
      "  warnings.warn(msg, category=PerfectSeparationWarning)\n",
      "/Users/i038849/Library/Python/3.9/lib/python/site-packages/statsmodels/genmod/generalized_linear_model.py:1342: PerfectSeparationWarning: Perfect separation or prediction detected, parameter may not be identified\n",
      "  warnings.warn(msg, category=PerfectSeparationWarning)\n"
     ]
    },
    {
     "name": "stdout",
     "output_type": "stream",
     "text": [
      "Model Number: 337 with model SectionalMotif in generation 2 of 4\n",
      "Model Number: 338 with model DatepartRegression in generation 2 of 4\n",
      "Model Number: 339 with model ConstantNaive in generation 2 of 4\n",
      "Template Eval Error: ValueError(\"Model returned NaN due to a preprocessing transformer {'fillna': 'cubic', 'transformations': {'0': 'DatepartRegression', '1': 'AlignLastValue', '2': 'AlignLastValue'}, 'transformation_params': {'0': {'regression_model': {'model': 'ElasticNet', 'model_params': {}}, 'datepart_method': 'expanded', 'polynomial_degree': None, 'transform_dict': None, 'holiday_countries_used': False}, '1': {'rows': 1, 'lag': 28, 'method': 'additive', 'strength': 0.5, 'first_value_only': False}, '2': {'rows': 7, 'lag': 1, 'method': 'multiplicative', 'strength': 1.0, 'first_value_only': False}}}. fail_on_forecast_nan=True\") in model 339 in generation 2: ConstantNaive\n",
      "Model Number: 340 with model SeasonalNaive in generation 2 of 4\n",
      "Model Number: 341 with model SeasonalNaive in generation 2 of 4\n",
      "Template Eval Error: Exception(\"Transformer AlignLastValue failed on inverse from params mean {'0': {'lag_1': 7, 'method': 'Mean'}, '1': {'method': 'IQR', 'method_params': {'iqr_threshold': 2.0, 'iqr_quantiles': [0.25, 0.75]}, 'fillna': 'rolling_mean_24', 'transform_dict': {'fillna': None, 'transformations': {'0': 'ClipOutliers'}, 'transformation_params': {'0': {'method': 'clip', 'std_threshold': 6}}}, 'isolated_only': True}, '2': {'rows': 1, 'lag': 1, 'method': 'additive', 'strength': 1.0, 'first_value_only': True}}\") in model 341 in generation 2: SeasonalNaive\n",
      "Model Number: 342 with model GLS in generation 2 of 4\n",
      "Model Number: 343 with model KalmanStateSpace in generation 2 of 4\n",
      "Model Number: 344 with model SectionalMotif in generation 2 of 4\n",
      "Model Number: 345 with model FFT in generation 2 of 4\n",
      "Model Number: 346 with model ConstantNaive in generation 2 of 4\n"
     ]
    },
    {
     "name": "stderr",
     "output_type": "stream",
     "text": [
      "/Users/i038849/Library/Python/3.9/lib/python/site-packages/autots/models/basics.py:2232: RuntimeWarning: invalid value encountered in sqrt\n",
      "  df_stdev = np.sqrt(result.observations.cov).T\n"
     ]
    },
    {
     "name": "stdout",
     "output_type": "stream",
     "text": [
      "Model Number: 347 with model AverageValueNaive in generation 2 of 4\n",
      "Model Number: 348 with model NVAR in generation 2 of 4\n",
      "Model Number: 349 with model Cassandra in generation 2 of 4\n",
      "Model Number: 350 with model ETS in generation 2 of 4\n"
     ]
    },
    {
     "name": "stderr",
     "output_type": "stream",
     "text": [
      "/Users/i038849/Library/Python/3.9/lib/python/site-packages/numpy/lib/function_base.py:2897: RuntimeWarning: invalid value encountered in divide\n",
      "  c /= stddev[:, None]\n",
      "/Users/i038849/Library/Python/3.9/lib/python/site-packages/numpy/lib/function_base.py:2898: RuntimeWarning: invalid value encountered in divide\n",
      "  c /= stddev[None, :]\n"
     ]
    },
    {
     "name": "stdout",
     "output_type": "stream",
     "text": [
      "Model Number: 351 with model GLS in generation 2 of 4\n",
      "Model Number: 352 with model LastValueNaive in generation 2 of 4\n",
      "Model Number: 353 with model AverageValueNaive in generation 2 of 4\n",
      "Model Number: 354 with model LastValueNaive in generation 2 of 4\n",
      "Model Number: 355 with model KalmanStateSpace in generation 2 of 4\n",
      "Model Number: 356 with model DatepartRegression in generation 2 of 4\n",
      "Model Number: 357 with model MetricMotif in generation 2 of 4\n"
     ]
    },
    {
     "name": "stderr",
     "output_type": "stream",
     "text": [
      "/Users/i038849/Library/Python/3.9/lib/python/site-packages/sklearn/linear_model/_coordinate_descent.py:2525: ConvergenceWarning: Objective did not converge. You might want to increase the number of iterations. Duality gap: 208.4832000732422, tolerance: 0.3060000240802765\n",
      "  ) = cd_fast.enet_coordinate_descent_multi_task(\n"
     ]
    },
    {
     "name": "stdout",
     "output_type": "stream",
     "text": [
      "Model Number: 358 with model AverageValueNaive in generation 2 of 4\n",
      "Model Number: 359 with model DatepartRegression in generation 2 of 4\n",
      "Model Number: 360 with model WindowRegression in generation 2 of 4\n",
      "Model Number: 361 with model SectionalMotif in generation 2 of 4\n",
      "Template Eval Error: ValueError(\"regression_type=='User' but no future_regressor supplied\") in model 361 in generation 2: SectionalMotif\n",
      "Model Number: 362 with model GLM in generation 2 of 4\n",
      "Model Number: 363 with model SeasonalNaive in generation 2 of 4\n",
      "Template Eval Error: Exception(\"Transformer AlignLastValue failed on inverse from params ffill {'0': {'rows': 1, 'lag': 1, 'method': 'additive', 'strength': 1.0, 'first_value_only': True}, '1': {}, '2': {'decimals': 0, 'on_transform': True, 'on_inverse': True}, '3': {}, '4': {}}\") in model 363 in generation 2: SeasonalNaive\n"
     ]
    },
    {
     "name": "stderr",
     "output_type": "stream",
     "text": [
      "/Users/i038849/Library/Python/3.9/lib/python/site-packages/statsmodels/genmod/families/family.py:1367: ValueWarning: Negative binomial dispersion parameter alpha not set. Using default value alpha=1.0.\n",
      "  warnings.warn(\"Negative binomial dispersion parameter alpha not \"\n",
      "/Users/i038849/Library/Python/3.9/lib/python/site-packages/statsmodels/genmod/families/family.py:1367: ValueWarning: Negative binomial dispersion parameter alpha not set. Using default value alpha=1.0.\n",
      "  warnings.warn(\"Negative binomial dispersion parameter alpha not \"\n",
      "/Users/i038849/Library/Python/3.9/lib/python/site-packages/statsmodels/genmod/families/family.py:1367: ValueWarning: Negative binomial dispersion parameter alpha not set. Using default value alpha=1.0.\n",
      "  warnings.warn(\"Negative binomial dispersion parameter alpha not \"\n",
      "/Users/i038849/Library/Python/3.9/lib/python/site-packages/statsmodels/genmod/families/family.py:1367: ValueWarning: Negative binomial dispersion parameter alpha not set. Using default value alpha=1.0.\n",
      "  warnings.warn(\"Negative binomial dispersion parameter alpha not \"\n",
      "/Users/i038849/Library/Python/3.9/lib/python/site-packages/statsmodels/genmod/generalized_linear_model.py:1342: PerfectSeparationWarning: Perfect separation or prediction detected, parameter may not be identified\n",
      "  warnings.warn(msg, category=PerfectSeparationWarning)\n",
      "/Users/i038849/Library/Python/3.9/lib/python/site-packages/statsmodels/genmod/families/family.py:1367: ValueWarning: Negative binomial dispersion parameter alpha not set. Using default value alpha=1.0.\n",
      "  warnings.warn(\"Negative binomial dispersion parameter alpha not \"\n",
      "/Users/i038849/Library/Python/3.9/lib/python/site-packages/statsmodels/genmod/families/family.py:1367: ValueWarning: Negative binomial dispersion parameter alpha not set. Using default value alpha=1.0.\n",
      "  warnings.warn(\"Negative binomial dispersion parameter alpha not \"\n",
      "/Users/i038849/Library/Python/3.9/lib/python/site-packages/statsmodels/genmod/families/family.py:1367: ValueWarning: Negative binomial dispersion parameter alpha not set. Using default value alpha=1.0.\n",
      "  warnings.warn(\"Negative binomial dispersion parameter alpha not \"\n",
      "/Users/i038849/Library/Python/3.9/lib/python/site-packages/statsmodels/genmod/families/family.py:1367: ValueWarning: Negative binomial dispersion parameter alpha not set. Using default value alpha=1.0.\n",
      "  warnings.warn(\"Negative binomial dispersion parameter alpha not \"\n",
      "/Users/i038849/Library/Python/3.9/lib/python/site-packages/statsmodels/genmod/families/family.py:1367: ValueWarning: Negative binomial dispersion parameter alpha not set. Using default value alpha=1.0.\n",
      "  warnings.warn(\"Negative binomial dispersion parameter alpha not \"\n",
      "/Users/i038849/Library/Python/3.9/lib/python/site-packages/statsmodels/genmod/generalized_linear_model.py:1342: PerfectSeparationWarning: Perfect separation or prediction detected, parameter may not be identified\n",
      "  warnings.warn(msg, category=PerfectSeparationWarning)\n",
      "/Users/i038849/Library/Python/3.9/lib/python/site-packages/statsmodels/genmod/families/family.py:1367: ValueWarning: Negative binomial dispersion parameter alpha not set. Using default value alpha=1.0.\n",
      "  warnings.warn(\"Negative binomial dispersion parameter alpha not \"\n",
      "/Users/i038849/Library/Python/3.9/lib/python/site-packages/statsmodels/genmod/families/family.py:1367: ValueWarning: Negative binomial dispersion parameter alpha not set. Using default value alpha=1.0.\n",
      "  warnings.warn(\"Negative binomial dispersion parameter alpha not \"\n",
      "/Users/i038849/Library/Python/3.9/lib/python/site-packages/statsmodels/genmod/families/family.py:1367: ValueWarning: Negative binomial dispersion parameter alpha not set. Using default value alpha=1.0.\n",
      "  warnings.warn(\"Negative binomial dispersion parameter alpha not \"\n",
      "/Users/i038849/Library/Python/3.9/lib/python/site-packages/statsmodels/genmod/families/family.py:1367: ValueWarning: Negative binomial dispersion parameter alpha not set. Using default value alpha=1.0.\n",
      "  warnings.warn(\"Negative binomial dispersion parameter alpha not \"\n",
      "/Users/i038849/Library/Python/3.9/lib/python/site-packages/statsmodels/genmod/families/family.py:1367: ValueWarning: Negative binomial dispersion parameter alpha not set. Using default value alpha=1.0.\n",
      "  warnings.warn(\"Negative binomial dispersion parameter alpha not \"\n"
     ]
    },
    {
     "name": "stdout",
     "output_type": "stream",
     "text": [
      "Model Number: 364 with model SectionalMotif in generation 2 of 4\n",
      "Model Number: 365 with model LastValueNaive in generation 2 of 4\n",
      "Model Number: 366 with model NVAR in generation 2 of 4\n",
      "Model Number: 367 with model RRVAR in generation 2 of 4\n",
      "Model Number: 368 with model UnivariateMotif in generation 2 of 4\n",
      "Template Eval Error: LinAlgError('Singular matrix') in model 368 in generation 2: UnivariateMotif\n",
      "Model Number: 369 with model SeasonalityMotif in generation 2 of 4\n",
      "Model Number: 370 with model ConstantNaive in generation 2 of 4\n",
      "Model Number: 371 with model GLM in generation 2 of 4\n",
      "Template Eval Error: ValueError('regression_type=user and no future_regressor passed') in model 371 in generation 2: GLM\n",
      "Model Number: 372 with model ETS in generation 2 of 4\n",
      "Model Number: 373 with model NVAR in generation 2 of 4\n",
      "Template Eval Error: ValueError('Model NVAR returned NaN for one or more series. fail_on_forecast_nan=True') in model 373 in generation 2: NVAR\n",
      "New Generation: 3 of 4\n",
      "Model Number: 374 with model AverageValueNaive in generation 3 of 4\n",
      "Model Number: 375 with model NVAR in generation 3 of 4\n",
      "Template Eval Error: ValueError('Model NVAR returned NaN for one or more series. fail_on_forecast_nan=True') in model 375 in generation 3: NVAR\n",
      "Model Number: 376 with model AverageValueNaive in generation 3 of 4\n",
      "Model Number: 377 with model ConstantNaive in generation 3 of 4\n",
      "Model Number: 378 with model SeasonalityMotif in generation 3 of 4\n",
      "Model Number: 379 with model ETS in generation 3 of 4\n",
      "Model Number: 380 with model LastValueNaive in generation 3 of 4\n",
      "Template Eval Error: Exception(\"Transformer AlignLastValue failed on inverse from params ffill {'0': {'rows': 1, 'lag': 1, 'method': 'additive', 'strength': 1.0, 'first_value_only': False}, '1': {}, '2': {'n_harmonics': -0.95, 'detrend': 'quadratic'}, '3': {'rows': 1, 'lag': 1, 'method': 'additive', 'strength': 1.0, 'first_value_only': False}, '4': {'rows': 1, 'lag': 1, 'method': 'additive', 'strength': 1.0, 'first_value_only': True}}\") in model 380 in generation 3: LastValueNaive\n",
      "Model Number: 381 with model AverageValueNaive in generation 3 of 4\n",
      "Model Number: 382 with model DatepartRegression in generation 3 of 4\n",
      "Model Number: 383 with model SeasonalNaive in generation 3 of 4\n",
      "Model Number: 384 with model ETS in generation 3 of 4\n",
      "Model Number: 385 with model DatepartRegression in generation 3 of 4\n",
      "Model Number: 386 with model DatepartRegression in generation 3 of 4\n",
      "Model Number: 387 with model AverageValueNaive in generation 3 of 4\n",
      "Model Number: 388 with model RRVAR in generation 3 of 4\n",
      "Model Number: 389 with model ConstantNaive in generation 3 of 4\n",
      "Model Number: 390 with model SeasonalityMotif in generation 3 of 4\n",
      "Model Number: 391 with model LastValueNaive in generation 3 of 4\n",
      "Model Number: 392 with model SeasonalNaive in generation 3 of 4\n",
      "Model Number: 393 with model KalmanStateSpace in generation 3 of 4\n",
      "Model Number: 394 with model ConstantNaive in generation 3 of 4\n",
      "Template Eval Error: Exception(\"Transformer AlignLastValue failed on inverse from params rolling_mean {'0': {'rows': 1, 'lag': 1, 'method': 'additive', 'strength': 1.0, 'first_value_only': True}, '1': {}, '2': {'model_name': 'local linear hidden state with seasonal 7', 'state_transition': [[1.0, 0.0, 0.0, 0.0, 0.0, 0.0, 0.0, 0.0], [0.0, -1.0, -1.0, -1.0, -1.0, -1.0, -1.0, 0.0], [0.0, 1.0, 0.0, 0.0, 0.0, 0.0, 0.0, 0.0], [0.0, 0.0, 1.0, 0.0, 0.0, 0.0, 0.0, 0.0], [0.0, 0.0, 0.0, 1.0, 0.0, 0.0, 0.0, 0.0], [0.0, 0.0, 0.0, 0.0, 1.0, 0.0, 0.0, 0.0], [0.0, 0.0, 0.0, 0.0, 0.0, 1.0, 0.0, 0.0], [0.0, 0.0, 0.0, 0.0, 0.0, 0.0, 1.0, 0.0]], 'process_noise': [[0.04000000000000001, 0.0, 0.0, 0.0, 0.0, 0.0, 0.0, 0.0], [0.0, 0.0001, 0.0, 0.0, 0.0, 0.0, 0.0, 0.0], [0.0, 0.0, 0.0, 0.0, 0.0, 0.0, 0.0, 0.0], [0.0, 0.0, 0.0, 0.0, 0.0, 0.0, 0.0, 0.0], [0.0, 0.0, 0.0, 0.0, 0.0, 0.0, 0.0, 0.0], [0.0, 0.0, 0.0, 0.0, 0.0, 0.0, 0.0, 0.0], [0.0, 0.0, 0.0, 0.0, 0.0, 0.0, 0.0, 0.0], [0.0, 0.0, 0.0, 0.0, 0.0, 0.0, 0.0, 0.0]], 'observation_model': [[1, 1, 0, 0, 0, 0, 0, 0]], 'observation_noise': 0.04, 'em_iter': 10}, '3': {}}\") in model 394 in generation 3: ConstantNaive\n",
      "Model Number: 395 with model SeasonalityMotif in generation 3 of 4\n",
      "Model Number: 396 with model RRVAR in generation 3 of 4\n",
      "Model Number: 397 with model RRVAR in generation 3 of 4\n",
      "Model Number: 398 with model GLS in generation 3 of 4\n",
      "Model Number: 399 with model GLM in generation 3 of 4\n",
      "Template Eval Error: ValueError('regression_type=user and no future_regressor passed') in model 399 in generation 3: GLM\n",
      "Model Number: 400 with model FFT in generation 3 of 4\n",
      "Model Number: 401 with model SeasonalNaive in generation 3 of 4\n",
      "Model Number: 402 with model SeasonalNaive in generation 3 of 4\n",
      "Model Number: 403 with model LastValueNaive in generation 3 of 4\n",
      "Model Number: 404 with model ConstantNaive in generation 3 of 4\n",
      "Model Number: 405 with model FFT in generation 3 of 4\n",
      "Model Number: 406 with model SeasonalityMotif in generation 3 of 4\n",
      "Model Number: 407 with model MetricMotif in generation 3 of 4\n",
      "Model Number: 408 with model RRVAR in generation 3 of 4\n",
      "Model Number: 409 with model ConstantNaive in generation 3 of 4\n",
      "Model Number: 410 with model GLS in generation 3 of 4\n",
      "Model Number: 411 with model DatepartRegression in generation 3 of 4\n",
      "Model Number: 412 with model DatepartRegression in generation 3 of 4\n",
      "Model Number: 413 with model ETS in generation 3 of 4\n",
      "Model Number: 414 with model SectionalMotif in generation 3 of 4\n",
      "Model Number: 415 with model AverageValueNaive in generation 3 of 4\n",
      "Model Number: 416 with model UnivariateMotif in generation 3 of 4\n",
      "Model Number: 417 with model ConstantNaive in generation 3 of 4\n",
      "Model Number: 418 with model AverageValueNaive in generation 3 of 4\n",
      "Model Number: 419 with model DatepartRegression in generation 3 of 4\n",
      "Template Eval Error: ValueError(\"regression_type='User' but no future_regressor passed\") in model 419 in generation 3: DatepartRegression\n",
      "Model Number: 420 with model WindowRegression in generation 3 of 4\n",
      "Template Eval Error: ModuleNotFoundError(\"No module named 'lightgbm'\") in model 420 in generation 3: WindowRegression\n",
      "Model Number: 421 with model DatepartRegression in generation 3 of 4\n",
      "Model Number: 422 with model MetricMotif in generation 3 of 4\n",
      "Model Number: 423 with model RRVAR in generation 3 of 4\n",
      "Model Number: 424 with model AverageValueNaive in generation 3 of 4\n",
      "Model Number: 425 with model ETS in generation 3 of 4\n",
      "Model Number: 426 with model AverageValueNaive in generation 3 of 4\n",
      "Model Number: 427 with model DatepartRegression in generation 3 of 4\n",
      "Model Number: 428 with model AverageValueNaive in generation 3 of 4\n",
      "Model Number: 429 with model FFT in generation 3 of 4\n",
      "Model Number: 430 with model MetricMotif in generation 3 of 4\n",
      "Model Number: 431 with model Cassandra in generation 3 of 4\n",
      "Model Number: 432 with model ETS in generation 3 of 4\n",
      "Model Number: 433 with model NVAR in generation 3 of 4\n",
      "Model Number: 434 with model KalmanStateSpace in generation 3 of 4\n",
      "Model Number: 435 with model RRVAR in generation 3 of 4\n",
      "Model Number: 436 with model GLM in generation 3 of 4\n"
     ]
    },
    {
     "name": "stderr",
     "output_type": "stream",
     "text": [
      "/Users/i038849/Library/Python/3.9/lib/python/site-packages/statsmodels/genmod/families/links.py:198: RuntimeWarning: overflow encountered in exp\n",
      "  t = np.exp(-z)\n",
      "/Users/i038849/Library/Python/3.9/lib/python/site-packages/statsmodels/genmod/families/links.py:198: RuntimeWarning: overflow encountered in exp\n",
      "  t = np.exp(-z)\n",
      "/Users/i038849/Library/Python/3.9/lib/python/site-packages/statsmodels/genmod/generalized_linear_model.py:1342: PerfectSeparationWarning: Perfect separation or prediction detected, parameter may not be identified\n",
      "  warnings.warn(msg, category=PerfectSeparationWarning)\n",
      "/Users/i038849/Library/Python/3.9/lib/python/site-packages/statsmodels/genmod/generalized_linear_model.py:1342: PerfectSeparationWarning: Perfect separation or prediction detected, parameter may not be identified\n",
      "  warnings.warn(msg, category=PerfectSeparationWarning)\n",
      "/Users/i038849/Library/Python/3.9/lib/python/site-packages/statsmodels/genmod/families/links.py:198: RuntimeWarning: overflow encountered in exp\n",
      "  t = np.exp(-z)\n",
      "/Users/i038849/Library/Python/3.9/lib/python/site-packages/statsmodels/genmod/families/links.py:198: RuntimeWarning: overflow encountered in exp\n",
      "  t = np.exp(-z)\n"
     ]
    },
    {
     "name": "stdout",
     "output_type": "stream",
     "text": [
      "Model Number: 437 with model LastValueNaive in generation 3 of 4\n",
      "Template Eval Error: Exception(\"Transformer AlignLastValue failed on inverse from params time {'0': {'rows': 1, 'lag': 1, 'method': 'additive', 'strength': 1.0, 'first_value_only': False}, '1': {'rows': 7, 'displacement_rows': 1, 'quantile': 0, 'decay_span': 90}, '2': {'n_harmonics': -0.95, 'detrend': 'quadratic'}, '3': {'rows': 1, 'lag': 1, 'method': 'additive', 'strength': 1.0, 'first_value_only': True}}\") in model 437 in generation 3: LastValueNaive\n",
      "Model Number: 438 with model MetricMotif in generation 3 of 4\n",
      "Model Number: 439 with model SeasonalityMotif in generation 3 of 4\n",
      "Model Number: 440 with model SectionalMotif in generation 3 of 4\n",
      "Model Number: 441 with model SeasonalNaive in generation 3 of 4\n",
      "Model Number: 442 with model ETS in generation 3 of 4\n",
      "Model Number: 443 with model ETS in generation 3 of 4\n",
      "Model Number: 444 with model SeasonalityMotif in generation 3 of 4\n",
      "Model Number: 445 with model Cassandra in generation 3 of 4\n"
     ]
    },
    {
     "name": "stderr",
     "output_type": "stream",
     "text": [
      "/Users/i038849/Library/Python/3.9/lib/python/site-packages/numpy/lib/function_base.py:2897: RuntimeWarning: invalid value encountered in divide\n",
      "  c /= stddev[:, None]\n",
      "/Users/i038849/Library/Python/3.9/lib/python/site-packages/numpy/lib/function_base.py:2898: RuntimeWarning: invalid value encountered in divide\n",
      "  c /= stddev[None, :]\n"
     ]
    },
    {
     "name": "stdout",
     "output_type": "stream",
     "text": [
      "Model Number: 446 with model LastValueNaive in generation 3 of 4\n",
      "Model Number: 447 with model Cassandra in generation 3 of 4\n"
     ]
    },
    {
     "name": "stderr",
     "output_type": "stream",
     "text": [
      "/Users/i038849/Library/Python/3.9/lib/python/site-packages/numpy/lib/function_base.py:2897: RuntimeWarning: invalid value encountered in divide\n",
      "  c /= stddev[:, None]\n",
      "/Users/i038849/Library/Python/3.9/lib/python/site-packages/numpy/lib/function_base.py:2898: RuntimeWarning: invalid value encountered in divide\n",
      "  c /= stddev[None, :]\n"
     ]
    },
    {
     "name": "stdout",
     "output_type": "stream",
     "text": [
      "Model Number: 448 with model AverageValueNaive in generation 3 of 4\n",
      "Model Number: 449 with model KalmanStateSpace in generation 3 of 4\n",
      "Model Number: 450 with model GLM in generation 3 of 4\n"
     ]
    },
    {
     "name": "stderr",
     "output_type": "stream",
     "text": [
      "/Users/i038849/Library/Python/3.9/lib/python/site-packages/statsmodels/genmod/generalized_linear_model.py:1342: PerfectSeparationWarning: Perfect separation or prediction detected, parameter may not be identified\n",
      "  warnings.warn(msg, category=PerfectSeparationWarning)\n",
      "/Users/i038849/Library/Python/3.9/lib/python/site-packages/statsmodels/genmod/generalized_linear_model.py:1342: PerfectSeparationWarning: Perfect separation or prediction detected, parameter may not be identified\n",
      "  warnings.warn(msg, category=PerfectSeparationWarning)\n"
     ]
    },
    {
     "name": "stdout",
     "output_type": "stream",
     "text": [
      "Model Number: 451 with model SectionalMotif in generation 3 of 4\n",
      "Model Number: 452 with model SectionalMotif in generation 3 of 4\n",
      "Model Number: 453 with model NVAR in generation 3 of 4\n",
      "Model Number: 454 with model SeasonalNaive in generation 3 of 4\n",
      "Model Number: 455 with model GLS in generation 3 of 4\n",
      "Model Number: 456 with model NVAR in generation 3 of 4\n",
      "Template Eval Error: ValueError('Model NVAR returned NaN for one or more series. fail_on_forecast_nan=True') in model 456 in generation 3: NVAR\n",
      "Model Number: 457 with model ConstantNaive in generation 3 of 4\n",
      "Model Number: 458 with model SeasonalityMotif in generation 3 of 4\n",
      "Model Number: 459 with model SeasonalityMotif in generation 3 of 4\n",
      "Model Number: 460 with model FFT in generation 3 of 4\n",
      "Model Number: 461 with model NVAR in generation 3 of 4\n",
      "Model Number: 462 with model MetricMotif in generation 3 of 4\n",
      "Model Number: 463 with model SectionalMotif in generation 3 of 4\n",
      "Model Number: 464 with model FFT in generation 3 of 4\n",
      "Model Number: 465 with model ConstantNaive in generation 3 of 4\n",
      "Model Number: 466 with model SectionalMotif in generation 3 of 4\n",
      "Model Number: 467 with model SectionalMotif in generation 3 of 4\n",
      "Model Number: 468 with model MetricMotif in generation 3 of 4\n",
      "Model Number: 469 with model MetricMotif in generation 3 of 4\n",
      "Model Number: 470 with model SeasonalityMotif in generation 3 of 4\n",
      "Model Number: 471 with model UnivariateMotif in generation 3 of 4\n",
      "Model Number: 472 with model RRVAR in generation 3 of 4\n",
      "Model Number: 473 with model KalmanStateSpace in generation 3 of 4\n",
      "Model Number: 474 with model LastValueNaive in generation 3 of 4\n",
      "Model Number: 475 with model LastValueNaive in generation 3 of 4\n",
      "Model Number: 476 with model GLS in generation 3 of 4\n",
      "Model Number: 477 with model SeasonalNaive in generation 3 of 4\n",
      "Model Number: 478 with model SectionalMotif in generation 3 of 4\n",
      "Model Number: 479 with model ETS in generation 3 of 4\n"
     ]
    },
    {
     "name": "stderr",
     "output_type": "stream",
     "text": [
      "/Users/i038849/Library/Python/3.9/lib/python/site-packages/autots/tools/thresholding.py:204: RuntimeWarning: overflow encountered in scalar power\n",
      "  (1 + mean_perc_decrease) ** self.mean_weight\n",
      "/Users/i038849/Library/Python/3.9/lib/python/site-packages/numpy/core/fromnumeric.py:3504: RuntimeWarning: Mean of empty slice.\n",
      "  return _methods._mean(a, axis=axis, dtype=dtype,\n",
      "/Users/i038849/Library/Python/3.9/lib/python/site-packages/numpy/core/_methods.py:129: RuntimeWarning: invalid value encountered in scalar divide\n",
      "  ret = ret.dtype.type(ret / rcount)\n",
      "/Users/i038849/Library/Python/3.9/lib/python/site-packages/numpy/core/_methods.py:206: RuntimeWarning: Degrees of freedom <= 0 for slice\n",
      "  ret = _var(a, axis=axis, dtype=dtype, out=out, ddof=ddof,\n",
      "/Users/i038849/Library/Python/3.9/lib/python/site-packages/numpy/core/_methods.py:163: RuntimeWarning: invalid value encountered in divide\n",
      "  arrmean = um.true_divide(arrmean, div, out=arrmean,\n",
      "/Users/i038849/Library/Python/3.9/lib/python/site-packages/numpy/core/_methods.py:198: RuntimeWarning: invalid value encountered in scalar divide\n",
      "  ret = ret.dtype.type(ret / rcount)\n",
      "/Users/i038849/Library/Python/3.9/lib/python/site-packages/autots/tools/thresholding.py:359: RuntimeWarning: divide by zero encountered in divide\n",
      "  return abs(self.e_s - self.epsilon) / (self.mean_e_s + self.sd_e_s)\n",
      "/Users/i038849/Library/Python/3.9/lib/python/site-packages/autots/tools/thresholding.py:359: RuntimeWarning: invalid value encountered in divide\n",
      "  return abs(self.e_s - self.epsilon) / (self.mean_e_s + self.sd_e_s)\n"
     ]
    },
    {
     "name": "stdout",
     "output_type": "stream",
     "text": [
      "Model Number: 480 with model GLM in generation 3 of 4\n"
     ]
    },
    {
     "name": "stderr",
     "output_type": "stream",
     "text": [
      "/Users/i038849/Library/Python/3.9/lib/python/site-packages/statsmodels/genmod/families/links.py:527: RuntimeWarning: overflow encountered in exp\n",
      "  return np.exp(z)\n",
      "/Users/i038849/Library/Python/3.9/lib/python/site-packages/statsmodels/genmod/generalized_linear_model.py:1342: PerfectSeparationWarning: Perfect separation or prediction detected, parameter may not be identified\n",
      "  warnings.warn(msg, category=PerfectSeparationWarning)\n",
      "/Users/i038849/Library/Python/3.9/lib/python/site-packages/statsmodels/genmod/generalized_linear_model.py:1342: PerfectSeparationWarning: Perfect separation or prediction detected, parameter may not be identified\n",
      "  warnings.warn(msg, category=PerfectSeparationWarning)\n",
      "/Users/i038849/Library/Python/3.9/lib/python/site-packages/statsmodels/genmod/families/family.py:445: RuntimeWarning: divide by zero encountered in divide\n",
      "  endog_mu = self._clean(endog / mu)\n",
      "/Users/i038849/Library/Python/3.9/lib/python/site-packages/statsmodels/genmod/families/family.py:143: RuntimeWarning: invalid value encountered in multiply\n",
      "  return 1. / (self.link.deriv(mu)**2 * self.variance(mu))\n",
      "/Users/i038849/Library/Python/3.9/lib/python/site-packages/statsmodels/genmod/families/family.py:143: RuntimeWarning: divide by zero encountered in divide\n",
      "  return 1. / (self.link.deriv(mu)**2 * self.variance(mu))\n",
      "/Users/i038849/Library/Python/3.9/lib/python/site-packages/statsmodels/genmod/families/links.py:527: RuntimeWarning: overflow encountered in exp\n",
      "  return np.exp(z)\n",
      "/Users/i038849/Library/Python/3.9/lib/python/site-packages/statsmodels/genmod/generalized_linear_model.py:1328: RuntimeWarning: invalid value encountered in multiply\n",
      "  wlsendog = (lin_pred + self.family.link.deriv(mu) * (self.endog-mu)\n",
      "/Users/i038849/Library/Python/3.9/lib/python/site-packages/statsmodels/genmod/families/family.py:445: RuntimeWarning: divide by zero encountered in divide\n",
      "  endog_mu = self._clean(endog / mu)\n",
      "/Users/i038849/Library/Python/3.9/lib/python/site-packages/statsmodels/genmod/families/family.py:445: RuntimeWarning: overflow encountered in divide\n",
      "  endog_mu = self._clean(endog / mu)\n",
      "/Users/i038849/Library/Python/3.9/lib/python/site-packages/statsmodels/genmod/families/family.py:143: RuntimeWarning: invalid value encountered in multiply\n",
      "  return 1. / (self.link.deriv(mu)**2 * self.variance(mu))\n",
      "/Users/i038849/Library/Python/3.9/lib/python/site-packages/statsmodels/genmod/families/family.py:143: RuntimeWarning: divide by zero encountered in divide\n",
      "  return 1. / (self.link.deriv(mu)**2 * self.variance(mu))\n",
      "/Users/i038849/Library/Python/3.9/lib/python/site-packages/statsmodels/genmod/families/links.py:527: RuntimeWarning: overflow encountered in exp\n",
      "  return np.exp(z)\n",
      "/Users/i038849/Library/Python/3.9/lib/python/site-packages/statsmodels/genmod/families/links.py:527: RuntimeWarning: overflow encountered in exp\n",
      "  return np.exp(z)\n",
      "/Users/i038849/Library/Python/3.9/lib/python/site-packages/statsmodels/genmod/generalized_linear_model.py:1328: RuntimeWarning: invalid value encountered in multiply\n",
      "  wlsendog = (lin_pred + self.family.link.deriv(mu) * (self.endog-mu)\n",
      "/Users/i038849/Library/Python/3.9/lib/python/site-packages/statsmodels/genmod/families/family.py:143: RuntimeWarning: invalid value encountered in multiply\n",
      "  return 1. / (self.link.deriv(mu)**2 * self.variance(mu))\n",
      "/Users/i038849/Library/Python/3.9/lib/python/site-packages/statsmodels/genmod/generalized_linear_model.py:1328: RuntimeWarning: invalid value encountered in multiply\n",
      "  wlsendog = (lin_pred + self.family.link.deriv(mu) * (self.endog-mu)\n",
      "/Users/i038849/Library/Python/3.9/lib/python/site-packages/statsmodels/genmod/families/family.py:143: RuntimeWarning: invalid value encountered in multiply\n",
      "  return 1. / (self.link.deriv(mu)**2 * self.variance(mu))\n",
      "/Users/i038849/Library/Python/3.9/lib/python/site-packages/statsmodels/genmod/generalized_linear_model.py:1328: RuntimeWarning: invalid value encountered in multiply\n",
      "  wlsendog = (lin_pred + self.family.link.deriv(mu) * (self.endog-mu)\n",
      "/Users/i038849/Library/Python/3.9/lib/python/site-packages/statsmodels/genmod/families/family.py:445: RuntimeWarning: divide by zero encountered in divide\n",
      "  endog_mu = self._clean(endog / mu)\n",
      "/Users/i038849/Library/Python/3.9/lib/python/site-packages/statsmodels/genmod/families/family.py:143: RuntimeWarning: divide by zero encountered in divide\n",
      "  return 1. / (self.link.deriv(mu)**2 * self.variance(mu))\n"
     ]
    },
    {
     "name": "stdout",
     "output_type": "stream",
     "text": [
      "Template Eval Error: ValueError('NaN, inf or invalid value detected in weights, estimation infeasible.') in model 480 in generation 3: GLM\n",
      "Model Number: 481 with model Cassandra in generation 3 of 4\n",
      "Model Number: 482 with model LastValueNaive in generation 3 of 4\n",
      "Model Number: 483 with model ETS in generation 3 of 4\n",
      "New Generation: 4 of 4\n",
      "Model Number: 484 with model DatepartRegression in generation 4 of 4\n",
      "Model Number: 485 with model KalmanStateSpace in generation 4 of 4\n",
      "Model Number: 486 with model UnivariateMotif in generation 4 of 4\n",
      "Model Number: 487 with model ConstantNaive in generation 4 of 4\n",
      "Model Number: 488 with model LastValueNaive in generation 4 of 4\n",
      "Model Number: 489 with model SeasonalityMotif in generation 4 of 4\n",
      "Model Number: 490 with model SectionalMotif in generation 4 of 4\n",
      "Model Number: 491 with model RRVAR in generation 4 of 4\n",
      "Model Number: 492 with model SeasonalNaive in generation 4 of 4\n",
      "Model Number: 493 with model AverageValueNaive in generation 4 of 4\n",
      "Model Number: 494 with model GLS in generation 4 of 4\n",
      "Model Number: 495 with model UnivariateMotif in generation 4 of 4\n",
      "Model Number: 496 with model AverageValueNaive in generation 4 of 4\n",
      "Model Number: 497 with model SeasonalNaive in generation 4 of 4\n",
      "Model Number: 498 with model ETS in generation 4 of 4\n",
      "Model Number: 499 with model RRVAR in generation 4 of 4\n",
      "Model Number: 500 with model SectionalMotif in generation 4 of 4\n",
      "Template Eval Error: ValueError(\"Model returned NaN due to a preprocessing transformer {'fillna': 'ffill', 'transformations': {'0': 'DatepartRegression', '1': 'AlignLastValue', '2': 'AlignLastValue', '3': 'bkfilter'}, 'transformation_params': {'0': {'regression_model': {'model': 'ElasticNet', 'model_params': {}}, 'datepart_method': 'expanded', 'polynomial_degree': None, 'transform_dict': None, 'holiday_countries_used': False}, '1': {'rows': 7, 'lag': 1, 'method': 'multiplicative', 'strength': 0.2, 'first_value_only': False}, '2': {'rows': 1, 'lag': 1, 'method': 'additive', 'strength': 0.9, 'first_value_only': False}, '3': {}}}. fail_on_forecast_nan=True\") in model 500 in generation 4: SectionalMotif\n",
      "Model Number: 501 with model ETS in generation 4 of 4\n",
      "Model Number: 502 with model AverageValueNaive in generation 4 of 4\n",
      "Model Number: 503 with model Cassandra in generation 4 of 4\n",
      "Template Eval Error: LinAlgError('Singular matrix') in model 503 in generation 4: Cassandra\n",
      "Model Number: 504 with model SeasonalityMotif in generation 4 of 4\n",
      "Model Number: 505 with model RRVAR in generation 4 of 4\n",
      "Model Number: 506 with model UnivariateMotif in generation 4 of 4\n",
      "Model Number: 507 with model GLS in generation 4 of 4\n",
      "Model Number: 508 with model KalmanStateSpace in generation 4 of 4\n",
      "Model Number: 509 with model AverageValueNaive in generation 4 of 4\n",
      "Model Number: 510 with model AverageValueNaive in generation 4 of 4\n",
      "Model Number: 511 with model LastValueNaive in generation 4 of 4\n",
      "Model Number: 512 with model ETS in generation 4 of 4\n",
      "Model Number: 513 with model FFT in generation 4 of 4\n",
      "Model Number: 514 with model AverageValueNaive in generation 4 of 4\n",
      "Model Number: 515 with model ETS in generation 4 of 4\n"
     ]
    },
    {
     "name": "stderr",
     "output_type": "stream",
     "text": [
      "/Users/i038849/Library/Python/3.9/lib/python/site-packages/sklearn/linear_model/_ridge.py:204: LinAlgWarning: Ill-conditioned matrix (rcond=4.53758e-25): result may not be accurate.\n",
      "  return linalg.solve(A, Xy, assume_a=\"pos\", overwrite_a=True).T\n"
     ]
    },
    {
     "name": "stdout",
     "output_type": "stream",
     "text": [
      "Model Number: 516 with model LastValueNaive in generation 4 of 4\n",
      "Model Number: 517 with model MetricMotif in generation 4 of 4\n",
      "Template Eval Error: ZeroDivisionError(\"Weights sum to zero, can't be normalized\") in model 517 in generation 4: MetricMotif\n",
      "Model Number: 518 with model DatepartRegression in generation 4 of 4\n",
      "Template Eval Error: Exception(\"Transformer AlignLastValue failed on inverse from params ffill {'0': {'regression_model': {'model': 'ElasticNet', 'model_params': {}}, 'datepart_method': 'expanded', 'polynomial_degree': None, 'transform_dict': None, 'holiday_countries_used': False}, '1': {}, '2': {}, '3': {'rows': 1, 'lag': 1, 'method': 'additive', 'strength': 1.0, 'first_value_only': True}, '4': {'output_distribution': 'normal', 'n_quantiles': 85}}\") in model 518 in generation 4: DatepartRegression\n",
      "Model Number: 519 with model KalmanStateSpace in generation 4 of 4\n",
      "Model Number: 520 with model SeasonalNaive in generation 4 of 4\n",
      "Model Number: 521 with model ConstantNaive in generation 4 of 4\n",
      "Model Number: 522 with model NVAR in generation 4 of 4\n",
      "Template Eval Error: Exception(\"Transformer HolidayTransformer failed on fit from params ffill {'0': {'window_size': 30, 'alpha': 2.0, 'grouping_forward_limit': 4, 'max_level_shifts': 10, 'alignment': 'last_value'}, '1': {'threshold': 0.9, 'splash_threshold': None, 'use_dayofmonth_holidays': True, 'use_wkdom_holidays': True, 'use_wkdeom_holidays': True, 'use_lunar_holidays': True, 'use_lunar_weekday': False, 'use_islamic_holidays': False, 'use_hebrew_holidays': False, 'anomaly_detector_params': {'method': 'IQR', 'method_params': {'iqr_threshold': 2.0, 'iqr_quantiles': [0.25, 0.75]}, 'fillna': 'ffill', 'transform_dict': {'fillna': None, 'transformations': {'0': 'ClipOutliers'}, 'transformation_params': {'0': {'method': 'clip', 'std_threshold': 6}}}, 'isolated_only': False}, 'remove_excess_anomalies': True, 'impact': 'regression', 'regression_params': {}}, '2': {}, '3': {'part': 'trend', 'lamb': 1600}}\") in model 522 in generation 4: NVAR\n",
      "Model Number: 523 with model FFT in generation 4 of 4\n",
      "Model Number: 524 with model RRVAR in generation 4 of 4\n",
      "Model Number: 525 with model SectionalMotif in generation 4 of 4\n",
      "Model Number: 526 with model ETS in generation 4 of 4\n",
      "Model Number: 527 with model AverageValueNaive in generation 4 of 4\n",
      "Model Number: 528 with model GLS in generation 4 of 4\n",
      "Model Number: 529 with model SectionalMotif in generation 4 of 4\n",
      "Model Number: 530 with model SeasonalityMotif in generation 4 of 4\n",
      "Model Number: 531 with model DatepartRegression in generation 4 of 4\n",
      "Model Number: 532 with model ETS in generation 4 of 4\n",
      "Model Number: 533 with model GLM in generation 4 of 4\n",
      "Model Number: 534 with model Cassandra in generation 4 of 4\n"
     ]
    },
    {
     "name": "stderr",
     "output_type": "stream",
     "text": [
      "/Users/i038849/Library/Python/3.9/lib/python/site-packages/sklearn/linear_model/_ridge.py:204: LinAlgWarning: Ill-conditioned matrix (rcond=4.53758e-25): result may not be accurate.\n",
      "  return linalg.solve(A, Xy, assume_a=\"pos\", overwrite_a=True).T\n"
     ]
    },
    {
     "name": "stdout",
     "output_type": "stream",
     "text": [
      "Model Number: 535 with model KalmanStateSpace in generation 4 of 4\n",
      "Model Number: 536 with model LastValueNaive in generation 4 of 4\n",
      "Model Number: 537 with model MetricMotif in generation 4 of 4\n",
      "Template Eval Error: Exception(\"Transformer AlignLastValue failed on inverse from params zero {'0': {'rows': 1, 'lag': 2, 'method': 'additive', 'strength': 1.0, 'first_value_only': True}, '1': {}, '2': {}}\") in model 537 in generation 4: MetricMotif\n",
      "Model Number: 538 with model ETS in generation 4 of 4\n",
      "Model Number: 539 with model DatepartRegression in generation 4 of 4\n",
      "Template Eval Error: ImportError('Tensorflow not available, install with pip install tensorflow.') in model 539 in generation 4: DatepartRegression\n",
      "Model Number: 540 with model LastValueNaive in generation 4 of 4\n",
      "Model Number: 541 with model RRVAR in generation 4 of 4\n",
      "Model Number: 542 with model AverageValueNaive in generation 4 of 4\n",
      "Model Number: 543 with model MetricMotif in generation 4 of 4\n",
      "Model Number: 544 with model SectionalMotif in generation 4 of 4\n",
      "Model Number: 545 with model SeasonalityMotif in generation 4 of 4\n",
      "Model Number: 546 with model UnivariateMotif in generation 4 of 4\n"
     ]
    },
    {
     "name": "stderr",
     "output_type": "stream",
     "text": [
      "/Users/i038849/Library/Python/3.9/lib/python/site-packages/autots/tools/impute.py:55: RuntimeWarning: Mean of empty slice\n",
      "  arr = np.nan_to_num(arr) + np.isnan(arr) * np.nan_to_num(np.nanmean(arr, axis=0))\n"
     ]
    },
    {
     "name": "stdout",
     "output_type": "stream",
     "text": [
      "Model Number: 547 with model SectionalMotif in generation 4 of 4\n",
      "Model Number: 548 with model ETS in generation 4 of 4\n",
      "Model Number: 549 with model KalmanStateSpace in generation 4 of 4\n",
      "Model Number: 550 with model Cassandra in generation 4 of 4\n",
      "Template Eval Error: ValueError('more than 1 year of data is required for holiday detection.') in model 550 in generation 4: Cassandra\n",
      "Model Number: 551 with model Cassandra in generation 4 of 4\n",
      "Template Eval Error: ValueError('negative dimensions are not allowed') in model 551 in generation 4: Cassandra\n",
      "Model Number: 552 with model AverageValueNaive in generation 4 of 4\n",
      "Model Number: 553 with model FFT in generation 4 of 4\n"
     ]
    },
    {
     "name": "stderr",
     "output_type": "stream",
     "text": [
      "/Users/i038849/Library/Python/3.9/lib/python/site-packages/numpy/lib/function_base.py:2897: RuntimeWarning: invalid value encountered in divide\n",
      "  c /= stddev[:, None]\n",
      "/Users/i038849/Library/Python/3.9/lib/python/site-packages/numpy/lib/function_base.py:2898: RuntimeWarning: invalid value encountered in divide\n",
      "  c /= stddev[None, :]\n"
     ]
    },
    {
     "name": "stdout",
     "output_type": "stream",
     "text": [
      "Model Number: 554 with model UnivariateMotif in generation 4 of 4\n",
      "Model Number: 555 with model ConstantNaive in generation 4 of 4\n",
      "Model Number: 556 with model ConstantNaive in generation 4 of 4\n",
      "Model Number: 557 with model SectionalMotif in generation 4 of 4\n",
      "Model Number: 558 with model UnivariateMotif in generation 4 of 4\n",
      "Model Number: 559 with model Cassandra in generation 4 of 4\n",
      "Template Eval Error: LinAlgError('Singular matrix') in model 559 in generation 4: Cassandra\n",
      "Model Number: 560 with model MetricMotif in generation 4 of 4\n",
      "Model Number: 561 with model NVAR in generation 4 of 4\n",
      "Template Eval Error: ValueError('Model NVAR returned NaN for one or more series. fail_on_forecast_nan=True') in model 561 in generation 4: NVAR\n",
      "Model Number: 562 with model SeasonalityMotif in generation 4 of 4\n"
     ]
    },
    {
     "name": "stderr",
     "output_type": "stream",
     "text": [
      "/Users/i038849/Library/Python/3.9/lib/python/site-packages/numpy/lib/function_base.py:2897: RuntimeWarning: invalid value encountered in divide\n",
      "  c /= stddev[:, None]\n",
      "/Users/i038849/Library/Python/3.9/lib/python/site-packages/numpy/lib/function_base.py:2898: RuntimeWarning: invalid value encountered in divide\n",
      "  c /= stddev[None, :]\n"
     ]
    },
    {
     "name": "stdout",
     "output_type": "stream",
     "text": [
      "Model Number: 563 with model LastValueNaive in generation 4 of 4\n",
      "Model Number: 564 with model SeasonalityMotif in generation 4 of 4\n",
      "Model Number: 565 with model LastValueNaive in generation 4 of 4\n",
      "Model Number: 566 with model RRVAR in generation 4 of 4\n",
      "Model Number: 567 with model KalmanStateSpace in generation 4 of 4\n",
      "Template Eval Error: ValueError(\"Model returned NaN due to a preprocessing transformer {'fillna': 'fake_date', 'transformations': {'0': 'AlignLastValue', '1': 'StandardScaler', '2': 'AlignLastValue', '3': 'IntermittentOccurrence'}, 'transformation_params': {'0': {'rows': 1, 'lag': 1, 'method': 'multiplicative', 'strength': 1.0, 'first_value_only': False}, '1': {}, '2': {'rows': 1, 'lag': 1, 'method': 'multiplicative', 'strength': 1.0, 'first_value_only': False}, '3': {'center': 'mean'}}}. fail_on_forecast_nan=True\") in model 567 in generation 4: KalmanStateSpace\n",
      "Model Number: 568 with model LastValueNaive in generation 4 of 4\n",
      "Model Number: 569 with model NVAR in generation 4 of 4\n",
      "Template Eval Error: ValueError('Model NVAR returned NaN for one or more series. fail_on_forecast_nan=True') in model 569 in generation 4: NVAR\n",
      "Model Number: 570 with model ETS in generation 4 of 4\n",
      "Model Number: 571 with model FFT in generation 4 of 4\n",
      "Model Number: 572 with model GLM in generation 4 of 4\n"
     ]
    },
    {
     "name": "stderr",
     "output_type": "stream",
     "text": [
      "/Users/i038849/Library/Python/3.9/lib/python/site-packages/statsmodels/genmod/generalized_linear_model.py:1342: PerfectSeparationWarning: Perfect separation or prediction detected, parameter may not be identified\n",
      "  warnings.warn(msg, category=PerfectSeparationWarning)\n",
      "/Users/i038849/Library/Python/3.9/lib/python/site-packages/statsmodels/genmod/generalized_linear_model.py:1342: PerfectSeparationWarning: Perfect separation or prediction detected, parameter may not be identified\n",
      "  warnings.warn(msg, category=PerfectSeparationWarning)\n",
      "/Users/i038849/Library/Python/3.9/lib/python/site-packages/statsmodels/genmod/families/links.py:527: RuntimeWarning: overflow encountered in exp\n",
      "  return np.exp(z)\n",
      "/Users/i038849/Library/Python/3.9/lib/python/site-packages/statsmodels/genmod/families/links.py:527: RuntimeWarning: overflow encountered in exp\n",
      "  return np.exp(z)\n",
      "/Users/i038849/Library/Python/3.9/lib/python/site-packages/statsmodels/genmod/families/family.py:445: RuntimeWarning: divide by zero encountered in divide\n",
      "  endog_mu = self._clean(endog / mu)\n",
      "/Users/i038849/Library/Python/3.9/lib/python/site-packages/statsmodels/genmod/families/family.py:143: RuntimeWarning: divide by zero encountered in divide\n",
      "  return 1. / (self.link.deriv(mu)**2 * self.variance(mu))\n",
      "/Users/i038849/Library/Python/3.9/lib/python/site-packages/statsmodels/genmod/families/links.py:527: RuntimeWarning: overflow encountered in exp\n",
      "  return np.exp(z)\n",
      "/Users/i038849/Library/Python/3.9/lib/python/site-packages/statsmodels/genmod/families/family.py:445: RuntimeWarning: divide by zero encountered in divide\n",
      "  endog_mu = self._clean(endog / mu)\n",
      "/Users/i038849/Library/Python/3.9/lib/python/site-packages/statsmodels/genmod/families/family.py:445: RuntimeWarning: divide by zero encountered in divide\n",
      "  endog_mu = self._clean(endog / mu)\n",
      "/Users/i038849/Library/Python/3.9/lib/python/site-packages/statsmodels/genmod/families/family.py:143: RuntimeWarning: invalid value encountered in multiply\n",
      "  return 1. / (self.link.deriv(mu)**2 * self.variance(mu))\n",
      "/Users/i038849/Library/Python/3.9/lib/python/site-packages/statsmodels/genmod/families/family.py:143: RuntimeWarning: divide by zero encountered in divide\n",
      "  return 1. / (self.link.deriv(mu)**2 * self.variance(mu))\n",
      "/Users/i038849/Library/Python/3.9/lib/python/site-packages/statsmodels/genmod/families/family.py:143: RuntimeWarning: invalid value encountered in multiply\n",
      "  return 1. / (self.link.deriv(mu)**2 * self.variance(mu))\n",
      "/Users/i038849/Library/Python/3.9/lib/python/site-packages/statsmodels/genmod/families/family.py:143: RuntimeWarning: divide by zero encountered in divide\n",
      "  return 1. / (self.link.deriv(mu)**2 * self.variance(mu))\n",
      "/Users/i038849/Library/Python/3.9/lib/python/site-packages/statsmodels/genmod/families/family.py:445: RuntimeWarning: divide by zero encountered in divide\n",
      "  endog_mu = self._clean(endog / mu)\n",
      "/Users/i038849/Library/Python/3.9/lib/python/site-packages/statsmodels/genmod/families/family.py:143: RuntimeWarning: invalid value encountered in multiply\n",
      "  return 1. / (self.link.deriv(mu)**2 * self.variance(mu))\n",
      "/Users/i038849/Library/Python/3.9/lib/python/site-packages/statsmodels/genmod/families/family.py:143: RuntimeWarning: divide by zero encountered in divide\n",
      "  return 1. / (self.link.deriv(mu)**2 * self.variance(mu))\n",
      "/Users/i038849/Library/Python/3.9/lib/python/site-packages/statsmodels/genmod/generalized_linear_model.py:1328: RuntimeWarning: invalid value encountered in multiply\n",
      "  wlsendog = (lin_pred + self.family.link.deriv(mu) * (self.endog-mu)\n",
      "/Users/i038849/Library/Python/3.9/lib/python/site-packages/statsmodels/genmod/generalized_linear_model.py:1328: RuntimeWarning: invalid value encountered in multiply\n",
      "  wlsendog = (lin_pred + self.family.link.deriv(mu) * (self.endog-mu)\n",
      "/Users/i038849/Library/Python/3.9/lib/python/site-packages/statsmodels/genmod/generalized_linear_model.py:1328: RuntimeWarning: invalid value encountered in multiply\n",
      "  wlsendog = (lin_pred + self.family.link.deriv(mu) * (self.endog-mu)\n"
     ]
    },
    {
     "name": "stdout",
     "output_type": "stream",
     "text": [
      "Template Eval Error: ValueError('NaN, inf or invalid value detected in weights, estimation infeasible.') in model 572 in generation 4: GLM\n",
      "Model Number: 573 with model SectionalMotif in generation 4 of 4\n",
      "Model Number: 574 with model ConstantNaive in generation 4 of 4\n",
      "Model Number: 575 with model ETS in generation 4 of 4\n",
      "Template Eval Error: Exception(\"Transformer AlignLastValue failed on inverse from params ffill {'0': {'rows': 1, 'lag': 28, 'method': 'additive', 'strength': 1.0, 'first_value_only': True}, '1': {'output_distribution': 'normal', 'n_quantiles': 85}}\") in model 575 in generation 4: ETS\n",
      "Model Number: 576 with model SeasonalityMotif in generation 4 of 4\n",
      "Model Number: 577 with model MetricMotif in generation 4 of 4\n",
      "Model Number: 578 with model SeasonalityMotif in generation 4 of 4\n",
      "Model Number: 579 with model DatepartRegression in generation 4 of 4\n",
      "Model Number: 580 with model AverageValueNaive in generation 4 of 4\n",
      "Model Number: 581 with model DatepartRegression in generation 4 of 4\n"
     ]
    },
    {
     "name": "stderr",
     "output_type": "stream",
     "text": [
      "/Users/i038849/Library/Python/3.9/lib/python/site-packages/sklearn/linear_model/_coordinate_descent.py:2525: ConvergenceWarning: Objective did not converge. You might want to increase the number of iterations. Duality gap: 2.8534286070507897e+19, tolerance: 6511505965056000.0\n",
      "  ) = cd_fast.enet_coordinate_descent_multi_task(\n"
     ]
    },
    {
     "name": "stdout",
     "output_type": "stream",
     "text": [
      "Model Number: 582 with model ConstantNaive in generation 4 of 4\n",
      "Model Number: 583 with model SeasonalityMotif in generation 4 of 4\n",
      "Model Number: 584 with model ConstantNaive in generation 4 of 4\n",
      "Model Number: 585 with model SeasonalNaive in generation 4 of 4\n",
      "Model Number: 586 with model SeasonalityMotif in generation 4 of 4\n",
      "Model Number: 587 with model WindowRegression in generation 4 of 4\n",
      "Model Number: 588 with model UnivariateMotif in generation 4 of 4\n",
      "Model Number: 589 with model SectionalMotif in generation 4 of 4\n",
      "Model Number: 590 with model NVAR in generation 4 of 4\n",
      "Model Number: 591 with model Cassandra in generation 4 of 4\n",
      "Model Number: 592 with model DatepartRegression in generation 4 of 4\n",
      "Model Number: 593 with model FFT in generation 4 of 4\n"
     ]
    },
    {
     "name": "stderr",
     "output_type": "stream",
     "text": [
      "/Users/i038849/Library/Python/3.9/lib/python/site-packages/autots/models/ensemble.py:1181: FutureWarning: The behavior of DataFrame.idxmin with all-NA values, or any-NA and skipna=False, is deprecated. In a future version this will raise ValueError\n",
      "  cr_df = pd.DataFrame(per_series_des.idxmin()).transpose()\n",
      "/Users/i038849/Library/Python/3.9/lib/python/site-packages/autots/models/ensemble.py:1183: FutureWarning: The behavior of DataFrame.idxmin with all-NA values, or any-NA and skipna=False, is deprecated. In a future version this will raise ValueError\n",
      "  models_pos.extend(per_series_des.idxmin().tolist())\n",
      "/Users/i038849/Library/Python/3.9/lib/python/site-packages/autots/models/ensemble.py:1181: FutureWarning: The behavior of DataFrame.idxmin with all-NA values, or any-NA and skipna=False, is deprecated. In a future version this will raise ValueError\n",
      "  cr_df = pd.DataFrame(per_series_des.idxmin()).transpose()\n",
      "/Users/i038849/Library/Python/3.9/lib/python/site-packages/autots/models/ensemble.py:1183: FutureWarning: The behavior of DataFrame.idxmin with all-NA values, or any-NA and skipna=False, is deprecated. In a future version this will raise ValueError\n",
      "  models_pos.extend(per_series_des.idxmin().tolist())\n",
      "/Users/i038849/Library/Python/3.9/lib/python/site-packages/autots/models/ensemble.py:1181: FutureWarning: The behavior of DataFrame.idxmin with all-NA values, or any-NA and skipna=False, is deprecated. In a future version this will raise ValueError\n",
      "  cr_df = pd.DataFrame(per_series_des.idxmin()).transpose()\n",
      "/Users/i038849/Library/Python/3.9/lib/python/site-packages/autots/models/ensemble.py:1183: FutureWarning: The behavior of DataFrame.idxmin with all-NA values, or any-NA and skipna=False, is deprecated. In a future version this will raise ValueError\n",
      "  models_pos.extend(per_series_des.idxmin().tolist())\n",
      "/Users/i038849/Library/Python/3.9/lib/python/site-packages/autots/models/ensemble.py:1181: FutureWarning: The behavior of DataFrame.idxmin with all-NA values, or any-NA and skipna=False, is deprecated. In a future version this will raise ValueError\n",
      "  cr_df = pd.DataFrame(per_series_des.idxmin()).transpose()\n",
      "/Users/i038849/Library/Python/3.9/lib/python/site-packages/autots/models/ensemble.py:1183: FutureWarning: The behavior of DataFrame.idxmin with all-NA values, or any-NA and skipna=False, is deprecated. In a future version this will raise ValueError\n",
      "  models_pos.extend(per_series_des.idxmin().tolist())\n"
     ]
    },
    {
     "name": "stdout",
     "output_type": "stream",
     "text": [
      "Model Number: 594 with model Ensemble in generation 5 of Ensembles\n",
      "Model Number: 595 with model Ensemble in generation 5 of Ensembles\n",
      "Model Number: 596 with model Ensemble in generation 5 of Ensembles\n"
     ]
    },
    {
     "name": "stderr",
     "output_type": "stream",
     "text": [
      "/Users/i038849/Library/Python/3.9/lib/python/site-packages/autots/models/basics.py:2232: RuntimeWarning: invalid value encountered in sqrt\n",
      "  df_stdev = np.sqrt(result.observations.cov).T\n"
     ]
    },
    {
     "name": "stdout",
     "output_type": "stream",
     "text": [
      "Model Number: 597 with model Ensemble in generation 5 of Ensembles\n"
     ]
    },
    {
     "name": "stderr",
     "output_type": "stream",
     "text": [
      "/Users/i038849/Library/Python/3.9/lib/python/site-packages/autots/models/basics.py:2232: RuntimeWarning: invalid value encountered in sqrt\n",
      "  df_stdev = np.sqrt(result.observations.cov).T\n"
     ]
    },
    {
     "name": "stdout",
     "output_type": "stream",
     "text": [
      "Model Number: 598 with model Ensemble in generation 5 of Ensembles\n",
      "Model Number: 599 with model Ensemble in generation 5 of Ensembles\n",
      "Model Number: 600 with model Ensemble in generation 5 of Ensembles\n",
      "Model Number: 601 with model Ensemble in generation 5 of Ensembles\n",
      "Model Number: 602 with model Ensemble in generation 5 of Ensembles\n",
      "Model Number: 603 with model Ensemble in generation 5 of Ensembles\n",
      "Model Number: 604 with model Ensemble in generation 5 of Ensembles\n"
     ]
    },
    {
     "name": "stderr",
     "output_type": "stream",
     "text": [
      "/Users/i038849/Library/Python/3.9/lib/python/site-packages/sklearn/linear_model/_ridge.py:204: LinAlgWarning: Ill-conditioned matrix (rcond=4.53758e-25): result may not be accurate.\n",
      "  return linalg.solve(A, Xy, assume_a=\"pos\", overwrite_a=True).T\n"
     ]
    },
    {
     "name": "stdout",
     "output_type": "stream",
     "text": [
      "Model Number: 605 with model Ensemble in generation 5 of Ensembles\n",
      "Model Number: 606 with model Ensemble in generation 5 of Ensembles\n"
     ]
    },
    {
     "name": "stderr",
     "output_type": "stream",
     "text": [
      "/Users/i038849/Library/Python/3.9/lib/python/site-packages/sklearn/linear_model/_ridge.py:204: LinAlgWarning: Ill-conditioned matrix (rcond=4.53758e-25): result may not be accurate.\n",
      "  return linalg.solve(A, Xy, assume_a=\"pos\", overwrite_a=True).T\n"
     ]
    },
    {
     "name": "stdout",
     "output_type": "stream",
     "text": [
      "Model Number: 607 with model Ensemble in generation 5 of Ensembles\n",
      "Model Number: 608 with model Ensemble in generation 5 of Ensembles\n",
      "Validation Round: 1\n",
      "Model Number: 1 of 106 with model DatepartRegression for Validation 1\n",
      "📈 1 - DatepartRegression with avg smape 11.35: \n",
      "Model Number: 2 of 106 with model Ensemble for Validation 1\n",
      "2 - Ensemble with avg smape 11.35: \n",
      "Model Number: 3 of 106 with model Ensemble for Validation 1\n",
      "3 - Ensemble with avg smape 11.38: \n",
      "Model Number: 4 of 106 with model Ensemble for Validation 1\n",
      "📈 4 - Ensemble with avg smape 9.26: \n",
      "Model Number: 5 of 106 with model Ensemble for Validation 1\n",
      "5 - Ensemble with avg smape 11.02: \n",
      "Model Number: 6 of 106 with model Ensemble for Validation 1\n",
      "6 - Ensemble with avg smape 9.46: \n",
      "Model Number: 7 of 106 with model Ensemble for Validation 1\n",
      "7 - Ensemble with avg smape 11.43: \n",
      "Model Number: 8 of 106 with model KalmanStateSpace for Validation 1\n",
      "8 - KalmanStateSpace with avg smape 11.2: \n",
      "Model Number: 9 of 106 with model SectionalMotif for Validation 1\n",
      "9 - SectionalMotif with avg smape 18.26: \n",
      "Model Number: 10 of 106 with model DatepartRegression for Validation 1\n",
      "📈 10 - DatepartRegression with avg smape 8.79: \n",
      "Model Number: 11 of 106 with model SeasonalityMotif for Validation 1\n",
      "11 - SeasonalityMotif with avg smape 10.06: \n",
      "Model Number: 12 of 106 with model SeasonalityMotif for Validation 1\n",
      "12 - SeasonalityMotif with avg smape 10.76: \n",
      "Model Number: 13 of 106 with model SeasonalityMotif for Validation 1\n",
      "13 - SeasonalityMotif with avg smape 11.43: \n",
      "Model Number: 14 of 106 with model ETS for Validation 1\n",
      "14 - ETS with avg smape 11.46: \n",
      "Model Number: 15 of 106 with model AverageValueNaive for Validation 1\n",
      "15 - AverageValueNaive with avg smape 13.17: \n",
      "Model Number: 16 of 106 with model AverageValueNaive for Validation 1\n",
      "16 - AverageValueNaive with avg smape 13.17: \n",
      "Model Number: 17 of 106 with model LastValueNaive for Validation 1\n",
      "17 - LastValueNaive with avg smape 16.12: \n",
      "Model Number: 18 of 106 with model LastValueNaive for Validation 1\n",
      "18 - LastValueNaive with avg smape 16.12: \n",
      "Model Number: 19 of 106 with model AverageValueNaive for Validation 1\n",
      "19 - AverageValueNaive with avg smape 13.24: \n",
      "Model Number: 20 of 106 with model ETS for Validation 1\n",
      "20 - ETS with avg smape 15.28: \n",
      "Model Number: 21 of 106 with model ETS for Validation 1\n",
      "21 - ETS with avg smape 9.7: \n",
      "Model Number: 22 of 106 with model ETS for Validation 1\n",
      "22 - ETS with avg smape 9.71: \n",
      "Model Number: 23 of 106 with model ETS for Validation 1\n",
      "23 - ETS with avg smape 9.71: \n",
      "Model Number: 24 of 106 with model ETS for Validation 1\n",
      "24 - ETS with avg smape 16.47: \n",
      "Model Number: 25 of 106 with model SectionalMotif for Validation 1\n",
      "25 - SectionalMotif with avg smape 14.2: \n",
      "Model Number: 26 of 106 with model GLS for Validation 1\n",
      "26 - GLS with avg smape 15.68: \n",
      "Model Number: 27 of 106 with model LastValueNaive for Validation 1\n",
      "27 - LastValueNaive with avg smape 14.51: \n",
      "Model Number: 28 of 106 with model LastValueNaive for Validation 1\n",
      "28 - LastValueNaive with avg smape 14.51: \n",
      "Model Number: 29 of 106 with model SeasonalityMotif for Validation 1\n",
      "29 - SeasonalityMotif with avg smape 12.65: \n",
      "Model Number: 30 of 106 with model LastValueNaive for Validation 1\n",
      "30 - LastValueNaive with avg smape 14.04: \n",
      "Model Number: 31 of 106 with model LastValueNaive for Validation 1\n"
     ]
    },
    {
     "name": "stderr",
     "output_type": "stream",
     "text": [
      "/Users/i038849/Library/Python/3.9/lib/python/site-packages/autots/tools/impute.py:55: RuntimeWarning: Mean of empty slice\n",
      "  arr = np.nan_to_num(arr) + np.isnan(arr) * np.nan_to_num(np.nanmean(arr, axis=0))\n"
     ]
    },
    {
     "name": "stdout",
     "output_type": "stream",
     "text": [
      "31 - LastValueNaive with avg smape 14.04: \n",
      "Model Number: 32 of 106 with model SeasonalityMotif for Validation 1\n",
      "32 - SeasonalityMotif with avg smape 11.71: \n",
      "Model Number: 33 of 106 with model RRVAR for Validation 1\n",
      "33 - RRVAR with avg smape 16.83: \n",
      "Model Number: 34 of 106 with model SeasonalNaive for Validation 1\n",
      "34 - SeasonalNaive with avg smape 11.54: \n",
      "Model Number: 35 of 106 with model DatepartRegression for Validation 1\n",
      "📈 35 - DatepartRegression with avg smape 7.98: \n",
      "Model Number: 36 of 106 with model SeasonalityMotif for Validation 1\n",
      "36 - SeasonalityMotif with avg smape 18.81: \n",
      "Model Number: 37 of 106 with model DatepartRegression for Validation 1\n",
      "37 - DatepartRegression with avg smape 10.6: \n",
      "Model Number: 38 of 106 with model SeasonalNaive for Validation 1\n",
      "38 - SeasonalNaive with avg smape 13.2: \n",
      "Model Number: 39 of 106 with model DatepartRegression for Validation 1\n",
      "39 - DatepartRegression with avg smape 9.6: \n",
      "Model Number: 40 of 106 with model SectionalMotif for Validation 1\n",
      "40 - SectionalMotif with avg smape 12.13: \n",
      "Model Number: 41 of 106 with model GLS for Validation 1\n",
      "41 - GLS with avg smape 9.69: \n",
      "Model Number: 42 of 106 with model RRVAR for Validation 1\n",
      "42 - RRVAR with avg smape 14.67: \n",
      "Model Number: 43 of 106 with model GLS for Validation 1\n",
      "43 - GLS with avg smape 9.6: \n",
      "Model Number: 44 of 106 with model AverageValueNaive for Validation 1\n",
      "44 - AverageValueNaive with avg smape 9.69: \n",
      "Model Number: 45 of 106 with model SectionalMotif for Validation 1\n",
      "45 - SectionalMotif with avg smape 14.13: \n",
      "Model Number: 46 of 106 with model SectionalMotif for Validation 1\n",
      "46 - SectionalMotif with avg smape 13.74: \n",
      "Model Number: 47 of 106 with model FFT for Validation 1\n",
      "47 - FFT with avg smape 9.06: \n",
      "Model Number: 48 of 106 with model AverageValueNaive for Validation 1\n",
      "48 - AverageValueNaive with avg smape 10.58: \n",
      "Model Number: 49 of 106 with model SectionalMotif for Validation 1\n",
      "49 - SectionalMotif with avg smape 18.43: \n",
      "Model Number: 50 of 106 with model AverageValueNaive for Validation 1\n",
      "50 - AverageValueNaive with avg smape 9.38: \n",
      "Model Number: 51 of 106 with model Cassandra for Validation 1\n"
     ]
    },
    {
     "name": "stderr",
     "output_type": "stream",
     "text": [
      "/Users/i038849/Library/Python/3.9/lib/python/site-packages/sklearn/linear_model/_ridge.py:204: LinAlgWarning: Ill-conditioned matrix (rcond=4.59594e-25): result may not be accurate.\n",
      "  return linalg.solve(A, Xy, assume_a=\"pos\", overwrite_a=True).T\n"
     ]
    },
    {
     "name": "stdout",
     "output_type": "stream",
     "text": [
      "51 - Cassandra with avg smape 11.78: \n",
      "Model Number: 52 of 106 with model FFT for Validation 1\n",
      "52 - FFT with avg smape 10.37: \n",
      "Model Number: 53 of 106 with model GLM for Validation 1\n"
     ]
    },
    {
     "name": "stderr",
     "output_type": "stream",
     "text": [
      "/Users/i038849/Library/Python/3.9/lib/python/site-packages/statsmodels/genmod/generalized_linear_model.py:1342: PerfectSeparationWarning: Perfect separation or prediction detected, parameter may not be identified\n",
      "  warnings.warn(msg, category=PerfectSeparationWarning)\n",
      "/Users/i038849/Library/Python/3.9/lib/python/site-packages/statsmodels/genmod/generalized_linear_model.py:1342: PerfectSeparationWarning: Perfect separation or prediction detected, parameter may not be identified\n",
      "  warnings.warn(msg, category=PerfectSeparationWarning)\n"
     ]
    },
    {
     "name": "stdout",
     "output_type": "stream",
     "text": [
      "53 - GLM with avg smape 12.14: \n",
      "Model Number: 54 of 106 with model Cassandra for Validation 1\n"
     ]
    },
    {
     "name": "stderr",
     "output_type": "stream",
     "text": [
      "/Users/i038849/Library/Python/3.9/lib/python/site-packages/numpy/lib/function_base.py:2897: RuntimeWarning: invalid value encountered in divide\n",
      "  c /= stddev[:, None]\n",
      "/Users/i038849/Library/Python/3.9/lib/python/site-packages/numpy/lib/function_base.py:2898: RuntimeWarning: invalid value encountered in divide\n",
      "  c /= stddev[None, :]\n"
     ]
    },
    {
     "name": "stdout",
     "output_type": "stream",
     "text": [
      "54 - Cassandra with avg smape 13.54: \n",
      "Model Number: 55 of 106 with model FFT for Validation 1\n",
      "55 - FFT with avg smape 12.34: \n",
      "Model Number: 56 of 106 with model KalmanStateSpace for Validation 1\n",
      "56 - KalmanStateSpace with avg smape 15.22: \n",
      "Model Number: 57 of 106 with model RRVAR for Validation 1\n",
      "57 - RRVAR with avg smape 14.37: \n",
      "Model Number: 58 of 106 with model KalmanStateSpace for Validation 1\n",
      "58 - KalmanStateSpace with avg smape 21.19: \n",
      "Model Number: 59 of 106 with model NVAR for Validation 1\n",
      "59 - NVAR with avg smape 10.7: \n",
      "Model Number: 60 of 106 with model MetricMotif for Validation 1\n",
      "60 - MetricMotif with avg smape 9.59: \n",
      "Model Number: 61 of 106 with model UnivariateMotif for Validation 1\n",
      "61 - UnivariateMotif with avg smape 11.72: \n",
      "Model Number: 62 of 106 with model KalmanStateSpace for Validation 1\n",
      "62 - KalmanStateSpace with avg smape 16.02: \n",
      "Model Number: 63 of 106 with model ConstantNaive for Validation 1\n",
      "63 - ConstantNaive with avg smape 14.04: \n",
      "Model Number: 64 of 106 with model UnivariateMotif for Validation 1\n",
      "64 - UnivariateMotif with avg smape 10.31: \n",
      "Model Number: 65 of 106 with model FFT for Validation 1\n",
      "65 - FFT with avg smape 9.25: \n",
      "Model Number: 66 of 106 with model FFT for Validation 1\n",
      "66 - FFT with avg smape 9.24: \n",
      "Model Number: 67 of 106 with model FFT for Validation 1\n",
      "67 - FFT with avg smape 9.22: \n",
      "Model Number: 68 of 106 with model MetricMotif for Validation 1\n",
      "68 - MetricMotif with avg smape 10.92: \n",
      "Model Number: 69 of 106 with model KalmanStateSpace for Validation 1\n",
      "69 - KalmanStateSpace with avg smape 16.05: \n",
      "Model Number: 70 of 106 with model ConstantNaive for Validation 1\n",
      "70 - ConstantNaive with avg smape 12.3: \n",
      "Model Number: 71 of 106 with model NVAR for Validation 1\n",
      "71 - NVAR with avg smape 14.25: \n",
      "Model Number: 72 of 106 with model UnivariateMotif for Validation 1\n",
      "72 - UnivariateMotif with avg smape 10.06: \n",
      "Model Number: 73 of 106 with model UnivariateMotif for Validation 1\n",
      "73 - UnivariateMotif with avg smape 10.16: \n",
      "Model Number: 74 of 106 with model ConstantNaive for Validation 1\n",
      "74 - ConstantNaive with avg smape 15.74: \n",
      "Model Number: 75 of 106 with model ConstantNaive for Validation 1\n",
      "75 - ConstantNaive with avg smape 15.74: \n",
      "Model Number: 76 of 106 with model KalmanStateSpace for Validation 1\n",
      "76 - KalmanStateSpace with avg smape 15.5: \n",
      "Model Number: 77 of 106 with model GLS for Validation 1\n",
      "77 - GLS with avg smape 10.57: \n",
      "Model Number: 78 of 106 with model UnivariateMotif for Validation 1\n",
      "78 - UnivariateMotif with avg smape 13.5: \n",
      "Model Number: 79 of 106 with model MetricMotif for Validation 1\n",
      "79 - MetricMotif with avg smape 11.73: \n",
      "Model Number: 80 of 106 with model UnivariateMotif for Validation 1\n",
      "80 - UnivariateMotif with avg smape 15.25: \n",
      "Model Number: 81 of 106 with model GLM for Validation 1\n"
     ]
    },
    {
     "name": "stderr",
     "output_type": "stream",
     "text": [
      "/Users/i038849/Library/Python/3.9/lib/python/site-packages/statsmodels/genmod/generalized_linear_model.py:1342: PerfectSeparationWarning: Perfect separation or prediction detected, parameter may not be identified\n",
      "  warnings.warn(msg, category=PerfectSeparationWarning)\n",
      "/Users/i038849/Library/Python/3.9/lib/python/site-packages/statsmodels/genmod/generalized_linear_model.py:1342: PerfectSeparationWarning: Perfect separation or prediction detected, parameter may not be identified\n",
      "  warnings.warn(msg, category=PerfectSeparationWarning)\n"
     ]
    },
    {
     "name": "stdout",
     "output_type": "stream",
     "text": [
      "81 - GLM with avg smape 13.14: \n",
      "Model Number: 82 of 106 with model ConstantNaive for Validation 1\n",
      "82 - ConstantNaive with avg smape 11.25: \n",
      "Model Number: 83 of 106 with model MetricMotif for Validation 1\n",
      "83 - MetricMotif with avg smape 21.88: \n",
      "Model Number: 84 of 106 with model ConstantNaive for Validation 1\n",
      "84 - ConstantNaive with avg smape 12.47: \n",
      "Model Number: 85 of 106 with model DatepartRegression for Validation 1\n",
      "85 - DatepartRegression with avg smape 10.23: \n",
      "Model Number: 86 of 106 with model MetricMotif for Validation 1\n",
      "86 - MetricMotif with avg smape 14.18: \n",
      "Model Number: 87 of 106 with model GLS for Validation 1\n",
      "87 - GLS with avg smape 12.68: \n",
      "Model Number: 88 of 106 with model Cassandra for Validation 1\n",
      "88 - Cassandra with avg smape 10.53: \n",
      "Model Number: 89 of 106 with model RRVAR for Validation 1\n",
      "89 - RRVAR with avg smape 9.93: \n",
      "Model Number: 90 of 106 with model MetricMotif for Validation 1\n",
      "90 - MetricMotif with avg smape 17.47: \n",
      "Model Number: 91 of 106 with model SeasonalNaive for Validation 1\n",
      "91 - SeasonalNaive with avg smape 14.46: \n",
      "Model Number: 92 of 106 with model DatepartRegression for Validation 1\n"
     ]
    },
    {
     "name": "stderr",
     "output_type": "stream",
     "text": [
      "/Users/i038849/Library/Python/3.9/lib/python/site-packages/sklearn/neural_network/_multilayer_perceptron.py:546: ConvergenceWarning: lbfgs failed to converge (status=1):\n",
      "STOP: TOTAL NO. of ITERATIONS REACHED LIMIT.\n",
      "\n",
      "Increase the number of iterations (max_iter) or scale the data as shown in:\n",
      "    https://scikit-learn.org/stable/modules/preprocessing.html\n",
      "  self.n_iter_ = _check_optimize_result(\"lbfgs\", opt_res, self.max_iter)\n"
     ]
    },
    {
     "name": "stdout",
     "output_type": "stream",
     "text": [
      "92 - DatepartRegression with avg smape 12.14: \n",
      "Model Number: 93 of 106 with model UnivariateMotif for Validation 1\n",
      "93 - UnivariateMotif with avg smape 13.79: \n",
      "Model Number: 94 of 106 with model SeasonalityMotif for Validation 1\n",
      "94 - SeasonalityMotif with avg smape 15.34: \n",
      "Model Number: 95 of 106 with model UnivariateMotif for Validation 1\n",
      "95 - UnivariateMotif with avg smape 12.45: \n",
      "Model Number: 96 of 106 with model LastValueNaive for Validation 1\n",
      "96 - LastValueNaive with avg smape 17.17: \n",
      "Model Number: 97 of 106 with model SectionalMotif for Validation 1\n",
      "97 - SectionalMotif with avg smape 16.47: \n",
      "Model Number: 98 of 106 with model SeasonalityMotif for Validation 1\n",
      "98 - SeasonalityMotif with avg smape 19.54: \n",
      "Model Number: 99 of 106 with model UnivariateMotif for Validation 1\n",
      "99 - UnivariateMotif with avg smape 11.2: \n",
      "Model Number: 100 of 106 with model ETS for Validation 1\n",
      "100 - ETS with avg smape 11.87: \n",
      "Model Number: 101 of 106 with model RRVAR for Validation 1\n",
      "101 - RRVAR with avg smape 10.9: \n",
      "Model Number: 102 of 106 with model SectionalMotif for Validation 1\n",
      "102 - SectionalMotif with avg smape 14.28: \n",
      "Model Number: 103 of 106 with model MetricMotif for Validation 1\n",
      "103 - MetricMotif with avg smape 11.18: \n",
      "Model Number: 104 of 106 with model Cassandra for Validation 1\n",
      "104 - Cassandra with avg smape 19.47: \n",
      "Model Number: 105 of 106 with model SectionalMotif for Validation 1\n",
      "105 - SectionalMotif with avg smape 18.52: \n",
      "Model Number: 106 of 106 with model UnivariateMotif for Validation 1\n",
      "106 - UnivariateMotif with avg smape 10.94: \n",
      "Validation Round: 2\n",
      "Model Number: 1 of 106 with model DatepartRegression for Validation 2\n",
      "📈 1 - DatepartRegression with avg smape 10.18: \n",
      "Model Number: 2 of 106 with model Ensemble for Validation 2\n",
      "2 - Ensemble with avg smape 10.18: \n",
      "Model Number: 3 of 106 with model Ensemble for Validation 2\n",
      "3 - Ensemble with avg smape 11.54: \n",
      "Model Number: 4 of 106 with model Ensemble for Validation 2\n",
      "📈 4 - Ensemble with avg smape 9.8: \n",
      "Model Number: 5 of 106 with model Ensemble for Validation 2\n",
      "5 - Ensemble with avg smape 11.74: \n",
      "Model Number: 6 of 106 with model Ensemble for Validation 2\n",
      "📈 6 - Ensemble with avg smape 9.71: \n",
      "Model Number: 7 of 106 with model Ensemble for Validation 2\n",
      "7 - Ensemble with avg smape 13.21: \n",
      "Model Number: 8 of 106 with model KalmanStateSpace for Validation 2\n",
      "8 - KalmanStateSpace with avg smape 11.11: \n",
      "Model Number: 9 of 106 with model SectionalMotif for Validation 2\n",
      "9 - SectionalMotif with avg smape 16.6: \n",
      "Model Number: 10 of 106 with model DatepartRegression for Validation 2\n",
      "📈 10 - DatepartRegression with avg smape 9.08: \n",
      "Model Number: 11 of 106 with model SeasonalityMotif for Validation 2\n",
      "11 - SeasonalityMotif with avg smape 15.54: \n",
      "Model Number: 12 of 106 with model SeasonalityMotif for Validation 2\n",
      "12 - SeasonalityMotif with avg smape 10.58: \n",
      "Model Number: 13 of 106 with model SeasonalityMotif for Validation 2\n",
      "13 - SeasonalityMotif with avg smape 10.88: \n",
      "Model Number: 14 of 106 with model ETS for Validation 2\n",
      "14 - ETS with avg smape 13.76: \n",
      "Model Number: 15 of 106 with model AverageValueNaive for Validation 2\n",
      "15 - AverageValueNaive with avg smape 12.79: \n",
      "Model Number: 16 of 106 with model AverageValueNaive for Validation 2\n",
      "16 - AverageValueNaive with avg smape 12.79: \n",
      "Model Number: 17 of 106 with model LastValueNaive for Validation 2\n",
      "17 - LastValueNaive with avg smape 13.99: \n",
      "Model Number: 18 of 106 with model LastValueNaive for Validation 2\n",
      "18 - LastValueNaive with avg smape 13.99: \n",
      "Model Number: 19 of 106 with model AverageValueNaive for Validation 2\n",
      "19 - AverageValueNaive with avg smape 12.84: \n",
      "Model Number: 20 of 106 with model ETS for Validation 2\n",
      "20 - ETS with avg smape 14.12: \n",
      "Model Number: 21 of 106 with model ETS for Validation 2\n",
      "21 - ETS with avg smape 11.33: \n",
      "Model Number: 22 of 106 with model ETS for Validation 2\n",
      "22 - ETS with avg smape 11.36: \n",
      "Model Number: 23 of 106 with model ETS for Validation 2\n",
      "23 - ETS with avg smape 11.36: \n",
      "Model Number: 24 of 106 with model ETS for Validation 2\n",
      "24 - ETS with avg smape 14.66: \n",
      "Model Number: 25 of 106 with model SectionalMotif for Validation 2\n",
      "25 - SectionalMotif with avg smape 17.64: \n",
      "Model Number: 26 of 106 with model GLS for Validation 2\n",
      "26 - GLS with avg smape 12.43: \n",
      "Model Number: 27 of 106 with model LastValueNaive for Validation 2\n",
      "27 - LastValueNaive with avg smape 11.62: \n",
      "Model Number: 28 of 106 with model LastValueNaive for Validation 2\n",
      "28 - LastValueNaive with avg smape 11.62: \n",
      "Model Number: 29 of 106 with model SeasonalityMotif for Validation 2\n",
      "29 - SeasonalityMotif with avg smape 16.18: \n",
      "Model Number: 30 of 106 with model LastValueNaive for Validation 2\n",
      "30 - LastValueNaive with avg smape 13.33: \n",
      "Model Number: 31 of 106 with model LastValueNaive for Validation 2\n"
     ]
    },
    {
     "name": "stderr",
     "output_type": "stream",
     "text": [
      "/Users/i038849/Library/Python/3.9/lib/python/site-packages/autots/tools/impute.py:55: RuntimeWarning: Mean of empty slice\n",
      "  arr = np.nan_to_num(arr) + np.isnan(arr) * np.nan_to_num(np.nanmean(arr, axis=0))\n"
     ]
    },
    {
     "name": "stdout",
     "output_type": "stream",
     "text": [
      "31 - LastValueNaive with avg smape 13.33: \n",
      "Model Number: 32 of 106 with model SeasonalityMotif for Validation 2\n",
      "32 - SeasonalityMotif with avg smape 10.89: \n",
      "Model Number: 33 of 106 with model RRVAR for Validation 2\n",
      "33 - RRVAR with avg smape 11.89: \n",
      "Model Number: 34 of 106 with model SeasonalNaive for Validation 2\n",
      "34 - SeasonalNaive with avg smape 13.03: \n",
      "Model Number: 35 of 106 with model DatepartRegression for Validation 2\n",
      "35 - DatepartRegression with avg smape 9.16: \n",
      "Model Number: 36 of 106 with model SeasonalityMotif for Validation 2\n",
      "36 - SeasonalityMotif with avg smape 17.73: \n",
      "Model Number: 37 of 106 with model DatepartRegression for Validation 2\n",
      "37 - DatepartRegression with avg smape 11.92: \n",
      "Model Number: 38 of 106 with model SeasonalNaive for Validation 2\n",
      "38 - SeasonalNaive with avg smape 20.07: \n",
      "Model Number: 39 of 106 with model DatepartRegression for Validation 2\n",
      "39 - DatepartRegression with avg smape 11.11: \n",
      "Model Number: 40 of 106 with model SectionalMotif for Validation 2\n",
      "40 - SectionalMotif with avg smape 17.29: \n",
      "Model Number: 41 of 106 with model GLS for Validation 2\n",
      "41 - GLS with avg smape 11.1: \n",
      "Model Number: 42 of 106 with model RRVAR for Validation 2\n",
      "42 - RRVAR with avg smape 13.82: \n",
      "Model Number: 43 of 106 with model GLS for Validation 2\n",
      "43 - GLS with avg smape 11.15: \n",
      "Model Number: 44 of 106 with model AverageValueNaive for Validation 2\n",
      "44 - AverageValueNaive with avg smape 11.08: \n",
      "Model Number: 45 of 106 with model SectionalMotif for Validation 2\n",
      "45 - SectionalMotif with avg smape 16.76: \n",
      "Model Number: 46 of 106 with model SectionalMotif for Validation 2\n",
      "46 - SectionalMotif with avg smape 15.93: \n",
      "Model Number: 47 of 106 with model FFT for Validation 2\n",
      "47 - FFT with avg smape 11.87: \n",
      "Model Number: 48 of 106 with model AverageValueNaive for Validation 2\n",
      "48 - AverageValueNaive with avg smape 11.95: \n",
      "Model Number: 49 of 106 with model SectionalMotif for Validation 2\n",
      "49 - SectionalMotif with avg smape 13.17: \n",
      "Model Number: 50 of 106 with model AverageValueNaive for Validation 2\n",
      "50 - AverageValueNaive with avg smape 11.24: \n",
      "Model Number: 51 of 106 with model Cassandra for Validation 2\n"
     ]
    },
    {
     "name": "stderr",
     "output_type": "stream",
     "text": [
      "/Users/i038849/Library/Python/3.9/lib/python/site-packages/sklearn/linear_model/_ridge.py:204: LinAlgWarning: Ill-conditioned matrix (rcond=4.5107e-25): result may not be accurate.\n",
      "  return linalg.solve(A, Xy, assume_a=\"pos\", overwrite_a=True).T\n"
     ]
    },
    {
     "name": "stdout",
     "output_type": "stream",
     "text": [
      "51 - Cassandra with avg smape 17.94: \n",
      "Model Number: 52 of 106 with model FFT for Validation 2\n",
      "52 - FFT with avg smape 12.76: \n",
      "Model Number: 53 of 106 with model GLM for Validation 2\n"
     ]
    },
    {
     "name": "stderr",
     "output_type": "stream",
     "text": [
      "/Users/i038849/Library/Python/3.9/lib/python/site-packages/statsmodels/genmod/generalized_linear_model.py:1342: PerfectSeparationWarning: Perfect separation or prediction detected, parameter may not be identified\n",
      "  warnings.warn(msg, category=PerfectSeparationWarning)\n",
      "/Users/i038849/Library/Python/3.9/lib/python/site-packages/statsmodels/genmod/generalized_linear_model.py:1342: PerfectSeparationWarning: Perfect separation or prediction detected, parameter may not be identified\n",
      "  warnings.warn(msg, category=PerfectSeparationWarning)\n"
     ]
    },
    {
     "name": "stdout",
     "output_type": "stream",
     "text": [
      "53 - GLM with avg smape 10.03: \n",
      "Model Number: 54 of 106 with model Cassandra for Validation 2\n"
     ]
    },
    {
     "name": "stderr",
     "output_type": "stream",
     "text": [
      "/Users/i038849/Library/Python/3.9/lib/python/site-packages/numpy/lib/function_base.py:2897: RuntimeWarning: invalid value encountered in divide\n",
      "  c /= stddev[:, None]\n",
      "/Users/i038849/Library/Python/3.9/lib/python/site-packages/numpy/lib/function_base.py:2898: RuntimeWarning: invalid value encountered in divide\n",
      "  c /= stddev[None, :]\n"
     ]
    },
    {
     "name": "stdout",
     "output_type": "stream",
     "text": [
      "54 - Cassandra with avg smape 33.84: \n",
      "Model Number: 55 of 106 with model FFT for Validation 2\n",
      "55 - FFT with avg smape 14.72: \n",
      "Model Number: 56 of 106 with model KalmanStateSpace for Validation 2\n",
      "56 - KalmanStateSpace with avg smape 12.82: \n",
      "Model Number: 57 of 106 with model RRVAR for Validation 2\n",
      "57 - RRVAR with avg smape 13.09: \n",
      "Model Number: 58 of 106 with model KalmanStateSpace for Validation 2\n",
      "58 - KalmanStateSpace with avg smape 18.86: \n",
      "Model Number: 59 of 106 with model NVAR for Validation 2\n",
      "59 - NVAR with avg smape 17.72: \n",
      "Model Number: 60 of 106 with model MetricMotif for Validation 2\n",
      "60 - MetricMotif with avg smape 11.37: \n",
      "Model Number: 61 of 106 with model UnivariateMotif for Validation 2\n",
      "61 - UnivariateMotif with avg smape 18.09: \n",
      "Model Number: 62 of 106 with model KalmanStateSpace for Validation 2\n",
      "62 - KalmanStateSpace with avg smape 16.19: \n",
      "Model Number: 63 of 106 with model ConstantNaive for Validation 2\n",
      "63 - ConstantNaive with avg smape 13.33: \n",
      "Model Number: 64 of 106 with model UnivariateMotif for Validation 2\n",
      "64 - UnivariateMotif with avg smape 12.2: \n",
      "Model Number: 65 of 106 with model FFT for Validation 2\n",
      "65 - FFT with avg smape 11.74: \n",
      "Model Number: 66 of 106 with model FFT for Validation 2\n",
      "66 - FFT with avg smape 11.74: \n",
      "Model Number: 67 of 106 with model FFT for Validation 2\n",
      "67 - FFT with avg smape 11.78: \n",
      "Model Number: 68 of 106 with model MetricMotif for Validation 2\n",
      "68 - MetricMotif with avg smape 11.24: \n",
      "Model Number: 69 of 106 with model KalmanStateSpace for Validation 2\n",
      "69 - KalmanStateSpace with avg smape 15.69: \n",
      "Model Number: 70 of 106 with model ConstantNaive for Validation 2\n",
      "70 - ConstantNaive with avg smape 13.82: \n",
      "Model Number: 71 of 106 with model NVAR for Validation 2\n",
      "71 - NVAR with avg smape 22.98: \n",
      "Model Number: 72 of 106 with model UnivariateMotif for Validation 2\n",
      "72 - UnivariateMotif with avg smape 12.33: \n",
      "Model Number: 73 of 106 with model UnivariateMotif for Validation 2\n",
      "73 - UnivariateMotif with avg smape 11.95: \n",
      "Model Number: 74 of 106 with model ConstantNaive for Validation 2\n",
      "74 - ConstantNaive with avg smape 12.2: \n",
      "Model Number: 75 of 106 with model ConstantNaive for Validation 2\n",
      "75 - ConstantNaive with avg smape 12.2: \n",
      "Model Number: 76 of 106 with model KalmanStateSpace for Validation 2\n",
      "76 - KalmanStateSpace with avg smape 26.97: \n",
      "Model Number: 77 of 106 with model GLS for Validation 2\n",
      "77 - GLS with avg smape 14.98: \n",
      "Model Number: 78 of 106 with model UnivariateMotif for Validation 2\n",
      "78 - UnivariateMotif with avg smape 12.88: \n",
      "Model Number: 79 of 106 with model MetricMotif for Validation 2\n",
      "79 - MetricMotif with avg smape 12.98: \n",
      "Model Number: 80 of 106 with model UnivariateMotif for Validation 2\n",
      "80 - UnivariateMotif with avg smape 14.24: \n",
      "Model Number: 81 of 106 with model GLM for Validation 2\n"
     ]
    },
    {
     "name": "stderr",
     "output_type": "stream",
     "text": [
      "/Users/i038849/Library/Python/3.9/lib/python/site-packages/statsmodels/genmod/generalized_linear_model.py:1342: PerfectSeparationWarning: Perfect separation or prediction detected, parameter may not be identified\n",
      "  warnings.warn(msg, category=PerfectSeparationWarning)\n",
      "/Users/i038849/Library/Python/3.9/lib/python/site-packages/statsmodels/genmod/generalized_linear_model.py:1342: PerfectSeparationWarning: Perfect separation or prediction detected, parameter may not be identified\n",
      "  warnings.warn(msg, category=PerfectSeparationWarning)\n"
     ]
    },
    {
     "name": "stdout",
     "output_type": "stream",
     "text": [
      "81 - GLM with avg smape 15.46: \n",
      "Model Number: 82 of 106 with model ConstantNaive for Validation 2\n",
      "82 - ConstantNaive with avg smape 12.85: \n",
      "Model Number: 83 of 106 with model MetricMotif for Validation 2\n",
      "83 - MetricMotif with avg smape 15.3: \n",
      "Model Number: 84 of 106 with model ConstantNaive for Validation 2\n",
      "84 - ConstantNaive with avg smape 15.08: \n",
      "Model Number: 85 of 106 with model DatepartRegression for Validation 2\n",
      "85 - DatepartRegression with avg smape 12.66: \n",
      "Model Number: 86 of 106 with model MetricMotif for Validation 2\n",
      "86 - MetricMotif with avg smape 12.24: \n",
      "Model Number: 87 of 106 with model GLS for Validation 2\n",
      "87 - GLS with avg smape 14.85: \n",
      "Model Number: 88 of 106 with model Cassandra for Validation 2\n",
      "88 - Cassandra with avg smape 81.09: \n",
      "Model Number: 89 of 106 with model RRVAR for Validation 2\n",
      "89 - RRVAR with avg smape 11.03: \n",
      "Model Number: 90 of 106 with model MetricMotif for Validation 2\n",
      "90 - MetricMotif with avg smape 18.67: \n",
      "Model Number: 91 of 106 with model SeasonalNaive for Validation 2\n",
      "91 - SeasonalNaive with avg smape 13.23: \n",
      "Model Number: 92 of 106 with model DatepartRegression for Validation 2\n"
     ]
    },
    {
     "name": "stderr",
     "output_type": "stream",
     "text": [
      "/Users/i038849/Library/Python/3.9/lib/python/site-packages/sklearn/neural_network/_multilayer_perceptron.py:546: ConvergenceWarning: lbfgs failed to converge (status=1):\n",
      "STOP: TOTAL NO. of ITERATIONS REACHED LIMIT.\n",
      "\n",
      "Increase the number of iterations (max_iter) or scale the data as shown in:\n",
      "    https://scikit-learn.org/stable/modules/preprocessing.html\n",
      "  self.n_iter_ = _check_optimize_result(\"lbfgs\", opt_res, self.max_iter)\n"
     ]
    },
    {
     "name": "stdout",
     "output_type": "stream",
     "text": [
      "92 - DatepartRegression with avg smape 11.62: \n",
      "Model Number: 93 of 106 with model UnivariateMotif for Validation 2\n",
      "93 - UnivariateMotif with avg smape 12.04: \n",
      "Model Number: 94 of 106 with model SeasonalityMotif for Validation 2\n",
      "94 - SeasonalityMotif with avg smape 16.85: \n",
      "Model Number: 95 of 106 with model UnivariateMotif for Validation 2\n",
      "95 - UnivariateMotif with avg smape 10.45: \n",
      "Model Number: 96 of 106 with model LastValueNaive for Validation 2\n",
      "96 - LastValueNaive with avg smape 26.6: \n",
      "Model Number: 97 of 106 with model SectionalMotif for Validation 2\n",
      "97 - SectionalMotif with avg smape 22.96: \n",
      "Model Number: 98 of 106 with model SeasonalityMotif for Validation 2\n",
      "98 - SeasonalityMotif with avg smape 21.06: \n",
      "Model Number: 99 of 106 with model UnivariateMotif for Validation 2\n",
      "99 - UnivariateMotif with avg smape 11.67: \n",
      "Model Number: 100 of 106 with model ETS for Validation 2\n",
      "100 - ETS with avg smape 14.82: \n",
      "Model Number: 101 of 106 with model RRVAR for Validation 2\n",
      "101 - RRVAR with avg smape 12.57: \n",
      "Model Number: 102 of 106 with model SectionalMotif for Validation 2\n",
      "102 - SectionalMotif with avg smape 27.36: \n",
      "Model Number: 103 of 106 with model MetricMotif for Validation 2\n",
      "103 - MetricMotif with avg smape 10.79: \n",
      "Model Number: 104 of 106 with model Cassandra for Validation 2\n",
      "104 - Cassandra with avg smape 17.84: \n",
      "Model Number: 105 of 106 with model SectionalMotif for Validation 2\n",
      "105 - SectionalMotif with avg smape 17.46: \n",
      "Model Number: 106 of 106 with model UnivariateMotif for Validation 2\n",
      "106 - UnivariateMotif with avg smape 13.14: \n"
     ]
    },
    {
     "name": "stderr",
     "output_type": "stream",
     "text": [
      "/Users/i038849/Library/Python/3.9/lib/python/site-packages/autots/models/ensemble.py:1181: FutureWarning: The behavior of DataFrame.idxmin with all-NA values, or any-NA and skipna=False, is deprecated. In a future version this will raise ValueError\n",
      "  cr_df = pd.DataFrame(per_series_des.idxmin()).transpose()\n",
      "/Users/i038849/Library/Python/3.9/lib/python/site-packages/autots/models/ensemble.py:1183: FutureWarning: The behavior of DataFrame.idxmin with all-NA values, or any-NA and skipna=False, is deprecated. In a future version this will raise ValueError\n",
      "  models_pos.extend(per_series_des.idxmin().tolist())\n",
      "/Users/i038849/Library/Python/3.9/lib/python/site-packages/autots/models/ensemble.py:1181: FutureWarning: The behavior of DataFrame.idxmin with all-NA values, or any-NA and skipna=False, is deprecated. In a future version this will raise ValueError\n",
      "  cr_df = pd.DataFrame(per_series_des.idxmin()).transpose()\n",
      "/Users/i038849/Library/Python/3.9/lib/python/site-packages/autots/models/ensemble.py:1183: FutureWarning: The behavior of DataFrame.idxmin with all-NA values, or any-NA and skipna=False, is deprecated. In a future version this will raise ValueError\n",
      "  models_pos.extend(per_series_des.idxmin().tolist())\n",
      "/Users/i038849/Library/Python/3.9/lib/python/site-packages/autots/models/ensemble.py:1181: FutureWarning: The behavior of DataFrame.idxmin with all-NA values, or any-NA and skipna=False, is deprecated. In a future version this will raise ValueError\n",
      "  cr_df = pd.DataFrame(per_series_des.idxmin()).transpose()\n",
      "/Users/i038849/Library/Python/3.9/lib/python/site-packages/autots/models/ensemble.py:1183: FutureWarning: The behavior of DataFrame.idxmin with all-NA values, or any-NA and skipna=False, is deprecated. In a future version this will raise ValueError\n",
      "  models_pos.extend(per_series_des.idxmin().tolist())\n",
      "/Users/i038849/Library/Python/3.9/lib/python/site-packages/autots/models/ensemble.py:1181: FutureWarning: The behavior of DataFrame.idxmin with all-NA values, or any-NA and skipna=False, is deprecated. In a future version this will raise ValueError\n",
      "  cr_df = pd.DataFrame(per_series_des.idxmin()).transpose()\n",
      "/Users/i038849/Library/Python/3.9/lib/python/site-packages/autots/models/ensemble.py:1183: FutureWarning: The behavior of DataFrame.idxmin with all-NA values, or any-NA and skipna=False, is deprecated. In a future version this will raise ValueError\n",
      "  models_pos.extend(per_series_des.idxmin().tolist())\n"
     ]
    },
    {
     "name": "stdout",
     "output_type": "stream",
     "text": [
      "Model Number: 821 with model Ensemble in generation 6 of Ensembles\n",
      "Model Number: 822 with model Ensemble in generation 6 of Ensembles\n",
      "Model Number: 823 with model Ensemble in generation 6 of Ensembles\n",
      "Model Number: 824 with model Ensemble in generation 6 of Ensembles\n",
      "Model Number: 825 with model Ensemble in generation 6 of Ensembles\n",
      "Model Number: 826 with model Ensemble in generation 6 of Ensembles\n",
      "Model Number: 827 with model Ensemble in generation 6 of Ensembles\n",
      "Model Number: 828 with model Ensemble in generation 6 of Ensembles\n",
      "Model Number: 829 with model Ensemble in generation 6 of Ensembles\n"
     ]
    },
    {
     "name": "stderr",
     "output_type": "stream",
     "text": [
      "/Users/i038849/Library/Python/3.9/lib/python/site-packages/statsmodels/genmod/generalized_linear_model.py:1342: PerfectSeparationWarning: Perfect separation or prediction detected, parameter may not be identified\n",
      "  warnings.warn(msg, category=PerfectSeparationWarning)\n",
      "/Users/i038849/Library/Python/3.9/lib/python/site-packages/statsmodels/genmod/generalized_linear_model.py:1342: PerfectSeparationWarning: Perfect separation or prediction detected, parameter may not be identified\n",
      "  warnings.warn(msg, category=PerfectSeparationWarning)\n"
     ]
    },
    {
     "name": "stdout",
     "output_type": "stream",
     "text": [
      "Model Number: 830 with model Ensemble in generation 6 of Ensembles\n",
      "Model Number: 831 with model Ensemble in generation 6 of Ensembles\n",
      "Model Number: 832 with model Ensemble in generation 6 of Ensembles\n",
      "Model Number: 833 with model Ensemble in generation 6 of Ensembles\n"
     ]
    },
    {
     "name": "stderr",
     "output_type": "stream",
     "text": [
      "/Users/i038849/Library/Python/3.9/lib/python/site-packages/sklearn/linear_model/_ridge.py:204: LinAlgWarning: Ill-conditioned matrix (rcond=4.53758e-25): result may not be accurate.\n",
      "  return linalg.solve(A, Xy, assume_a=\"pos\", overwrite_a=True).T\n"
     ]
    },
    {
     "name": "stdout",
     "output_type": "stream",
     "text": [
      "Model Number: 834 with model Ensemble in generation 6 of Ensembles\n"
     ]
    },
    {
     "name": "stderr",
     "output_type": "stream",
     "text": [
      "/Users/i038849/Library/Python/3.9/lib/python/site-packages/statsmodels/genmod/generalized_linear_model.py:1342: PerfectSeparationWarning: Perfect separation or prediction detected, parameter may not be identified\n",
      "  warnings.warn(msg, category=PerfectSeparationWarning)\n",
      "/Users/i038849/Library/Python/3.9/lib/python/site-packages/statsmodels/genmod/generalized_linear_model.py:1342: PerfectSeparationWarning: Perfect separation or prediction detected, parameter may not be identified\n",
      "  warnings.warn(msg, category=PerfectSeparationWarning)\n"
     ]
    },
    {
     "name": "stdout",
     "output_type": "stream",
     "text": [
      "Model Number: 835 with model Ensemble in generation 6 of Ensembles\n",
      "Validation Round: 1\n",
      "Model Number: 1 of 15 with model Ensemble for Validation 1\n",
      "📈 1 - Ensemble with avg smape 8.84: \n",
      "Model Number: 2 of 15 with model Ensemble for Validation 1\n",
      "2 - Ensemble with avg smape 9.69: \n",
      "Model Number: 3 of 15 with model Ensemble for Validation 1\n",
      "3 - Ensemble with avg smape 9.72: \n",
      "Model Number: 4 of 15 with model Ensemble for Validation 1\n",
      "4 - Ensemble with avg smape 8.84: \n",
      "Model Number: 5 of 15 with model Ensemble for Validation 1\n",
      "5 - Ensemble with avg smape 8.84: \n",
      "Model Number: 6 of 15 with model Ensemble for Validation 1\n",
      "6 - Ensemble with avg smape 9.33: \n",
      "Model Number: 7 of 15 with model Ensemble for Validation 1\n",
      "📈 7 - Ensemble with avg smape 7.74: \n",
      "Model Number: 8 of 15 with model Ensemble for Validation 1\n",
      "8 - Ensemble with avg smape 7.74: \n",
      "Model Number: 9 of 15 with model Ensemble for Validation 1\n"
     ]
    },
    {
     "name": "stderr",
     "output_type": "stream",
     "text": [
      "/Users/i038849/Library/Python/3.9/lib/python/site-packages/statsmodels/genmod/generalized_linear_model.py:1342: PerfectSeparationWarning: Perfect separation or prediction detected, parameter may not be identified\n",
      "  warnings.warn(msg, category=PerfectSeparationWarning)\n",
      "/Users/i038849/Library/Python/3.9/lib/python/site-packages/statsmodels/genmod/generalized_linear_model.py:1342: PerfectSeparationWarning: Perfect separation or prediction detected, parameter may not be identified\n",
      "  warnings.warn(msg, category=PerfectSeparationWarning)\n"
     ]
    },
    {
     "name": "stdout",
     "output_type": "stream",
     "text": [
      "9 - Ensemble with avg smape 9.2: \n",
      "Model Number: 10 of 15 with model Ensemble for Validation 1\n",
      "10 - Ensemble with avg smape 9.79: \n",
      "Model Number: 11 of 15 with model Ensemble for Validation 1\n",
      "11 - Ensemble with avg smape 12.54: \n",
      "Model Number: 12 of 15 with model Ensemble for Validation 1\n",
      "12 - Ensemble with avg smape 12.26: \n",
      "Model Number: 13 of 15 with model Ensemble for Validation 1\n"
     ]
    },
    {
     "name": "stderr",
     "output_type": "stream",
     "text": [
      "/Users/i038849/Library/Python/3.9/lib/python/site-packages/sklearn/linear_model/_ridge.py:204: LinAlgWarning: Ill-conditioned matrix (rcond=4.59594e-25): result may not be accurate.\n",
      "  return linalg.solve(A, Xy, assume_a=\"pos\", overwrite_a=True).T\n"
     ]
    },
    {
     "name": "stdout",
     "output_type": "stream",
     "text": [
      "13 - Ensemble with avg smape 10.96: \n",
      "Model Number: 14 of 15 with model Ensemble for Validation 1\n"
     ]
    },
    {
     "name": "stderr",
     "output_type": "stream",
     "text": [
      "/Users/i038849/Library/Python/3.9/lib/python/site-packages/statsmodels/genmod/generalized_linear_model.py:1342: PerfectSeparationWarning: Perfect separation or prediction detected, parameter may not be identified\n",
      "  warnings.warn(msg, category=PerfectSeparationWarning)\n",
      "/Users/i038849/Library/Python/3.9/lib/python/site-packages/statsmodels/genmod/generalized_linear_model.py:1342: PerfectSeparationWarning: Perfect separation or prediction detected, parameter may not be identified\n",
      "  warnings.warn(msg, category=PerfectSeparationWarning)\n"
     ]
    },
    {
     "name": "stdout",
     "output_type": "stream",
     "text": [
      "📈 14 - Ensemble with avg smape 7.37: \n",
      "Model Number: 15 of 15 with model Ensemble for Validation 1\n",
      "15 - Ensemble with avg smape 9.62: \n",
      "Validation Round: 2\n",
      "Model Number: 1 of 15 with model Ensemble for Validation 2\n",
      "📈 1 - Ensemble with avg smape 10.14: \n",
      "Model Number: 2 of 15 with model Ensemble for Validation 2\n",
      "2 - Ensemble with avg smape 11.33: \n",
      "Model Number: 3 of 15 with model Ensemble for Validation 2\n",
      "3 - Ensemble with avg smape 10.39: \n",
      "Model Number: 4 of 15 with model Ensemble for Validation 2\n",
      "📈 4 - Ensemble with avg smape 8.56: \n",
      "Model Number: 5 of 15 with model Ensemble for Validation 2\n",
      "5 - Ensemble with avg smape 10.14: \n",
      "Model Number: 6 of 15 with model Ensemble for Validation 2\n",
      "6 - Ensemble with avg smape 10.45: \n",
      "Model Number: 7 of 15 with model Ensemble for Validation 2\n",
      "7 - Ensemble with avg smape 9.8: \n",
      "Model Number: 8 of 15 with model Ensemble for Validation 2\n",
      "8 - Ensemble with avg smape 9.8: \n",
      "Model Number: 9 of 15 with model Ensemble for Validation 2\n"
     ]
    },
    {
     "name": "stderr",
     "output_type": "stream",
     "text": [
      "/Users/i038849/Library/Python/3.9/lib/python/site-packages/statsmodels/genmod/generalized_linear_model.py:1342: PerfectSeparationWarning: Perfect separation or prediction detected, parameter may not be identified\n",
      "  warnings.warn(msg, category=PerfectSeparationWarning)\n",
      "/Users/i038849/Library/Python/3.9/lib/python/site-packages/statsmodels/genmod/generalized_linear_model.py:1342: PerfectSeparationWarning: Perfect separation or prediction detected, parameter may not be identified\n",
      "  warnings.warn(msg, category=PerfectSeparationWarning)\n"
     ]
    },
    {
     "name": "stdout",
     "output_type": "stream",
     "text": [
      "9 - Ensemble with avg smape 10.27: \n",
      "Model Number: 10 of 15 with model Ensemble for Validation 2\n",
      "10 - Ensemble with avg smape 10.92: \n",
      "Model Number: 11 of 15 with model Ensemble for Validation 2\n",
      "11 - Ensemble with avg smape 11.91: \n",
      "Model Number: 12 of 15 with model Ensemble for Validation 2\n",
      "12 - Ensemble with avg smape 11.87: \n",
      "Model Number: 13 of 15 with model Ensemble for Validation 2\n"
     ]
    },
    {
     "name": "stderr",
     "output_type": "stream",
     "text": [
      "/Users/i038849/Library/Python/3.9/lib/python/site-packages/sklearn/linear_model/_ridge.py:204: LinAlgWarning: Ill-conditioned matrix (rcond=4.5107e-25): result may not be accurate.\n",
      "  return linalg.solve(A, Xy, assume_a=\"pos\", overwrite_a=True).T\n"
     ]
    },
    {
     "name": "stdout",
     "output_type": "stream",
     "text": [
      "13 - Ensemble with avg smape 16.66: \n",
      "Model Number: 14 of 15 with model Ensemble for Validation 2\n"
     ]
    },
    {
     "name": "stderr",
     "output_type": "stream",
     "text": [
      "/Users/i038849/Library/Python/3.9/lib/python/site-packages/statsmodels/genmod/generalized_linear_model.py:1342: PerfectSeparationWarning: Perfect separation or prediction detected, parameter may not be identified\n",
      "  warnings.warn(msg, category=PerfectSeparationWarning)\n",
      "/Users/i038849/Library/Python/3.9/lib/python/site-packages/statsmodels/genmod/generalized_linear_model.py:1342: PerfectSeparationWarning: Perfect separation or prediction detected, parameter may not be identified\n",
      "  warnings.warn(msg, category=PerfectSeparationWarning)\n"
     ]
    },
    {
     "name": "stdout",
     "output_type": "stream",
     "text": [
      "14 - Ensemble with avg smape 9.68: \n",
      "Model Number: 15 of 15 with model Ensemble for Validation 2\n",
      "15 - Ensemble with avg smape 10.53: \n",
      "Model Number: 1 with model Ensemble in generation 0 of Horizontal Ensembles\n"
     ]
    },
    {
     "name": "stderr",
     "output_type": "stream",
     "text": [
      "/Users/i038849/Library/Python/3.9/lib/python/site-packages/statsmodels/genmod/generalized_linear_model.py:1342: PerfectSeparationWarning: Perfect separation or prediction detected, parameter may not be identified\n",
      "  warnings.warn(msg, category=PerfectSeparationWarning)\n",
      "/Users/i038849/Library/Python/3.9/lib/python/site-packages/statsmodels/genmod/generalized_linear_model.py:1342: PerfectSeparationWarning: Perfect separation or prediction detected, parameter may not be identified\n",
      "  warnings.warn(msg, category=PerfectSeparationWarning)\n"
     ]
    },
    {
     "name": "stdout",
     "output_type": "stream",
     "text": [
      "Model Number: 2 with model Ensemble in generation 0 of Horizontal Ensembles\n"
     ]
    },
    {
     "name": "stderr",
     "output_type": "stream",
     "text": [
      "/Users/i038849/Library/Python/3.9/lib/python/site-packages/statsmodels/genmod/generalized_linear_model.py:1342: PerfectSeparationWarning: Perfect separation or prediction detected, parameter may not be identified\n",
      "  warnings.warn(msg, category=PerfectSeparationWarning)\n",
      "/Users/i038849/Library/Python/3.9/lib/python/site-packages/statsmodels/genmod/generalized_linear_model.py:1342: PerfectSeparationWarning: Perfect separation or prediction detected, parameter may not be identified\n",
      "  warnings.warn(msg, category=PerfectSeparationWarning)\n",
      "/Users/i038849/Library/Python/3.9/lib/python/site-packages/statsmodels/genmod/generalized_linear_model.py:1342: PerfectSeparationWarning: Perfect separation or prediction detected, parameter may not be identified\n",
      "  warnings.warn(msg, category=PerfectSeparationWarning)\n",
      "/Users/i038849/Library/Python/3.9/lib/python/site-packages/statsmodels/genmod/generalized_linear_model.py:1342: PerfectSeparationWarning: Perfect separation or prediction detected, parameter may not be identified\n",
      "  warnings.warn(msg, category=PerfectSeparationWarning)\n",
      "/Users/i038849/Library/Python/3.9/lib/python/site-packages/matplotlib/axis.py:1769: FutureWarning: Period with BDay freq is deprecated and will be removed in a future version. Use a DatetimeIndex with BDay freq instead.\n",
      "  ret = self.converter.convert(x, self.units, self)\n",
      "/Users/i038849/Library/Python/3.9/lib/python/site-packages/matplotlib/axis.py:1769: FutureWarning: PeriodDtype[B] is deprecated and will be removed in a future version. Use a DatetimeIndex with freq='B' instead\n",
      "  ret = self.converter.convert(x, self.units, self)\n",
      "/Users/i038849/Library/Python/3.9/lib/python/site-packages/matplotlib/axis.py:1769: FutureWarning: PeriodDtype[B] is deprecated and will be removed in a future version. Use a DatetimeIndex with freq='B' instead\n",
      "  ret = self.converter.convert(x, self.units, self)\n",
      "/Users/i038849/Library/Python/3.9/lib/python/site-packages/matplotlib/axis.py:1495: FutureWarning: Period with BDay freq is deprecated and will be removed in a future version. Use a DatetimeIndex with BDay freq instead.\n",
      "  return self.major.locator()\n",
      "/Users/i038849/Library/Python/3.9/lib/python/site-packages/matplotlib/axis.py:1495: FutureWarning: PeriodDtype[B] is deprecated and will be removed in a future version. Use a DatetimeIndex with freq='B' instead\n",
      "  return self.major.locator()\n",
      "/Users/i038849/Library/Python/3.9/lib/python/site-packages/matplotlib/ticker.py:216: FutureWarning: Period with BDay freq is deprecated and will be removed in a future version. Use a DatetimeIndex with BDay freq instead.\n",
      "  return [self(value, i) for i, value in enumerate(values)]\n",
      "/Users/i038849/Library/Python/3.9/lib/python/site-packages/matplotlib/axis.py:1769: FutureWarning: Period with BDay freq is deprecated and will be removed in a future version. Use a DatetimeIndex with BDay freq instead.\n",
      "  ret = self.converter.convert(x, self.units, self)\n"
     ]
    },
    {
     "name": "stdout",
     "output_type": "stream",
     "text": [
      "Initiated AutoTS object with best model: \n",
      "Ensemble\n",
      "{}\n",
      "{'model_name': 'Horizontal', 'model_count': 8, 'model_metric': 'Score-max', 'models': {'75a4fc11202784c75e0ec4f48982d836': {'Model': 'SeasonalityMotif', 'ModelParameters': '{\"window\": 10, \"point_method\": \"weighted_mean\", \"distance_metric\": \"mqae\", \"k\": 20, \"datepart_method\": \"simple_binarized\"}', 'TransformationParameters': '{\"fillna\": \"time\", \"transformations\": {\"0\": \"DatepartRegression\"}, \"transformation_params\": {\"0\": {\"regression_model\": {\"model\": \"ElasticNet\", \"model_params\": {}}, \"datepart_method\": \"expanded\", \"polynomial_degree\": null, \"transform_dict\": null, \"holiday_countries_used\": false}}}'}, 'be00503a2bd182ae50f385510a6a73a8': {'Model': 'UnivariateMotif', 'ModelParameters': '{\"window\": 28, \"point_method\": \"midhinge\", \"distance_metric\": \"cityblock\", \"k\": 3, \"max_windows\": 1000}', 'TransformationParameters': '{\"fillna\": \"ffill\", \"transformations\": {\"0\": \"QuantileTransformer\"}, \"transformation_params\": {\"0\": {\"output_distribution\": \"normal\", \"n_quantiles\": 20}}}'}, 'a28bbf1a2f9245656246da31cd8d4b4f': {'Model': 'GLM', 'ModelParameters': '{\"family\": \"Poisson\", \"constant\": false, \"regression_type\": \"datepart\"}', 'TransformationParameters': '{\"fillna\": \"time\", \"transformations\": {\"0\": \"DatepartRegression\", \"1\": \"QuantileTransformer\", \"2\": \"AlignLastValue\", \"3\": \"AlignLastValue\"}, \"transformation_params\": {\"0\": {\"regression_model\": {\"model\": \"ElasticNet\", \"model_params\": {}}, \"datepart_method\": \"expanded\", \"polynomial_degree\": null, \"transform_dict\": null, \"holiday_countries_used\": false}, \"1\": {\"output_distribution\": \"uniform\", \"n_quantiles\": 85}, \"2\": {\"rows\": 1, \"lag\": 1, \"method\": \"additive\", \"strength\": 1.0, \"first_value_only\": false}, \"3\": {\"rows\": 1, \"lag\": 1, \"method\": \"additive\", \"strength\": 0.9, \"first_value_only\": false}}}'}, '00b26b1cea9bd06079e0d71c8ca6d49c': {'Model': 'RRVAR', 'ModelParameters': '{\"method\": \"dmd\", \"rank\": 2, \"maxiter\": 200}', 'TransformationParameters': '{\"fillna\": \"quadratic\", \"transformations\": {\"0\": \"HistoricValues\", \"1\": \"StandardScaler\"}, \"transformation_params\": {\"0\": {\"window\": null}, \"1\": {}}}'}, '5c9f7c954f8d16fbee464dcf1aede87e': {'Model': 'SectionalMotif', 'ModelParameters': '{\"window\": 10, \"point_method\": \"median\", \"distance_metric\": \"jaccard\", \"include_differenced\": true, \"k\": 10, \"stride_size\": 1, \"regression_type\": null}', 'TransformationParameters': '{\"fillna\": \"ffill\", \"transformations\": {\"0\": \"bkfilter\", \"1\": \"DifferencedTransformer\"}, \"transformation_params\": {\"0\": {}, \"1\": {}}}'}, 'fe710b6f31b3129bf6fb7b1be1d94479': {'Model': 'AverageValueNaive', 'ModelParameters': '{\"method\": \"Mean\", \"window\": null}', 'TransformationParameters': '{\"fillna\": \"cubic\", \"transformations\": {\"0\": \"DatepartRegression\", \"1\": \"Slice\"}, \"transformation_params\": {\"0\": {\"regression_model\": {\"model\": \"ElasticNet\", \"model_params\": {}}, \"datepart_method\": \"expanded\", \"polynomial_degree\": null, \"transform_dict\": null, \"holiday_countries_used\": false}, \"1\": {\"method\": 0.5}}}'}, '3349f7d7c19fe45557f43cf7f0a35fc0': {'Model': 'SeasonalityMotif', 'ModelParameters': '{\"window\": 10, \"point_method\": \"weighted_mean\", \"distance_metric\": \"mqae\", \"k\": 15, \"datepart_method\": \"simple_binarized\"}', 'TransformationParameters': '{\"fillna\": \"akima\", \"transformations\": {\"0\": \"DatepartRegression\", \"1\": \"StandardScaler\", \"2\": \"AlignLastValue\"}, \"transformation_params\": {\"0\": {\"regression_model\": {\"model\": \"ElasticNet\", \"model_params\": {}}, \"datepart_method\": \"expanded\", \"polynomial_degree\": null, \"transform_dict\": null, \"holiday_countries_used\": false}, \"1\": {}, \"2\": {\"rows\": 1, \"lag\": 1, \"method\": \"additive\", \"strength\": 1.0, \"first_value_only\": false}}}'}, '848cdf0cc3b9c1dfc7fca17eea4db322': {'Model': 'Ensemble', 'ModelParameters': '{\"model_name\": \"BestN\", \"model_count\": 3, \"model_metric\": \"mixed_metric\", \"models\": {\"1745a207cec9cb9a388f9c64032bda49\": {\"Model\": \"DatepartRegression\", \"ModelParameters\": \"{\\\\\"regression_model\\\\\": {\\\\\"model\\\\\": \\\\\"ElasticNet\\\\\", \\\\\"model_params\\\\\": {}}, \\\\\"datepart_method\\\\\": \\\\\"simple\\\\\", \\\\\"polynomial_degree\\\\\": null, \\\\\"regression_type\\\\\": null}\", \"TransformationParameters\": \"{\\\\\"fillna\\\\\": \\\\\"piecewise_polynomial\\\\\", \\\\\"transformations\\\\\": {\\\\\"0\\\\\": \\\\\"DatepartRegression\\\\\", \\\\\"1\\\\\": \\\\\"StandardScaler\\\\\"}, \\\\\"transformation_params\\\\\": {\\\\\"0\\\\\": {\\\\\"regression_model\\\\\": {\\\\\"model\\\\\": \\\\\"ElasticNet\\\\\", \\\\\"model_params\\\\\": {}}, \\\\\"datepart_method\\\\\": \\\\\"expanded\\\\\", \\\\\"polynomial_degree\\\\\": null, \\\\\"transform_dict\\\\\": null, \\\\\"holiday_countries_used\\\\\": false}, \\\\\"1\\\\\": {}}}\"}, \"262d84cbba6d61f8ad0b2071576625aa\": {\"Model\": \"KalmanStateSpace\", \"ModelParameters\": \"{\\\\\"model_name\\\\\": \\\\\"local linear hidden state with seasonal 7\\\\\", \\\\\"state_transition\\\\\": [[1.0, 0.0, 0.0, 0.0, 0.0, 0.0, 0.0, 0.0], [0.0, -1.0, -1.0, -1.0, -1.0, -1.0, -1.0, 0.0], [0.0, 1.0, 0.0, 0.0, 0.0, 0.0, 0.0, 0.0], [0.0, 0.0, 1.0, 0.0, 0.0, 0.0, 0.0, 0.0], [0.0, 0.0, 0.0, 1.0, 0.0, 0.0, 0.0, 0.0], [0.0, 0.0, 0.0, 0.0, 1.0, 0.0, 0.0, 0.0], [0.0, 0.0, 0.0, 0.0, 0.0, 1.0, 0.0, 0.0], [0.0, 0.0, 0.0, 0.0, 0.0, 0.0, 1.0, 0.0]], \\\\\"process_noise\\\\\": [[0.0016, 0.0, 0.0, 0.0, 0.0, 0.0, 0.0, 0.0], [0.0, 1e-06, 0.0, 0.0, 0.0, 0.0, 0.0, 0.0], [0.0, 0.0, 0.0, 0.0, 0.0, 0.0, 0.0, 0.0], [0.0, 0.0, 0.0, 0.0, 0.0, 0.0, 0.0, 0.0], [0.0, 0.0, 0.0, 0.0, 0.0, 0.0, 0.0, 0.0], [0.0, 0.0, 0.0, 0.0, 0.0, 0.0, 0.0, 0.0], [0.0, 0.0, 0.0, 0.0, 0.0, 0.0, 0.0, 0.0], [0.0, 0.0, 0.0, 0.0, 0.0, 0.0, 0.0, 0.0]], \\\\\"observation_model\\\\\": [[1, 1, 0, 0, 0, 0, 0, 0]], \\\\\"observation_noise\\\\\": 0.5}\", \"TransformationParameters\": \"{\\\\\"fillna\\\\\": \\\\\"fake_date\\\\\", \\\\\"transformations\\\\\": {\\\\\"0\\\\\": \\\\\"DatepartRegression\\\\\", \\\\\"1\\\\\": \\\\\"StandardScaler\\\\\"}, \\\\\"transformation_params\\\\\": {\\\\\"0\\\\\": {\\\\\"regression_model\\\\\": {\\\\\"model\\\\\": \\\\\"ElasticNet\\\\\", \\\\\"model_params\\\\\": {}}, \\\\\"datepart_method\\\\\": \\\\\"expanded\\\\\", \\\\\"polynomial_degree\\\\\": null, \\\\\"transform_dict\\\\\": null, \\\\\"holiday_countries_used\\\\\": false}, \\\\\"1\\\\\": {}}}\"}, \"1ab2283c29553b8443e765d614528c04\": {\"Model\": \"MetricMotif\", \"ModelParameters\": \"{\\\\\"window\\\\\": 15, \\\\\"point_method\\\\\": \\\\\"median\\\\\", \\\\\"distance_metric\\\\\": \\\\\"canberra\\\\\", \\\\\"k\\\\\": 5, \\\\\"comparison_transformation\\\\\": {\\\\\"fillna\\\\\": \\\\\"quadratic\\\\\", \\\\\"transformations\\\\\": {\\\\\"0\\\\\": \\\\\"RobustScaler\\\\\"}, \\\\\"transformation_params\\\\\": {\\\\\"0\\\\\": {}}}, \\\\\"combination_transformation\\\\\": {\\\\\"fillna\\\\\": \\\\\"cubic\\\\\", \\\\\"transformations\\\\\": {\\\\\"0\\\\\": \\\\\"bkfilter\\\\\"}, \\\\\"transformation_params\\\\\": {\\\\\"0\\\\\": {}}}}\", \"TransformationParameters\": \"{\\\\\"fillna\\\\\": \\\\\"median\\\\\", \\\\\"transformations\\\\\": {\\\\\"0\\\\\": \\\\\"DatepartRegression\\\\\", \\\\\"1\\\\\": \\\\\"KalmanSmoothing\\\\\"}, \\\\\"transformation_params\\\\\": {\\\\\"0\\\\\": {\\\\\"regression_model\\\\\": {\\\\\"model\\\\\": \\\\\"ElasticNet\\\\\", \\\\\"model_params\\\\\": {}}, \\\\\"datepart_method\\\\\": \\\\\"expanded\\\\\", \\\\\"polynomial_degree\\\\\": null, \\\\\"transform_dict\\\\\": null, \\\\\"holiday_countries_used\\\\\": false}, \\\\\"1\\\\\": {\\\\\"model_name\\\\\": \\\\\"local linear hidden state with seasonal 7\\\\\", \\\\\"state_transition\\\\\": [[1.0, 0.0, 0.0, 0.0, 0.0, 0.0, 0.0, 0.0], [0.0, -1.0, -1.0, -1.0, -1.0, -1.0, -1.0, 0.0], [0.0, 1.0, 0.0, 0.0, 0.0, 0.0, 0.0, 0.0], [0.0, 0.0, 1.0, 0.0, 0.0, 0.0, 0.0, 0.0], [0.0, 0.0, 0.0, 1.0, 0.0, 0.0, 0.0, 0.0], [0.0, 0.0, 0.0, 0.0, 1.0, 0.0, 0.0, 0.0], [0.0, 0.0, 0.0, 0.0, 0.0, 1.0, 0.0, 0.0], [0.0, 0.0, 0.0, 0.0, 0.0, 0.0, 1.0, 0.0]], \\\\\"process_noise\\\\\": [[0.0016, 0.0, 0.0, 0.0, 0.0, 0.0, 0.0, 0.0], [0.0, 1e-06, 0.0, 0.0, 0.0, 0.0, 0.0, 0.0], [0.0, 0.0, 0.0, 0.0, 0.0, 0.0, 0.0, 0.0], [0.0, 0.0, 0.0, 0.0, 0.0, 0.0, 0.0, 0.0], [0.0, 0.0, 0.0, 0.0, 0.0, 0.0, 0.0, 0.0], [0.0, 0.0, 0.0, 0.0, 0.0, 0.0, 0.0, 0.0], [0.0, 0.0, 0.0, 0.0, 0.0, 0.0, 0.0, 0.0], [0.0, 0.0, 0.0, 0.0, 0.0, 0.0, 0.0, 0.0]], \\\\\"observation_model\\\\\": [[1, 1, 0, 0, 0, 0, 0, 0]], \\\\\"observation_noise\\\\\": 0.25, \\\\\"em_iter\\\\\": null}}}\"}}, \"model_weights\": {}, \"point_method\": \"mean\"}', 'TransformationParameters': '{}'}}, 'series': {'Unnamed: 0.1': '5c9f7c954f8d16fbee464dcf1aede87e', 'Unnamed: 0': 'be00503a2bd182ae50f385510a6a73a8', 'SYMBOL': '00b26b1cea9bd06079e0d71c8ca6d49c', 'SERIES': '00b26b1cea9bd06079e0d71c8ca6d49c', 'OPEN': 'a28bbf1a2f9245656246da31cd8d4b4f', 'HIGH': 'a28bbf1a2f9245656246da31cd8d4b4f', 'LOW': '3349f7d7c19fe45557f43cf7f0a35fc0', 'CLOSE': '3349f7d7c19fe45557f43cf7f0a35fc0', 'LAST': '3349f7d7c19fe45557f43cf7f0a35fc0', 'PREVCLOSE': '3349f7d7c19fe45557f43cf7f0a35fc0', 'TOTTRDQTY': '848cdf0cc3b9c1dfc7fca17eea4db322', 'TOTTRDVAL': '848cdf0cc3b9c1dfc7fca17eea4db322', 'TOTALTRADES': 'fe710b6f31b3129bf6fb7b1be1d94479', 'snapshot_dt': '75a4fc11202784c75e0ec4f48982d836'}}\n",
      "Validation: 0\n",
      "SMAPE: 9.815818672694192\n",
      "MAE: 92209556.0046248\n",
      "SPL: 0.5284069735302769\n"
     ]
    },
    {
     "name": "stderr",
     "output_type": "stream",
     "text": [
      "/Users/i038849/Library/Python/3.9/lib/python/site-packages/matplotlib/ticker.py:216: FutureWarning: Period with BDay freq is deprecated and will be removed in a future version. Use a DatetimeIndex with BDay freq instead.\n",
      "  return [self(value, i) for i, value in enumerate(values)]\n"
     ]
    },
    {
     "data": {
      "image/png": "[encoded data removed]",
      "text/plain": [
       "<Figure size 640x480 with 1 Axes>"
      ]
     },
     "metadata": {},
     "output_type": "display_data"
    }
   ],
   "source": [
    "#modelling \n",
    "from autots import AutoTS, load_daily\n",
    "model = AutoTS(\n",
    "    forecast_length=21,\n",
    "    frequency='infer',\n",
    "    prediction_interval=0.9,\n",
    "    ensemble='auto',\n",
    "    model_list=\"fast\",  # \"superfast\", \"default\", \"fast_parallel\"\n",
    "    transformer_list=\"fast\",  # \"superfast\",\n",
    "    drop_most_recent=1,\n",
    "    max_generations=4,\n",
    "    num_validations=2,\n",
    "    validation_method=\"backwards\"\n",
    ")\n",
    "model = model.fit(\n",
    "    df,\n",
    "    date_col='TIMESTAMP' if long else None,\n",
    "    value_col='CLOSE' if long else None,\n",
    "    id_col='SYMBOL' if long else None,\n",
    ")\n",
    "\n",
    "prediction = model.predict()\n",
    "# plot a sample\n",
    "prediction.plot(model.df_wide_numeric,\n",
    "                series=model.df_wide_numeric.columns[0],\n",
    "                start_date=\"2023-01-01\")\n",
    "# Print the details of the best model\n",
    "print(model)\n",
    "\n",
    "# point forecasts dataframe\n",
    "forecasts_df = prediction.forecast\n",
    "# upper and lower forecasts\n",
    "forecasts_up, forecasts_low = prediction.upper_forecast, prediction.lower_forecast\n",
    "\n",
    "# accuracy of all tried model results\n",
    "model_results = model.results()\n",
    "# and aggregated from cross validation\n",
    "validation_results = model.results(\"validation\")\n",
    "print(validation_results)"
   ]
  },
  {
   "cell_type": "code",
   "execution_count": null,
   "metadata": {},
   "outputs": [],
   "source": []
  }
 ],
 "metadata": {
  "kernelspec": {
   "display_name": "base",
   "language": "python",
   "name": "python3"
  },
  "language_info": {
   "codemirror_mode": {
    "name": "ipython",
    "version": 3
   },
   "file_extension": ".py",
   "mimetype": "text/x-python",
   "name": "python",
   "nbconvert_exporter": "python",
   "pygments_lexer": "ipython3",
   "version": "3.9.6"
  }
 },
 "nbformat": 4,
 "nbformat_minor": 2
}
