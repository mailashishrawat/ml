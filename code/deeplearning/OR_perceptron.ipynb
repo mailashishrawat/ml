{
 "cells": [
  {
   "cell_type": "markdown",
   "metadata": {
    "id": "sSnSx2SEsFcK"
   },
   "source": [
    "# Perceptron Network for OR data"
   ]
  },
  {
   "cell_type": "markdown",
   "metadata": {
    "id": "5Als8bRPsBrS"
   },
   "source": [
    "## Data\n",
    "\n",
    "We shall generate the OR data.\n",
    "\n",
    "x1 x2 -> y\n",
    "\n",
    "0 0 -> 0\n",
    "\n",
    "0 1 -> 1\n",
    "\n",
    "1 0 -> 1\n",
    "\n",
    "1 1 -> 1"
   ]
  },
  {
   "cell_type": "code",
   "execution_count": 1,
   "metadata": {
    "executionInfo": {
     "elapsed": 2919,
     "status": "ok",
     "timestamp": 1605116807713,
     "user": {
      "displayName": "Naveen Colab",
      "photoUrl": "",
      "userId": "15626251679927899334"
     },
     "user_tz": -330
    },
    "id": "1rXYaXXnrrVf"
   },
   "outputs": [],
   "source": [
    "import numpy as np"
   ]
  },
  {
   "cell_type": "code",
   "execution_count": 2,
   "metadata": {
    "executionInfo": {
     "elapsed": 2916,
     "status": "ok",
     "timestamp": 1605116807714,
     "user": {
      "displayName": "Naveen Colab",
      "photoUrl": "",
      "userId": "15626251679927899334"
     },
     "user_tz": -330
    },
    "id": "mC4Kqj_QrrVi"
   },
   "outputs": [],
   "source": [
    "num_inputs = 4"
   ]
  },
  {
   "cell_type": "code",
   "execution_count": 3,
   "metadata": {
    "executionInfo": {
     "elapsed": 2915,
     "status": "ok",
     "timestamp": 1605116807715,
     "user": {
      "displayName": "Naveen Colab",
      "photoUrl": "",
      "userId": "15626251679927899334"
     },
     "user_tz": -330
    },
    "id": "URuqdVMLrrVk"
   },
   "outputs": [],
   "source": [
    "input_array = np.array([\n",
    "    [0, 0],\n",
    "    [0, 1],\n",
    "    [1, 0],\n",
    "    [1, 1],\n",
    "])"
   ]
  },
  {
   "cell_type": "code",
   "execution_count": 4,
   "metadata": {
    "executionInfo": {
     "elapsed": 2913,
     "status": "ok",
     "timestamp": 1605116807715,
     "user": {
      "displayName": "Naveen Colab",
      "photoUrl": "",
      "userId": "15626251679927899334"
     },
     "user_tz": -330
    },
    "id": "hJehJ7LhrrVm"
   },
   "outputs": [
    {
     "ename": "",
     "evalue": "",
     "output_type": "error",
     "traceback": [
      "\u001b[1;31mThe Kernel crashed while executing code in the current cell or a previous cell. \n",
      "\u001b[1;31mPlease review the code in the cell(s) to identify a possible cause of the failure. \n",
      "\u001b[1;31mClick <a href='https://aka.ms/vscodeJupyterKernelCrash'>here</a> for more info. \n",
      "\u001b[1;31mView Jupyter <a href='command:jupyter.viewOutput'>log</a> for further details."
     ]
    }
   ],
   "source": [
    "# output data -- OR function\n",
    "output_array = np.array([0, 1, 1, 1])"
   ]
  },
  {
   "cell_type": "markdown",
   "metadata": {
    "id": "t6cNEyTRsWhi"
   },
   "source": [
    "## Perceptron Model"
   ]
  },
  {
   "cell_type": "markdown",
   "metadata": {
    "id": "toDttg9H4oeQ"
   },
   "source": [
    "### Importing libraries"
   ]
  },
  {
   "cell_type": "code",
   "execution_count": 5,
   "metadata": {
    "executionInfo": {
     "elapsed": 4453,
     "status": "ok",
     "timestamp": 1605116809256,
     "user": {
      "displayName": "Naveen Colab",
      "photoUrl": "",
      "userId": "15626251679927899334"
     },
     "user_tz": -330
    },
    "id": "UTqht8fj4o3j"
   },
   "outputs": [
    {
     "ename": "",
     "evalue": "",
     "output_type": "error",
     "traceback": [
      "\u001b[1;31mCanceled future for execute_request message before replies were done"
     ]
    },
    {
     "ename": "",
     "evalue": "",
     "output_type": "error",
     "traceback": [
      "\u001b[1;31mCanceled future for execute_request message before replies were done. \n",
      "\u001b[1;31mView Jupyter <a href='command:jupyter.viewOutput'>log</a> for further details."
     ]
    }
   ],
   "source": [
    "from tensorflow.keras.models import Sequential\n",
    "from tensorflow.keras.layers import Dense  # Fully Connected Layer\n",
    "from tensorflow.keras.optimizers import SGD "
   ]
  },
  {
   "cell_type": "markdown",
   "metadata": {
    "id": "aoIeOUKu5LSb"
   },
   "source": [
    "### Model Definition"
   ]
  },
  {
   "cell_type": "code",
   "execution_count": 6,
   "metadata": {
    "executionInfo": {
     "elapsed": 9838,
     "status": "ok",
     "timestamp": 1605116814642,
     "user": {
      "displayName": "Naveen Colab",
      "photoUrl": "",
      "userId": "15626251679927899334"
     },
     "user_tz": -330
    },
    "id": "xuqdgfyerrVu"
   },
   "outputs": [],
   "source": [
    "# Initialising the model, by creating an instance of Sequential API.\n",
    "classifier = Sequential()\n",
    "\n",
    "# Adding the input and output layer.\n",
    "classifier.add(Dense(input_shape = (2,), units=1, activation = 'sigmoid')) # Bias term is added by default\n"
   ]
  },
  {
   "cell_type": "code",
   "execution_count": null,
   "metadata": {
    "colab": {
     "base_uri": "https://localhost:8080/"
    },
    "executionInfo": {
     "elapsed": 9838,
     "status": "ok",
     "timestamp": 1605116814644,
     "user": {
      "displayName": "Naveen Colab",
      "photoUrl": "",
      "userId": "15626251679927899334"
     },
     "user_tz": -330
    },
    "id": "5wOhQrky5Rg0",
    "outputId": "d238ff0c-0e5d-4de4-823b-933ec8618863"
   },
   "outputs": [],
   "source": [
    "# Model Summary\n",
    "classifier.summary()"
   ]
  },
  {
   "cell_type": "code",
   "execution_count": 8,
   "metadata": {
    "executionInfo": {
     "elapsed": 9837,
     "status": "ok",
     "timestamp": 1605116814645,
     "user": {
      "displayName": "Naveen Colab",
      "photoUrl": "",
      "userId": "15626251679927899334"
     },
     "user_tz": -330
    },
    "id": "fDl1-YCf5KYB"
   },
   "outputs": [],
   "source": [
    "# Compiling the ANN i.e. configuring the model. \n",
    "# Commonly, we pass optimizer, loss and metrics as the parameter to the compile function.\n",
    "\n",
    "classifier.compile(optimizer = SGD(learning_rate=0.5), loss = 'binary_crossentropy', metrics = ['accuracy'])\n",
    "\n",
    "# optimizer - SGD is the algorithm used to minimize the loss function.\n",
    "# Loss - For binary classification problem, we use binary_crossentropy \n",
    "# metrics - This is the metric which is evaluated during training and validation."
   ]
  },
  {
   "cell_type": "code",
   "execution_count": null,
   "metadata": {
    "colab": {
     "base_uri": "https://localhost:8080/"
    },
    "executionInfo": {
     "elapsed": 13321,
     "status": "ok",
     "timestamp": 1605116818131,
     "user": {
      "displayName": "Naveen Colab",
      "photoUrl": "",
      "userId": "15626251679927899334"
     },
     "user_tz": -330
    },
    "id": "ymD6N7jRrrVw",
    "outputId": "22032673-7206-4c81-d3f1-5ce64c713b1c"
   },
   "outputs": [],
   "source": [
    "# Once we have compiled the model, we Fit the ANN model, by passing the training\n",
    "# data and the number of epochs.\n",
    "# Since we just have four data points, we did not pass \"batch size\" as a parameter.\n",
    "# By default, all the records are taken as a batch.\n",
    "\n",
    "classifier.fit(input_array, output_array, epochs = 100)"
   ]
  },
  {
   "cell_type": "markdown",
   "metadata": {
    "id": "YxzoauLS8ZlJ"
   },
   "source": [
    "### Model Prediction & Validation"
   ]
  },
  {
   "cell_type": "code",
   "execution_count": 10,
   "metadata": {
    "executionInfo": {
     "elapsed": 13319,
     "status": "ok",
     "timestamp": 1605116818131,
     "user": {
      "displayName": "Naveen Colab",
      "photoUrl": "",
      "userId": "15626251679927899334"
     },
     "user_tz": -330
    },
    "id": "3W177hhUrrVy"
   },
   "outputs": [],
   "source": [
    "y_pred = classifier.predict(input_array)\n",
    "y_pred = (y_pred > 0.5)  # 0.5 as the cut-off."
   ]
  },
  {
   "cell_type": "code",
   "execution_count": null,
   "metadata": {
    "colab": {
     "base_uri": "https://localhost:8080/"
    },
    "executionInfo": {
     "elapsed": 13657,
     "status": "ok",
     "timestamp": 1605116818470,
     "user": {
      "displayName": "Naveen Colab",
      "photoUrl": "",
      "userId": "15626251679927899334"
     },
     "user_tz": -330
    },
    "id": "KgfwsLRGrrV0",
    "outputId": "cc9119f9-8a56-453e-ad52-fab6382f7042"
   },
   "outputs": [],
   "source": [
    "# Accuracy Score\n",
    "from sklearn.metrics import accuracy_score\n",
    "print('Accuracy:', accuracy_score(y_pred, output_array))"
   ]
  },
  {
   "cell_type": "markdown",
   "metadata": {
    "id": "bxUmiebBQh7A"
   },
   "source": [
    "We see that after just few epochs the model's accuracy is 100%, which means it is able to classify all the points correctly."
   ]
  }
 ],
 "metadata": {
  "accelerator": "GPU",
  "colab": {
   "collapsed_sections": [],
   "name": "OR_perceptron_tf_keras.ipynb",
   "provenance": [],
   "toc_visible": true
  },
  "kernelspec": {
   "display_name": "Python 3 (ipykernel)",
   "language": "python",
   "name": "python3"
  },
  "language_info": {
   "codemirror_mode": {
    "name": "ipython",
    "version": 3
   },
   "file_extension": ".py",
   "mimetype": "text/x-python",
   "name": "python",
   "nbconvert_exporter": "python",
   "pygments_lexer": "ipython3",
   "version": "3.11.0rc1"
  }
 },
 "nbformat": 4,
 "nbformat_minor": 0
}
